{
  "nbformat": 4,
  "nbformat_minor": 0,
  "metadata": {
    "colab": {
      "provenance": []
    },
    "kernelspec": {
      "name": "ir",
      "display_name": "R"
    },
    "language_info": {
      "name": "R"
    }
  },
  "cells": [
    {
      "cell_type": "markdown",
      "source": [
        "I don't have very much experience in **R** aside from a ~8 hour bootcamp Udemy course I took in Jan 2022. I coded (most of) my entire thesis work in Python mostly through scripts in the command line, and did most of my portfolio and online data science/ML courses using Python with Jupyter notebooks - so Python is much more comfortable to me at this time. I however made it a priority to do the *Analysis* portion of this exercise in **R** as I am aware from the job posting and first interview that **R** is more standard for programming with your company. Given the opportunity to work with you all, I would be very excited to learn more **R**/Tidyverse!\n",
        "\n",
        "While I appreciate Jupyter Notebooks are NOT the standard for **R** coding, I think this format will allow for better commenting of my work.\n",
        "\n",
        "This portion of the project is done in a Jupyter Notebook, this code is in **R** and was done in Google Colab."
      ],
      "metadata": {
        "id": "mf08vxMH6bvL"
      }
    },
    {
      "cell_type": "code",
      "execution_count": 1,
      "metadata": {
        "colab": {
          "base_uri": "https://localhost:8080/"
        },
        "id": "jnr-Pf5z6Gxo",
        "outputId": "9e922ba4-12c1-41c0-a674-93e740905d59"
      },
      "outputs": [
        {
          "output_type": "stream",
          "name": "stderr",
          "text": [
            "Installing package into ‘/usr/local/lib/R/site-library’\n",
            "(as ‘lib’ is unspecified)\n",
            "\n",
            "also installing the dependencies ‘textshaping’, ‘ragg’\n",
            "\n",
            "\n",
            "Warning message in install.packages(\"tidyverse\"):\n",
            "“installation of package ‘textshaping’ had non-zero exit status”\n",
            "Warning message in install.packages(\"tidyverse\"):\n",
            "“installation of package ‘ragg’ had non-zero exit status”\n",
            "Warning message in install.packages(\"tidyverse\"):\n",
            "“installation of package ‘tidyverse’ had non-zero exit status”\n",
            "Installing package into ‘/usr/local/lib/R/site-library’\n",
            "(as ‘lib’ is unspecified)\n",
            "\n",
            "Installing package into ‘/usr/local/lib/R/site-library’\n",
            "(as ‘lib’ is unspecified)\n",
            "\n",
            "── \u001b[1mAttaching packages\u001b[22m ─────────────────────────────────────── tidyverse 1.3.1 ──\n",
            "\n",
            "\u001b[32m✔\u001b[39m \u001b[34mggplot2\u001b[39m 3.4.2     \u001b[32m✔\u001b[39m \u001b[34mpurrr  \u001b[39m 1.0.1\n",
            "\u001b[32m✔\u001b[39m \u001b[34mtibble \u001b[39m 3.2.1     \u001b[32m✔\u001b[39m \u001b[34mdplyr  \u001b[39m 1.1.2\n",
            "\u001b[32m✔\u001b[39m \u001b[34mtidyr  \u001b[39m 1.3.0     \u001b[32m✔\u001b[39m \u001b[34mstringr\u001b[39m 1.5.0\n",
            "\u001b[32m✔\u001b[39m \u001b[34mreadr  \u001b[39m 2.1.4     \u001b[32m✔\u001b[39m \u001b[34mforcats\u001b[39m 1.0.0\n",
            "\n",
            "── \u001b[1mConflicts\u001b[22m ────────────────────────────────────────── tidyverse_conflicts() ──\n",
            "\u001b[31m✖\u001b[39m \u001b[34mdplyr\u001b[39m::\u001b[32mfilter()\u001b[39m masks \u001b[34mstats\u001b[39m::filter()\n",
            "\u001b[31m✖\u001b[39m \u001b[34mdplyr\u001b[39m::\u001b[32mlag()\u001b[39m    masks \u001b[34mstats\u001b[39m::lag()\n",
            "\n",
            "\n",
            "Attaching package: ‘lubridate’\n",
            "\n",
            "\n",
            "The following objects are masked from ‘package:base’:\n",
            "\n",
            "    date, intersect, setdiff, union\n",
            "\n",
            "\n"
          ]
        }
      ],
      "source": [
        "install.packages(\"tidyverse\")\n",
        "install.packages(\"lubridate\")\n",
        "install.packages(\"openxlsx\", dependencies = TRUE)\n",
        "\n",
        "library(tidyverse)\n",
        "library(lubridate)\n",
        "library(openxlsx)"
      ]
    },
    {
      "cell_type": "markdown",
      "source": [
        "First I will load the CSV files into tables."
      ],
      "metadata": {
        "id": "m40gpjZ58Xc4"
      }
    },
    {
      "cell_type": "code",
      "source": [
        "aTC <- read_csv('DataAnalyst_Ecom_data_addsToCart.csv') #addsToCart table\n",
        "sC <- read_csv('DataAnalyst_Ecom_data_sessionCounts.csv') #sessionCounts table"
      ],
      "metadata": {
        "colab": {
          "base_uri": "https://localhost:8080/"
        },
        "id": "uqOD9lMT7S_D",
        "outputId": "34f73737-d8cd-4f04-e448-7deb279ea167"
      },
      "execution_count": 2,
      "outputs": [
        {
          "output_type": "stream",
          "name": "stderr",
          "text": [
            "\u001b[1mRows: \u001b[22m\u001b[34m12\u001b[39m \u001b[1mColumns: \u001b[22m\u001b[34m3\u001b[39m\n",
            "\u001b[36m──\u001b[39m \u001b[1mColumn specification\u001b[22m \u001b[36m────────────────────────────────────────────────────────\u001b[39m\n",
            "\u001b[1mDelimiter:\u001b[22m \",\"\n",
            "\u001b[32mdbl\u001b[39m (3): dim_year, dim_month, addsToCart\n",
            "\n",
            "\u001b[36mℹ\u001b[39m Use `spec()` to retrieve the full column specification for this data.\n",
            "\u001b[36mℹ\u001b[39m Specify the column types or set `show_col_types = FALSE` to quiet this message.\n",
            "\u001b[1mRows: \u001b[22m\u001b[34m7734\u001b[39m \u001b[1mColumns: \u001b[22m\u001b[34m6\u001b[39m\n",
            "\u001b[36m──\u001b[39m \u001b[1mColumn specification\u001b[22m \u001b[36m────────────────────────────────────────────────────────\u001b[39m\n",
            "\u001b[1mDelimiter:\u001b[22m \",\"\n",
            "\u001b[31mchr\u001b[39m (3): dim_browser, dim_deviceCategory, dim_date\n",
            "\u001b[32mdbl\u001b[39m (3): sessions, transactions, QTY\n",
            "\n",
            "\u001b[36mℹ\u001b[39m Use `spec()` to retrieve the full column specification for this data.\n",
            "\u001b[36mℹ\u001b[39m Specify the column types or set `show_col_types = FALSE` to quiet this message.\n"
          ]
        }
      ]
    },
    {
      "cell_type": "code",
      "source": [
        "#check the first few rows of each\n",
        "head(aTC)"
      ],
      "metadata": {
        "colab": {
          "base_uri": "https://localhost:8080/",
          "height": 286
        },
        "id": "lLXSLG0b71he",
        "outputId": "89d86762-f8a3-44d6-b141-0b53a13886ad"
      },
      "execution_count": 3,
      "outputs": [
        {
          "output_type": "display_data",
          "data": {
            "text/html": [
              "<table class=\"dataframe\">\n",
              "<caption>A tibble: 6 × 3</caption>\n",
              "<thead>\n",
              "\t<tr><th scope=col>dim_year</th><th scope=col>dim_month</th><th scope=col>addsToCart</th></tr>\n",
              "\t<tr><th scope=col>&lt;dbl&gt;</th><th scope=col>&lt;dbl&gt;</th><th scope=col>&lt;dbl&gt;</th></tr>\n",
              "</thead>\n",
              "<tbody>\n",
              "\t<tr><td>2012</td><td> 7</td><td>191504</td></tr>\n",
              "\t<tr><td>2012</td><td> 8</td><td>217666</td></tr>\n",
              "\t<tr><td>2012</td><td> 9</td><td>123726</td></tr>\n",
              "\t<tr><td>2012</td><td>10</td><td>139803</td></tr>\n",
              "\t<tr><td>2012</td><td>11</td><td>186572</td></tr>\n",
              "\t<tr><td>2012</td><td>12</td><td>168972</td></tr>\n",
              "</tbody>\n",
              "</table>\n"
            ],
            "text/markdown": "\nA tibble: 6 × 3\n\n| dim_year &lt;dbl&gt; | dim_month &lt;dbl&gt; | addsToCart &lt;dbl&gt; |\n|---|---|---|\n| 2012 |  7 | 191504 |\n| 2012 |  8 | 217666 |\n| 2012 |  9 | 123726 |\n| 2012 | 10 | 139803 |\n| 2012 | 11 | 186572 |\n| 2012 | 12 | 168972 |\n\n",
            "text/latex": "A tibble: 6 × 3\n\\begin{tabular}{lll}\n dim\\_year & dim\\_month & addsToCart\\\\\n <dbl> & <dbl> & <dbl>\\\\\n\\hline\n\t 2012 &  7 & 191504\\\\\n\t 2012 &  8 & 217666\\\\\n\t 2012 &  9 & 123726\\\\\n\t 2012 & 10 & 139803\\\\\n\t 2012 & 11 & 186572\\\\\n\t 2012 & 12 & 168972\\\\\n\\end{tabular}\n",
            "text/plain": [
              "  dim_year dim_month addsToCart\n",
              "1 2012      7        191504    \n",
              "2 2012      8        217666    \n",
              "3 2012      9        123726    \n",
              "4 2012     10        139803    \n",
              "5 2012     11        186572    \n",
              "6 2012     12        168972    "
            ]
          },
          "metadata": {}
        }
      ]
    },
    {
      "cell_type": "code",
      "source": [
        "head(sC)"
      ],
      "metadata": {
        "colab": {
          "base_uri": "https://localhost:8080/",
          "height": 286
        },
        "id": "R60VA7sj773C",
        "outputId": "252eba9c-0dd3-41b9-ef39-3f35e366af9d"
      },
      "execution_count": 4,
      "outputs": [
        {
          "output_type": "display_data",
          "data": {
            "text/html": [
              "<table class=\"dataframe\">\n",
              "<caption>A tibble: 6 × 6</caption>\n",
              "<thead>\n",
              "\t<tr><th scope=col>dim_browser</th><th scope=col>dim_deviceCategory</th><th scope=col>dim_date</th><th scope=col>sessions</th><th scope=col>transactions</th><th scope=col>QTY</th></tr>\n",
              "\t<tr><th scope=col>&lt;chr&gt;</th><th scope=col>&lt;chr&gt;</th><th scope=col>&lt;chr&gt;</th><th scope=col>&lt;dbl&gt;</th><th scope=col>&lt;dbl&gt;</th><th scope=col>&lt;dbl&gt;</th></tr>\n",
              "</thead>\n",
              "<tbody>\n",
              "\t<tr><td>Safari           </td><td>tablet </td><td>7/1/12</td><td>2928</td><td>127</td><td>221</td></tr>\n",
              "\t<tr><td>Internet Explorer</td><td>desktop</td><td>7/1/12</td><td>1106</td><td> 28</td><td>  0</td></tr>\n",
              "\t<tr><td>Chrome           </td><td>tablet </td><td>7/1/12</td><td> 474</td><td>  3</td><td> 13</td></tr>\n",
              "\t<tr><td>Amazon Silk      </td><td>tablet </td><td>7/1/12</td><td> 235</td><td>  4</td><td>  5</td></tr>\n",
              "\t<tr><td>Internet Explorer</td><td>mobile </td><td>7/1/12</td><td> 178</td><td>  6</td><td> 11</td></tr>\n",
              "\t<tr><td>Internet Explorer</td><td>tablet </td><td>7/1/12</td><td> 120</td><td>  7</td><td>  0</td></tr>\n",
              "</tbody>\n",
              "</table>\n"
            ],
            "text/markdown": "\nA tibble: 6 × 6\n\n| dim_browser &lt;chr&gt; | dim_deviceCategory &lt;chr&gt; | dim_date &lt;chr&gt; | sessions &lt;dbl&gt; | transactions &lt;dbl&gt; | QTY &lt;dbl&gt; |\n|---|---|---|---|---|---|\n| Safari            | tablet  | 7/1/12 | 2928 | 127 | 221 |\n| Internet Explorer | desktop | 7/1/12 | 1106 |  28 |   0 |\n| Chrome            | tablet  | 7/1/12 |  474 |   3 |  13 |\n| Amazon Silk       | tablet  | 7/1/12 |  235 |   4 |   5 |\n| Internet Explorer | mobile  | 7/1/12 |  178 |   6 |  11 |\n| Internet Explorer | tablet  | 7/1/12 |  120 |   7 |   0 |\n\n",
            "text/latex": "A tibble: 6 × 6\n\\begin{tabular}{llllll}\n dim\\_browser & dim\\_deviceCategory & dim\\_date & sessions & transactions & QTY\\\\\n <chr> & <chr> & <chr> & <dbl> & <dbl> & <dbl>\\\\\n\\hline\n\t Safari            & tablet  & 7/1/12 & 2928 & 127 & 221\\\\\n\t Internet Explorer & desktop & 7/1/12 & 1106 &  28 &   0\\\\\n\t Chrome            & tablet  & 7/1/12 &  474 &   3 &  13\\\\\n\t Amazon Silk       & tablet  & 7/1/12 &  235 &   4 &   5\\\\\n\t Internet Explorer & mobile  & 7/1/12 &  178 &   6 &  11\\\\\n\t Internet Explorer & tablet  & 7/1/12 &  120 &   7 &   0\\\\\n\\end{tabular}\n",
            "text/plain": [
              "  dim_browser       dim_deviceCategory dim_date sessions transactions QTY\n",
              "1 Safari            tablet             7/1/12   2928     127          221\n",
              "2 Internet Explorer desktop            7/1/12   1106      28            0\n",
              "3 Chrome            tablet             7/1/12    474       3           13\n",
              "4 Amazon Silk       tablet             7/1/12    235       4            5\n",
              "5 Internet Explorer mobile             7/1/12    178       6           11\n",
              "6 Internet Explorer tablet             7/1/12    120       7            0"
            ]
          },
          "metadata": {}
        }
      ]
    },
    {
      "cell_type": "markdown",
      "source": [
        "The **sessionCounts* table's *dim_date* variable is in mo/day/year format, so we'll want to break that up.\n",
        "\n",
        "As I'm new to doing this sort of thing in **R** I Googled this, and found the following link: https://community.rstudio.com/t/converting-dates-year-month-day-to-3-separate-columns-year-month-day/8585/2\n",
        "\n",
        "\"A\" process is using the *lubridate* library (deals with date-times) and then through *dplyr*'s *mutate* and with syntax:\n",
        "\n",
        "```\n",
        "x %>%\n",
        "  dplyr::mutate(year = lubridate::year(date),\n",
        "                month = lubridate::month(date),\n",
        "                day = lubridate::day(date))\n",
        "```\n",
        "\n"
      ],
      "metadata": {
        "id": "ID5Q3AuD84AX"
      }
    },
    {
      "cell_type": "code",
      "source": [
        "#test code here to troubleshoot the date conversion\n",
        "p <- mdy(sC$dim_date[1]) #mdy takes my current mo/day/year format and converts it\n",
        "\n",
        "year(p)\n",
        "month(p)\n",
        "day(p)"
      ],
      "metadata": {
        "colab": {
          "base_uri": "https://localhost:8080/",
          "height": 69
        },
        "id": "20OrlYLM_WWZ",
        "outputId": "f0c5c858-b891-4ccc-c297-70e0da5734ae"
      },
      "execution_count": 5,
      "outputs": [
        {
          "output_type": "display_data",
          "data": {
            "text/html": [
              "2012"
            ],
            "text/markdown": "2012",
            "text/latex": "2012",
            "text/plain": [
              "[1] 2012"
            ]
          },
          "metadata": {}
        },
        {
          "output_type": "display_data",
          "data": {
            "text/html": [
              "7"
            ],
            "text/markdown": "7",
            "text/latex": "7",
            "text/plain": [
              "[1] 7"
            ]
          },
          "metadata": {}
        },
        {
          "output_type": "display_data",
          "data": {
            "text/html": [
              "1"
            ],
            "text/markdown": "1",
            "text/latex": "1",
            "text/plain": [
              "[1] 1"
            ]
          },
          "metadata": {}
        }
      ]
    },
    {
      "cell_type": "code",
      "source": [
        "#This command will split my date into month, day, and year, and create new columns for those\n",
        "\n",
        "sC = sC %>%\n",
        "  dplyr::mutate(dim_year = lubridate::year(mdy(dim_date)),\n",
        "                dim_month = lubridate::month(mdy(dim_date)),\n",
        "                dim_day = lubridate::day(mdy(dim_date)))"
      ],
      "metadata": {
        "id": "-GePy18k8fmK"
      },
      "execution_count": 6,
      "outputs": []
    },
    {
      "cell_type": "code",
      "source": [
        "head(sC)"
      ],
      "metadata": {
        "colab": {
          "base_uri": "https://localhost:8080/",
          "height": 286
        },
        "id": "7ejdjJHgCk_M",
        "outputId": "dd3fd4e6-e351-4470-c536-1542c9d48b0d"
      },
      "execution_count": 7,
      "outputs": [
        {
          "output_type": "display_data",
          "data": {
            "text/html": [
              "<table class=\"dataframe\">\n",
              "<caption>A tibble: 6 × 9</caption>\n",
              "<thead>\n",
              "\t<tr><th scope=col>dim_browser</th><th scope=col>dim_deviceCategory</th><th scope=col>dim_date</th><th scope=col>sessions</th><th scope=col>transactions</th><th scope=col>QTY</th><th scope=col>dim_year</th><th scope=col>dim_month</th><th scope=col>dim_day</th></tr>\n",
              "\t<tr><th scope=col>&lt;chr&gt;</th><th scope=col>&lt;chr&gt;</th><th scope=col>&lt;chr&gt;</th><th scope=col>&lt;dbl&gt;</th><th scope=col>&lt;dbl&gt;</th><th scope=col>&lt;dbl&gt;</th><th scope=col>&lt;dbl&gt;</th><th scope=col>&lt;dbl&gt;</th><th scope=col>&lt;int&gt;</th></tr>\n",
              "</thead>\n",
              "<tbody>\n",
              "\t<tr><td>Safari           </td><td>tablet </td><td>7/1/12</td><td>2928</td><td>127</td><td>221</td><td>2012</td><td>7</td><td>1</td></tr>\n",
              "\t<tr><td>Internet Explorer</td><td>desktop</td><td>7/1/12</td><td>1106</td><td> 28</td><td>  0</td><td>2012</td><td>7</td><td>1</td></tr>\n",
              "\t<tr><td>Chrome           </td><td>tablet </td><td>7/1/12</td><td> 474</td><td>  3</td><td> 13</td><td>2012</td><td>7</td><td>1</td></tr>\n",
              "\t<tr><td>Amazon Silk      </td><td>tablet </td><td>7/1/12</td><td> 235</td><td>  4</td><td>  5</td><td>2012</td><td>7</td><td>1</td></tr>\n",
              "\t<tr><td>Internet Explorer</td><td>mobile </td><td>7/1/12</td><td> 178</td><td>  6</td><td> 11</td><td>2012</td><td>7</td><td>1</td></tr>\n",
              "\t<tr><td>Internet Explorer</td><td>tablet </td><td>7/1/12</td><td> 120</td><td>  7</td><td>  0</td><td>2012</td><td>7</td><td>1</td></tr>\n",
              "</tbody>\n",
              "</table>\n"
            ],
            "text/markdown": "\nA tibble: 6 × 9\n\n| dim_browser &lt;chr&gt; | dim_deviceCategory &lt;chr&gt; | dim_date &lt;chr&gt; | sessions &lt;dbl&gt; | transactions &lt;dbl&gt; | QTY &lt;dbl&gt; | dim_year &lt;dbl&gt; | dim_month &lt;dbl&gt; | dim_day &lt;int&gt; |\n|---|---|---|---|---|---|---|---|---|\n| Safari            | tablet  | 7/1/12 | 2928 | 127 | 221 | 2012 | 7 | 1 |\n| Internet Explorer | desktop | 7/1/12 | 1106 |  28 |   0 | 2012 | 7 | 1 |\n| Chrome            | tablet  | 7/1/12 |  474 |   3 |  13 | 2012 | 7 | 1 |\n| Amazon Silk       | tablet  | 7/1/12 |  235 |   4 |   5 | 2012 | 7 | 1 |\n| Internet Explorer | mobile  | 7/1/12 |  178 |   6 |  11 | 2012 | 7 | 1 |\n| Internet Explorer | tablet  | 7/1/12 |  120 |   7 |   0 | 2012 | 7 | 1 |\n\n",
            "text/latex": "A tibble: 6 × 9\n\\begin{tabular}{lllllllll}\n dim\\_browser & dim\\_deviceCategory & dim\\_date & sessions & transactions & QTY & dim\\_year & dim\\_month & dim\\_day\\\\\n <chr> & <chr> & <chr> & <dbl> & <dbl> & <dbl> & <dbl> & <dbl> & <int>\\\\\n\\hline\n\t Safari            & tablet  & 7/1/12 & 2928 & 127 & 221 & 2012 & 7 & 1\\\\\n\t Internet Explorer & desktop & 7/1/12 & 1106 &  28 &   0 & 2012 & 7 & 1\\\\\n\t Chrome            & tablet  & 7/1/12 &  474 &   3 &  13 & 2012 & 7 & 1\\\\\n\t Amazon Silk       & tablet  & 7/1/12 &  235 &   4 &   5 & 2012 & 7 & 1\\\\\n\t Internet Explorer & mobile  & 7/1/12 &  178 &   6 &  11 & 2012 & 7 & 1\\\\\n\t Internet Explorer & tablet  & 7/1/12 &  120 &   7 &   0 & 2012 & 7 & 1\\\\\n\\end{tabular}\n",
            "text/plain": [
              "  dim_browser       dim_deviceCategory dim_date sessions transactions QTY\n",
              "1 Safari            tablet             7/1/12   2928     127          221\n",
              "2 Internet Explorer desktop            7/1/12   1106      28            0\n",
              "3 Chrome            tablet             7/1/12    474       3           13\n",
              "4 Amazon Silk       tablet             7/1/12    235       4            5\n",
              "5 Internet Explorer mobile             7/1/12    178       6           11\n",
              "6 Internet Explorer tablet             7/1/12    120       7            0\n",
              "  dim_year dim_month dim_day\n",
              "1 2012     7         1      \n",
              "2 2012     7         1      \n",
              "3 2012     7         1      \n",
              "4 2012     7         1      \n",
              "5 2012     7         1      \n",
              "6 2012     7         1      "
            ]
          },
          "metadata": {}
        }
      ]
    },
    {
      "cell_type": "markdown",
      "source": [
        "As *dim_date* is now redundant and *dim_day* doesn't show up in the **addsToCart** table, I will remove them from the **sessionCounts** table."
      ],
      "metadata": {
        "id": "kIUgMlHbAvhF"
      }
    },
    {
      "cell_type": "code",
      "source": [
        "sC <- select(sC, -c(dim_date,dim_day))"
      ],
      "metadata": {
        "id": "8fIDtw6gBx_E"
      },
      "execution_count": 8,
      "outputs": []
    },
    {
      "cell_type": "code",
      "source": [
        "head(sC)"
      ],
      "metadata": {
        "colab": {
          "base_uri": "https://localhost:8080/",
          "height": 286
        },
        "id": "uzLxOqbaCY5Y",
        "outputId": "1b1b87d4-a42e-4f6e-d828-9786224f8d5f"
      },
      "execution_count": 9,
      "outputs": [
        {
          "output_type": "display_data",
          "data": {
            "text/html": [
              "<table class=\"dataframe\">\n",
              "<caption>A tibble: 6 × 7</caption>\n",
              "<thead>\n",
              "\t<tr><th scope=col>dim_browser</th><th scope=col>dim_deviceCategory</th><th scope=col>sessions</th><th scope=col>transactions</th><th scope=col>QTY</th><th scope=col>dim_year</th><th scope=col>dim_month</th></tr>\n",
              "\t<tr><th scope=col>&lt;chr&gt;</th><th scope=col>&lt;chr&gt;</th><th scope=col>&lt;dbl&gt;</th><th scope=col>&lt;dbl&gt;</th><th scope=col>&lt;dbl&gt;</th><th scope=col>&lt;dbl&gt;</th><th scope=col>&lt;dbl&gt;</th></tr>\n",
              "</thead>\n",
              "<tbody>\n",
              "\t<tr><td>Safari           </td><td>tablet </td><td>2928</td><td>127</td><td>221</td><td>2012</td><td>7</td></tr>\n",
              "\t<tr><td>Internet Explorer</td><td>desktop</td><td>1106</td><td> 28</td><td>  0</td><td>2012</td><td>7</td></tr>\n",
              "\t<tr><td>Chrome           </td><td>tablet </td><td> 474</td><td>  3</td><td> 13</td><td>2012</td><td>7</td></tr>\n",
              "\t<tr><td>Amazon Silk      </td><td>tablet </td><td> 235</td><td>  4</td><td>  5</td><td>2012</td><td>7</td></tr>\n",
              "\t<tr><td>Internet Explorer</td><td>mobile </td><td> 178</td><td>  6</td><td> 11</td><td>2012</td><td>7</td></tr>\n",
              "\t<tr><td>Internet Explorer</td><td>tablet </td><td> 120</td><td>  7</td><td>  0</td><td>2012</td><td>7</td></tr>\n",
              "</tbody>\n",
              "</table>\n"
            ],
            "text/markdown": "\nA tibble: 6 × 7\n\n| dim_browser &lt;chr&gt; | dim_deviceCategory &lt;chr&gt; | sessions &lt;dbl&gt; | transactions &lt;dbl&gt; | QTY &lt;dbl&gt; | dim_year &lt;dbl&gt; | dim_month &lt;dbl&gt; |\n|---|---|---|---|---|---|---|\n| Safari            | tablet  | 2928 | 127 | 221 | 2012 | 7 |\n| Internet Explorer | desktop | 1106 |  28 |   0 | 2012 | 7 |\n| Chrome            | tablet  |  474 |   3 |  13 | 2012 | 7 |\n| Amazon Silk       | tablet  |  235 |   4 |   5 | 2012 | 7 |\n| Internet Explorer | mobile  |  178 |   6 |  11 | 2012 | 7 |\n| Internet Explorer | tablet  |  120 |   7 |   0 | 2012 | 7 |\n\n",
            "text/latex": "A tibble: 6 × 7\n\\begin{tabular}{lllllll}\n dim\\_browser & dim\\_deviceCategory & sessions & transactions & QTY & dim\\_year & dim\\_month\\\\\n <chr> & <chr> & <dbl> & <dbl> & <dbl> & <dbl> & <dbl>\\\\\n\\hline\n\t Safari            & tablet  & 2928 & 127 & 221 & 2012 & 7\\\\\n\t Internet Explorer & desktop & 1106 &  28 &   0 & 2012 & 7\\\\\n\t Chrome            & tablet  &  474 &   3 &  13 & 2012 & 7\\\\\n\t Amazon Silk       & tablet  &  235 &   4 &   5 & 2012 & 7\\\\\n\t Internet Explorer & mobile  &  178 &   6 &  11 & 2012 & 7\\\\\n\t Internet Explorer & tablet  &  120 &   7 &   0 & 2012 & 7\\\\\n\\end{tabular}\n",
            "text/plain": [
              "  dim_browser       dim_deviceCategory sessions transactions QTY dim_year\n",
              "1 Safari            tablet             2928     127          221 2012    \n",
              "2 Internet Explorer desktop            1106      28            0 2012    \n",
              "3 Chrome            tablet              474       3           13 2012    \n",
              "4 Amazon Silk       tablet              235       4            5 2012    \n",
              "5 Internet Explorer mobile              178       6           11 2012    \n",
              "6 Internet Explorer tablet              120       7            0 2012    \n",
              "  dim_month\n",
              "1 7        \n",
              "2 7        \n",
              "3 7        \n",
              "4 7        \n",
              "5 7        \n",
              "6 7        "
            ]
          },
          "metadata": {}
        }
      ]
    },
    {
      "cell_type": "markdown",
      "source": [
        "Now we need to aggregate the data in the **sessionCounts** table, ignoring *dim_browser* and *dim_deviceCategory* columns. These however may be useful for other exploratory data later - so it might make sense to aggregate the other metrics into the **addsToCart** table.\n",
        "\n",
        "This also is at the edge of my knowledge in **R**, so I'm going to reference a Python Pandas to Tidyverse site: https://thatdatatho.com/from-tidyverse-to-pandas-and-back-an-introduction-to-data-wrangling-with-pyhton-and-r/\n",
        "\n",
        "In all honesty, while I have exposure to the Python alternative in Pandas for such a method, I probably would have done most of this manually with *For Loops* had I not struck upon this example. As the approach here is far more fluid, I will not attempt to loop this and thank those from that link above."
      ],
      "metadata": {
        "id": "C-oFZ1QXCoDy"
      }
    },
    {
      "cell_type": "code",
      "source": [
        "temp_sC <- sC %>%\n",
        "  dplyr::select(-c(dim_browser,dim_deviceCategory)) %>% #ignore dim_browser and dim_deviceCategory\n",
        "  dplyr::group_by(dim_year,dim_month) %>%\n",
        "  #dplyr::summarise(sessions_month = mean(sessions, na.rm = TRUE)) %>%\n",
        "  dplyr::summarise(sessions_month = mean(sessions, na.rm = TRUE),\n",
        "    transactions_month = mean(transactions, na.rm = TRUE),\n",
        "    QTY_month = mean(QTY, na.rm = TRUE)) %>%\n",
        "  #dplyr::summarise(transactions_month = mean(transactions, na.rm = TRUE)) %>%\n",
        "  #dplyr::summarise(QTY_month = mean(QTY, na.rm = TRUE)) %>%\n",
        "  dplyr::ungroup() %>%\n",
        "  dplyr::arrange(dim_year,dim_month)"
      ],
      "metadata": {
        "colab": {
          "base_uri": "https://localhost:8080/"
        },
        "id": "FGsBjII3CfMk",
        "outputId": "171bb508-a39c-4695-bbe8-8d83262df3ac"
      },
      "execution_count": 10,
      "outputs": [
        {
          "output_type": "stream",
          "name": "stderr",
          "text": [
            "\u001b[1m\u001b[22m`summarise()` has grouped output by 'dim_year'. You can override using the\n",
            "`.groups` argument.\n"
          ]
        }
      ]
    },
    {
      "cell_type": "code",
      "source": [
        "head(temp_sC)"
      ],
      "metadata": {
        "colab": {
          "base_uri": "https://localhost:8080/",
          "height": 286
        },
        "id": "Omn69nOCHdSL",
        "outputId": "0fb150d7-5809-4ad5-a8e9-37e0325ad894"
      },
      "execution_count": 11,
      "outputs": [
        {
          "output_type": "display_data",
          "data": {
            "text/html": [
              "<table class=\"dataframe\">\n",
              "<caption>A tibble: 6 × 5</caption>\n",
              "<thead>\n",
              "\t<tr><th scope=col>dim_year</th><th scope=col>dim_month</th><th scope=col>sessions_month</th><th scope=col>transactions_month</th><th scope=col>QTY_month</th></tr>\n",
              "\t<tr><th scope=col>&lt;dbl&gt;</th><th scope=col>&lt;dbl&gt;</th><th scope=col>&lt;dbl&gt;</th><th scope=col>&lt;dbl&gt;</th><th scope=col>&lt;dbl&gt;</th></tr>\n",
              "</thead>\n",
              "<tbody>\n",
              "\t<tr><td>2012</td><td> 7</td><td>1325.153</td><td>31.31207</td><td>54.83448</td></tr>\n",
              "\t<tr><td>2012</td><td> 8</td><td>1373.110</td><td>32.18531</td><td>57.84307</td></tr>\n",
              "\t<tr><td>2012</td><td> 9</td><td>1179.098</td><td>27.86121</td><td>50.58007</td></tr>\n",
              "\t<tr><td>2012</td><td>10</td><td>1097.528</td><td>24.15398</td><td>45.05245</td></tr>\n",
              "\t<tr><td>2012</td><td>11</td><td>1062.967</td><td>25.87833</td><td>46.88667</td></tr>\n",
              "\t<tr><td>2012</td><td>12</td><td>1257.379</td><td>31.73408</td><td>55.33758</td></tr>\n",
              "</tbody>\n",
              "</table>\n"
            ],
            "text/markdown": "\nA tibble: 6 × 5\n\n| dim_year &lt;dbl&gt; | dim_month &lt;dbl&gt; | sessions_month &lt;dbl&gt; | transactions_month &lt;dbl&gt; | QTY_month &lt;dbl&gt; |\n|---|---|---|---|---|\n| 2012 |  7 | 1325.153 | 31.31207 | 54.83448 |\n| 2012 |  8 | 1373.110 | 32.18531 | 57.84307 |\n| 2012 |  9 | 1179.098 | 27.86121 | 50.58007 |\n| 2012 | 10 | 1097.528 | 24.15398 | 45.05245 |\n| 2012 | 11 | 1062.967 | 25.87833 | 46.88667 |\n| 2012 | 12 | 1257.379 | 31.73408 | 55.33758 |\n\n",
            "text/latex": "A tibble: 6 × 5\n\\begin{tabular}{lllll}\n dim\\_year & dim\\_month & sessions\\_month & transactions\\_month & QTY\\_month\\\\\n <dbl> & <dbl> & <dbl> & <dbl> & <dbl>\\\\\n\\hline\n\t 2012 &  7 & 1325.153 & 31.31207 & 54.83448\\\\\n\t 2012 &  8 & 1373.110 & 32.18531 & 57.84307\\\\\n\t 2012 &  9 & 1179.098 & 27.86121 & 50.58007\\\\\n\t 2012 & 10 & 1097.528 & 24.15398 & 45.05245\\\\\n\t 2012 & 11 & 1062.967 & 25.87833 & 46.88667\\\\\n\t 2012 & 12 & 1257.379 & 31.73408 & 55.33758\\\\\n\\end{tabular}\n",
            "text/plain": [
              "  dim_year dim_month sessions_month transactions_month QTY_month\n",
              "1 2012      7        1325.153       31.31207           54.83448 \n",
              "2 2012      8        1373.110       32.18531           57.84307 \n",
              "3 2012      9        1179.098       27.86121           50.58007 \n",
              "4 2012     10        1097.528       24.15398           45.05245 \n",
              "5 2012     11        1062.967       25.87833           46.88667 \n",
              "6 2012     12        1257.379       31.73408           55.33758 "
            ]
          },
          "metadata": {}
        }
      ]
    },
    {
      "cell_type": "code",
      "source": [
        "#add new column ECR\n",
        "\n",
        "temp_sC <- temp_sC %>%\n",
        "  mutate(ECR_month=transactions_month/sessions_month)"
      ],
      "metadata": {
        "id": "vxi5K2mOHvv0"
      },
      "execution_count": 12,
      "outputs": []
    },
    {
      "cell_type": "markdown",
      "source": [
        "Now add Aggregated data to the original **addsToCart** table. We'll do an inner join on month+year."
      ],
      "metadata": {
        "id": "yJ_0ZlNaKYq2"
      }
    },
    {
      "cell_type": "code",
      "source": [
        "agg_data <- aTC %>% inner_join(temp_sC)"
      ],
      "metadata": {
        "colab": {
          "base_uri": "https://localhost:8080/"
        },
        "id": "UKjdU2dGJ0jC",
        "outputId": "50a86023-96cb-4bf6-cd04-3d5bfd5686e9"
      },
      "execution_count": 13,
      "outputs": [
        {
          "output_type": "stream",
          "name": "stderr",
          "text": [
            "\u001b[1m\u001b[22mJoining with `by = join_by(dim_year, dim_month)`\n"
          ]
        }
      ]
    },
    {
      "cell_type": "code",
      "source": [
        "head(agg_data)"
      ],
      "metadata": {
        "colab": {
          "base_uri": "https://localhost:8080/",
          "height": 286
        },
        "id": "vnJymllKKq9P",
        "outputId": "5ec34c2a-9c29-41aa-9cb3-dc7c0d61d5b5"
      },
      "execution_count": 14,
      "outputs": [
        {
          "output_type": "display_data",
          "data": {
            "text/html": [
              "<table class=\"dataframe\">\n",
              "<caption>A tibble: 6 × 7</caption>\n",
              "<thead>\n",
              "\t<tr><th scope=col>dim_year</th><th scope=col>dim_month</th><th scope=col>addsToCart</th><th scope=col>sessions_month</th><th scope=col>transactions_month</th><th scope=col>QTY_month</th><th scope=col>ECR_month</th></tr>\n",
              "\t<tr><th scope=col>&lt;dbl&gt;</th><th scope=col>&lt;dbl&gt;</th><th scope=col>&lt;dbl&gt;</th><th scope=col>&lt;dbl&gt;</th><th scope=col>&lt;dbl&gt;</th><th scope=col>&lt;dbl&gt;</th><th scope=col>&lt;dbl&gt;</th></tr>\n",
              "</thead>\n",
              "<tbody>\n",
              "\t<tr><td>2012</td><td> 7</td><td>191504</td><td>1325.153</td><td>31.31207</td><td>54.83448</td><td>0.02362901</td></tr>\n",
              "\t<tr><td>2012</td><td> 8</td><td>217666</td><td>1373.110</td><td>32.18531</td><td>57.84307</td><td>0.02343971</td></tr>\n",
              "\t<tr><td>2012</td><td> 9</td><td>123726</td><td>1179.098</td><td>27.86121</td><td>50.58007</td><td>0.02362926</td></tr>\n",
              "\t<tr><td>2012</td><td>10</td><td>139803</td><td>1097.528</td><td>24.15398</td><td>45.05245</td><td>0.02200762</td></tr>\n",
              "\t<tr><td>2012</td><td>11</td><td>186572</td><td>1062.967</td><td>25.87833</td><td>46.88667</td><td>0.02434539</td></tr>\n",
              "\t<tr><td>2012</td><td>12</td><td>168972</td><td>1257.379</td><td>31.73408</td><td>55.33758</td><td>0.02523827</td></tr>\n",
              "</tbody>\n",
              "</table>\n"
            ],
            "text/markdown": "\nA tibble: 6 × 7\n\n| dim_year &lt;dbl&gt; | dim_month &lt;dbl&gt; | addsToCart &lt;dbl&gt; | sessions_month &lt;dbl&gt; | transactions_month &lt;dbl&gt; | QTY_month &lt;dbl&gt; | ECR_month &lt;dbl&gt; |\n|---|---|---|---|---|---|---|\n| 2012 |  7 | 191504 | 1325.153 | 31.31207 | 54.83448 | 0.02362901 |\n| 2012 |  8 | 217666 | 1373.110 | 32.18531 | 57.84307 | 0.02343971 |\n| 2012 |  9 | 123726 | 1179.098 | 27.86121 | 50.58007 | 0.02362926 |\n| 2012 | 10 | 139803 | 1097.528 | 24.15398 | 45.05245 | 0.02200762 |\n| 2012 | 11 | 186572 | 1062.967 | 25.87833 | 46.88667 | 0.02434539 |\n| 2012 | 12 | 168972 | 1257.379 | 31.73408 | 55.33758 | 0.02523827 |\n\n",
            "text/latex": "A tibble: 6 × 7\n\\begin{tabular}{lllllll}\n dim\\_year & dim\\_month & addsToCart & sessions\\_month & transactions\\_month & QTY\\_month & ECR\\_month\\\\\n <dbl> & <dbl> & <dbl> & <dbl> & <dbl> & <dbl> & <dbl>\\\\\n\\hline\n\t 2012 &  7 & 191504 & 1325.153 & 31.31207 & 54.83448 & 0.02362901\\\\\n\t 2012 &  8 & 217666 & 1373.110 & 32.18531 & 57.84307 & 0.02343971\\\\\n\t 2012 &  9 & 123726 & 1179.098 & 27.86121 & 50.58007 & 0.02362926\\\\\n\t 2012 & 10 & 139803 & 1097.528 & 24.15398 & 45.05245 & 0.02200762\\\\\n\t 2012 & 11 & 186572 & 1062.967 & 25.87833 & 46.88667 & 0.02434539\\\\\n\t 2012 & 12 & 168972 & 1257.379 & 31.73408 & 55.33758 & 0.02523827\\\\\n\\end{tabular}\n",
            "text/plain": [
              "  dim_year dim_month addsToCart sessions_month transactions_month QTY_month\n",
              "1 2012      7        191504     1325.153       31.31207           54.83448 \n",
              "2 2012      8        217666     1373.110       32.18531           57.84307 \n",
              "3 2012      9        123726     1179.098       27.86121           50.58007 \n",
              "4 2012     10        139803     1097.528       24.15398           45.05245 \n",
              "5 2012     11        186572     1062.967       25.87833           46.88667 \n",
              "6 2012     12        168972     1257.379       31.73408           55.33758 \n",
              "  ECR_month \n",
              "1 0.02362901\n",
              "2 0.02343971\n",
              "3 0.02362926\n",
              "4 0.02200762\n",
              "5 0.02434539\n",
              "6 0.02523827"
            ]
          },
          "metadata": {}
        }
      ]
    },
    {
      "cell_type": "markdown",
      "source": [
        "Now for the *Month over Month comparison (for the most recent two months in the data)* calculations.\n",
        "\n",
        "I am new to industry, this is not a calculation I was familiar with, so I googled some examples: #https://www.infoworld.com/article/3404276/how-to-calculate-month-over-month-changes-in-r.html\n",
        "\n",
        "So,\n",
        "\n",
        "${\\rm Month \\ over \\ Month} = \\frac{\\rm Current \\ Month - Last \\ Month}{\\rm Last \\ Month}$\n",
        "\n",
        "and by extension *over the last two months* might mean,\n",
        "\n",
        "${\\rm Month \\ over \\ Month \\ (two \\ months)} = \\frac{\\rm Current \\ Month - Month \\ Before \\ Last}{\\rm Month \\ Before \\ Last}$\n",
        "\n",
        "As I'm not 100% sure of the later, I'm emailed that question, and was told the *two month* equation was an appropriate interpretation of that question.\n",
        "\n",
        "Note: *lag* function shifts the time step back *n* iterations, assuming everything is sorted\n"
      ],
      "metadata": {
        "id": "Xf_M4h7UK_Xf"
      }
    },
    {
      "cell_type": "code",
      "source": [
        "#manually create the MoM values\n",
        "\n",
        "#I did try this using dplyr methods, however ran into an issue where I got NA values, presumably due to rounding - 5-10 minutes of Googling didn't solve the problem\n",
        "MoM_dim_year = agg_data$dim_year\n",
        "MoM_dim_month = agg_data$dim_month\n",
        "MoM_addsToCart = round((agg_data$addsToCart - lag(agg_data$addsToCart)) / lag(agg_data$addsToCart) * 100,1)\n",
        "MoM_sessions = round((agg_data$sessions_month - lag(agg_data$sessions_month)) / lag(agg_data$sessions_month) * 100,1)\n",
        "MoM_transactions = round((agg_data$transactions_month - lag(agg_data$transactions_month)) / lag(agg_data$transactions_month) * 100,1)\n",
        "MoM_QTY = round((agg_data$QTY_month - lag(agg_data$QTY_month)) / lag(agg_data$QTY_month) * 100,1)\n",
        "MoM_ECR = round((agg_data$ECR_month - lag(agg_data$ECR_month)) / lag(agg_data$ECR_month) * 100,1)"
      ],
      "metadata": {
        "id": "_JieoT8-qk6H"
      },
      "execution_count": 15,
      "outputs": []
    },
    {
      "cell_type": "code",
      "source": [
        "#put MoM arrays into a table\n",
        "MoM <- as_tibble(data.frame(MoM_dim_year,MoM_dim_month,\n",
        "  MoM_addsToCart,MoM_sessions,MoM_transactions,MoM_QTY,MoM_ECR))\n",
        "\n",
        "MoM <- MoM[-1,] #get rid of NA row created before there was data to iterate over"
      ],
      "metadata": {
        "id": "Qm0QbvWkknBQ"
      },
      "execution_count": 16,
      "outputs": []
    },
    {
      "cell_type": "code",
      "source": [
        "#check calculation\n",
        "head(MoM)"
      ],
      "metadata": {
        "colab": {
          "base_uri": "https://localhost:8080/",
          "height": 286
        },
        "id": "xv8h8dKXknNt",
        "outputId": "7d8940d8-f230-456f-a863-08e36a90080a"
      },
      "execution_count": 17,
      "outputs": [
        {
          "output_type": "display_data",
          "data": {
            "text/html": [
              "<table class=\"dataframe\">\n",
              "<caption>A tibble: 6 × 7</caption>\n",
              "<thead>\n",
              "\t<tr><th scope=col>MoM_dim_year</th><th scope=col>MoM_dim_month</th><th scope=col>MoM_addsToCart</th><th scope=col>MoM_sessions</th><th scope=col>MoM_transactions</th><th scope=col>MoM_QTY</th><th scope=col>MoM_ECR</th></tr>\n",
              "\t<tr><th scope=col>&lt;dbl&gt;</th><th scope=col>&lt;dbl&gt;</th><th scope=col>&lt;dbl&gt;</th><th scope=col>&lt;dbl&gt;</th><th scope=col>&lt;dbl&gt;</th><th scope=col>&lt;dbl&gt;</th><th scope=col>&lt;dbl&gt;</th></tr>\n",
              "</thead>\n",
              "<tbody>\n",
              "\t<tr><td>2012</td><td> 8</td><td> 13.7</td><td>  3.6</td><td>  2.8</td><td>  5.5</td><td>-0.8</td></tr>\n",
              "\t<tr><td>2012</td><td> 9</td><td>-43.2</td><td>-14.1</td><td>-13.4</td><td>-12.6</td><td> 0.8</td></tr>\n",
              "\t<tr><td>2012</td><td>10</td><td> 13.0</td><td> -6.9</td><td>-13.3</td><td>-10.9</td><td>-6.9</td></tr>\n",
              "\t<tr><td>2012</td><td>11</td><td> 33.5</td><td> -3.1</td><td>  7.1</td><td>  4.1</td><td>10.6</td></tr>\n",
              "\t<tr><td>2012</td><td>12</td><td> -9.4</td><td> 18.3</td><td> 22.6</td><td> 18.0</td><td> 3.7</td></tr>\n",
              "\t<tr><td>2013</td><td> 1</td><td>-12.6</td><td> 17.0</td><td> 11.0</td><td> 14.7</td><td>-5.1</td></tr>\n",
              "</tbody>\n",
              "</table>\n"
            ],
            "text/markdown": "\nA tibble: 6 × 7\n\n| MoM_dim_year &lt;dbl&gt; | MoM_dim_month &lt;dbl&gt; | MoM_addsToCart &lt;dbl&gt; | MoM_sessions &lt;dbl&gt; | MoM_transactions &lt;dbl&gt; | MoM_QTY &lt;dbl&gt; | MoM_ECR &lt;dbl&gt; |\n|---|---|---|---|---|---|---|\n| 2012 |  8 |  13.7 |   3.6 |   2.8 |   5.5 | -0.8 |\n| 2012 |  9 | -43.2 | -14.1 | -13.4 | -12.6 |  0.8 |\n| 2012 | 10 |  13.0 |  -6.9 | -13.3 | -10.9 | -6.9 |\n| 2012 | 11 |  33.5 |  -3.1 |   7.1 |   4.1 | 10.6 |\n| 2012 | 12 |  -9.4 |  18.3 |  22.6 |  18.0 |  3.7 |\n| 2013 |  1 | -12.6 |  17.0 |  11.0 |  14.7 | -5.1 |\n\n",
            "text/latex": "A tibble: 6 × 7\n\\begin{tabular}{lllllll}\n MoM\\_dim\\_year & MoM\\_dim\\_month & MoM\\_addsToCart & MoM\\_sessions & MoM\\_transactions & MoM\\_QTY & MoM\\_ECR\\\\\n <dbl> & <dbl> & <dbl> & <dbl> & <dbl> & <dbl> & <dbl>\\\\\n\\hline\n\t 2012 &  8 &  13.7 &   3.6 &   2.8 &   5.5 & -0.8\\\\\n\t 2012 &  9 & -43.2 & -14.1 & -13.4 & -12.6 &  0.8\\\\\n\t 2012 & 10 &  13.0 &  -6.9 & -13.3 & -10.9 & -6.9\\\\\n\t 2012 & 11 &  33.5 &  -3.1 &   7.1 &   4.1 & 10.6\\\\\n\t 2012 & 12 &  -9.4 &  18.3 &  22.6 &  18.0 &  3.7\\\\\n\t 2013 &  1 & -12.6 &  17.0 &  11.0 &  14.7 & -5.1\\\\\n\\end{tabular}\n",
            "text/plain": [
              "  MoM_dim_year MoM_dim_month MoM_addsToCart MoM_sessions MoM_transactions\n",
              "1 2012          8             13.7            3.6          2.8           \n",
              "2 2012          9            -43.2          -14.1        -13.4           \n",
              "3 2012         10             13.0           -6.9        -13.3           \n",
              "4 2012         11             33.5           -3.1          7.1           \n",
              "5 2012         12             -9.4           18.3         22.6           \n",
              "6 2013          1            -12.6           17.0         11.0           \n",
              "  MoM_QTY MoM_ECR\n",
              "1   5.5   -0.8   \n",
              "2 -12.6    0.8   \n",
              "3 -10.9   -6.9   \n",
              "4   4.1   10.6   \n",
              "5  18.0    3.7   \n",
              "6  14.7   -5.1   "
            ]
          },
          "metadata": {}
        }
      ]
    },
    {
      "cell_type": "code",
      "source": [
        "# MoM for most recent two months\n",
        "\n",
        "#manually create the MoM values, since the above doesn't work\n",
        "MoM2_dim_year = agg_data$dim_year\n",
        "MoM2_dim_month = agg_data$dim_month\n",
        "MoM2_addsToCart = round((agg_data$addsToCart - lag(agg_data$addsToCart,2)) / lag(agg_data$addsToCart,2) * 100,1)\n",
        "MoM2_sessions = round((agg_data$sessions_month - lag(agg_data$sessions_month,2)) / lag(agg_data$sessions_month,2) * 100,1)\n",
        "MoM2_transactions = round((agg_data$transactions_month - lag(agg_data$transactions_month,2)) / lag(agg_data$transactions_month,2) * 100,1)\n",
        "MoM2_QTY = round((agg_data$QTY_month - lag(agg_data$QTY_month,2)) / lag(agg_data$QTY_month,2) * 100,1)\n",
        "MoM2_ECR = round((agg_data$ECR_month - lag(agg_data$ECR_month,2)) / lag(agg_data$ECR_month,2) * 100,1)\n",
        "MoM2 <- as_tibble(data.frame(MoM2_dim_year,MoM2_dim_month,\n",
        "  MoM2_addsToCart,MoM2_sessions,MoM2_transactions,MoM2_QTY,MoM2_ECR))\n",
        "\n",
        "MoM2 <- MoM2[-1,] #get rid of NA rows created before there was data to iterate over\n",
        "MoM2 <- MoM2[-1,] #get rid of NA rows created before there was data to iterate over\n",
        "head(MoM2)"
      ],
      "metadata": {
        "colab": {
          "base_uri": "https://localhost:8080/",
          "height": 286
        },
        "id": "hVhav7RVxEdu",
        "outputId": "8882a7d4-86eb-44f2-8415-cffafdd1a386"
      },
      "execution_count": 18,
      "outputs": [
        {
          "output_type": "display_data",
          "data": {
            "text/html": [
              "<table class=\"dataframe\">\n",
              "<caption>A tibble: 6 × 7</caption>\n",
              "<thead>\n",
              "\t<tr><th scope=col>MoM2_dim_year</th><th scope=col>MoM2_dim_month</th><th scope=col>MoM2_addsToCart</th><th scope=col>MoM2_sessions</th><th scope=col>MoM2_transactions</th><th scope=col>MoM2_QTY</th><th scope=col>MoM2_ECR</th></tr>\n",
              "\t<tr><th scope=col>&lt;dbl&gt;</th><th scope=col>&lt;dbl&gt;</th><th scope=col>&lt;dbl&gt;</th><th scope=col>&lt;dbl&gt;</th><th scope=col>&lt;dbl&gt;</th><th scope=col>&lt;dbl&gt;</th><th scope=col>&lt;dbl&gt;</th></tr>\n",
              "</thead>\n",
              "<tbody>\n",
              "\t<tr><td>2012</td><td> 9</td><td>-35.4</td><td>-11.0</td><td>-11.0</td><td> -7.8</td><td> 0.0</td></tr>\n",
              "\t<tr><td>2012</td><td>10</td><td>-35.8</td><td>-20.1</td><td>-25.0</td><td>-22.1</td><td>-6.1</td></tr>\n",
              "\t<tr><td>2012</td><td>11</td><td> 50.8</td><td> -9.8</td><td> -7.1</td><td> -7.3</td><td> 3.0</td></tr>\n",
              "\t<tr><td>2012</td><td>12</td><td> 20.9</td><td> 14.6</td><td> 31.4</td><td> 22.8</td><td>14.7</td></tr>\n",
              "\t<tr><td>2013</td><td> 1</td><td>-20.9</td><td> 38.3</td><td> 36.1</td><td> 35.4</td><td>-1.6</td></tr>\n",
              "\t<tr><td>2013</td><td> 2</td><td>-19.6</td><td>-19.1</td><td>-17.5</td><td> -9.7</td><td> 2.0</td></tr>\n",
              "</tbody>\n",
              "</table>\n"
            ],
            "text/markdown": "\nA tibble: 6 × 7\n\n| MoM2_dim_year &lt;dbl&gt; | MoM2_dim_month &lt;dbl&gt; | MoM2_addsToCart &lt;dbl&gt; | MoM2_sessions &lt;dbl&gt; | MoM2_transactions &lt;dbl&gt; | MoM2_QTY &lt;dbl&gt; | MoM2_ECR &lt;dbl&gt; |\n|---|---|---|---|---|---|---|\n| 2012 |  9 | -35.4 | -11.0 | -11.0 |  -7.8 |  0.0 |\n| 2012 | 10 | -35.8 | -20.1 | -25.0 | -22.1 | -6.1 |\n| 2012 | 11 |  50.8 |  -9.8 |  -7.1 |  -7.3 |  3.0 |\n| 2012 | 12 |  20.9 |  14.6 |  31.4 |  22.8 | 14.7 |\n| 2013 |  1 | -20.9 |  38.3 |  36.1 |  35.4 | -1.6 |\n| 2013 |  2 | -19.6 | -19.1 | -17.5 |  -9.7 |  2.0 |\n\n",
            "text/latex": "A tibble: 6 × 7\n\\begin{tabular}{lllllll}\n MoM2\\_dim\\_year & MoM2\\_dim\\_month & MoM2\\_addsToCart & MoM2\\_sessions & MoM2\\_transactions & MoM2\\_QTY & MoM2\\_ECR\\\\\n <dbl> & <dbl> & <dbl> & <dbl> & <dbl> & <dbl> & <dbl>\\\\\n\\hline\n\t 2012 &  9 & -35.4 & -11.0 & -11.0 &  -7.8 &  0.0\\\\\n\t 2012 & 10 & -35.8 & -20.1 & -25.0 & -22.1 & -6.1\\\\\n\t 2012 & 11 &  50.8 &  -9.8 &  -7.1 &  -7.3 &  3.0\\\\\n\t 2012 & 12 &  20.9 &  14.6 &  31.4 &  22.8 & 14.7\\\\\n\t 2013 &  1 & -20.9 &  38.3 &  36.1 &  35.4 & -1.6\\\\\n\t 2013 &  2 & -19.6 & -19.1 & -17.5 &  -9.7 &  2.0\\\\\n\\end{tabular}\n",
            "text/plain": [
              "  MoM2_dim_year MoM2_dim_month MoM2_addsToCart MoM2_sessions MoM2_transactions\n",
              "1 2012           9             -35.4           -11.0         -11.0            \n",
              "2 2012          10             -35.8           -20.1         -25.0            \n",
              "3 2012          11              50.8            -9.8          -7.1            \n",
              "4 2012          12              20.9            14.6          31.4            \n",
              "5 2013           1             -20.9            38.3          36.1            \n",
              "6 2013           2             -19.6           -19.1         -17.5            \n",
              "  MoM2_QTY MoM2_ECR\n",
              "1  -7.8     0.0    \n",
              "2 -22.1    -6.1    \n",
              "3  -7.3     3.0    \n",
              "4  22.8    14.7    \n",
              "5  35.4    -1.6    \n",
              "6  -9.7     2.0    "
            ]
          },
          "metadata": {}
        }
      ]
    },
    {
      "cell_type": "markdown",
      "source": [
        "For Excel File:\n",
        "\n",
        "– The first sheet should contain a Month * Device aggregation of the data with the following metrics: Sessions, Transactions, QTY, and ECR (= Transactions / Sessions)\n",
        "\n",
        "– The second sheet should contain a Month over Month comparison (for the most recent two months in the data) for all available metrics (including Adds to Cart), showing: the most recent month’s value, the prior month’s value, and both the absolute and relative differences between them"
      ],
      "metadata": {
        "id": "AyC_fkOAlg-M"
      }
    },
    {
      "cell_type": "code",
      "source": [
        "#https://www.statology.org/r-export-to-excel-multiple-sheets/\n",
        "\n",
        "#this is the Excel file output\n",
        "#ForTheBoss <- list('Month*DeviceAgg' = agg_data, 'MonthOverMonthIn%' = MoM, 'MonthOverMonthIn(2Months)%' = MoM2)\n",
        "ForTheBoss <- list('Month*DeviceAgg' = agg_data, 'MonthOverMonthIn(2Months)%' = MoM2)\n",
        "\n",
        "\n",
        "#export each data frame to separate sheets in same Excel file\n",
        "openxlsx::write.xlsx(ForTheBoss, file = 'ForTheBoss.xlsx')"
      ],
      "metadata": {
        "id": "mLfSdFqKjj1e"
      },
      "execution_count": 19,
      "outputs": []
    },
    {
      "cell_type": "markdown",
      "source": [
        "\n",
        "This chunk of the project took about 3.5-4 hours.\n",
        "\n",
        "For the Figures I am going to export this data into a few CSVs, then I'll read them into Python in a second .ipynb file. I exceeded my knowledge of **R**, noting that I knew very little going into this portion of the project, and learned a lot in the process.\n"
      ],
      "metadata": {
        "id": "Gqx6KxVRxxoY"
      }
    },
    {
      "cell_type": "code",
      "source": [
        "write.table(agg_data, file = \"DataAnalyst_Ecom_agg_data.csv\")\n",
        "write.table(MoM2, file = \"DataAnalyst_Ecom_MOM_data.csv\")\n",
        "write.table(sC, file = \"DataAnalyst_Ecom_session_with_yr_mo_data.csv\")"
      ],
      "metadata": {
        "id": "lzKiEjTwkZcl"
      },
      "execution_count": 20,
      "outputs": []
    },
    {
      "cell_type": "code",
      "source": [],
      "metadata": {
        "id": "Xm3WPDmZy3Gh"
      },
      "execution_count": 21,
      "outputs": []
    }
  ]
}