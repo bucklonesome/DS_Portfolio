{
 "cells": [
  {
   "cell_type": "markdown",
   "id": "b49fc98e",
   "metadata": {},
   "source": [
    "# Multiclassification Comparison between PyTorch, Keras, and XGBoost"
   ]
  },
  {
   "cell_type": "markdown",
   "id": "51656352",
   "metadata": {},
   "source": [
    "I recently completed a few courses in Deep Learning (each approximately 4 hours in videos+guided exercises)... \n",
    "\n",
    "- Intro To Deep Learning - *Kaggle*\n",
    "- Introduction to Deep Learning with Pytorch - *DataCamp*\n",
    "- Introduction to Deep Learning with Keras - *DataCamp*\n",
    "- Advanced Deep Learning with Keras - *DataCamp*\n",
    "\n",
    "Courses however do not translate to experience. I felt the best way to make sure that I understood the basics of Neural Networks and using Deep Learning tools was to do a comparison between different common Deep Learning libraries, PyTorch and Keras.\n",
    "\n",
    "The PyTorch and Keras models will both contain the same number of hidden layers and epochs in the fitting. We use XGBoost as a comparison case (as this usually scores quite well), noting that it is not a neural network but a tree ensemble method. I chose this because I hear about it all the time on a few podcasts I follow, and in studying this came across the following article: *Tabular Data: Deep Learning is Not All You Need* - https://arxiv.org/abs/2106.03253"
   ]
  },
  {
   "cell_type": "markdown",
   "id": "2af78c53",
   "metadata": {},
   "source": [
    ", and to try to use them on a common problem - the Iris Classification - which is a Machine Learning right of passage dataset regarding the Iris flower (with three species), and petal/sepal properties. The goal being to properly classify the species noting the petal/sepal properties.\n",
    "\n",
    "I also referenced the following articles / code sources. Each of these approach the Iris Classification problem using the following libraries.\n",
    "\n",
    "- **Building a Multiclass Classification Model in PyTorch** - https://machinelearningmastery.com/building-a-multiclass-classification-model-in-pytorch/\n",
    "- **Iris Classification using a Keras Neural Network** - https://medium.com/@manwill/iris-classification-using-a-keras-neural-network-39d735d11fda\n",
    "- **Keras Multi-class Classification using IRIS Dataset** - https://vitalflux.com/keras-multi-class-classification-using-iris-dataset/\n",
    "- **A Simple XGBoost Tutorial Using the Iris Dataset** - https://www.kdnuggets.com/2017/03/simple-xgboost-tutorial-iris-dataset.html\n"
   ]
  },
  {
   "cell_type": "code",
   "execution_count": 1,
   "id": "619735b3",
   "metadata": {},
   "outputs": [],
   "source": [
    "import matplotlib.pyplot as plt\n",
    "import seaborn as sns\n",
    "import numpy as np\n",
    "import pandas as pd\n",
    "import copy\n",
    "\n",
    "#sklearn\n",
    "from sklearn.model_selection import train_test_split\n",
    "from sklearn.preprocessing import OneHotEncoder\n",
    "from sklearn.preprocessing import LabelEncoder  \n",
    "from sklearn.metrics import precision_score, accuracy_score\n",
    "\n",
    "#pytorch\n",
    "import torch\n",
    "import torch.nn as nn\n",
    "import torch.optim as optim\n",
    "import tqdm\n",
    "\n",
    "#keras / tensorflow\n",
    "import tensorflow as tf\n",
    "from tensorflow import keras\n",
    "from tensorflow.keras import layers, Model, Sequential\n",
    "from tensorflow.keras.utils import to_categorical\n",
    "\n",
    "#xgboost\n",
    "import xgboost as xgb"
   ]
  },
  {
   "cell_type": "code",
   "execution_count": 3,
   "id": "57f2706a",
   "metadata": {},
   "outputs": [],
   "source": [
    "# read data and apply one-hot encoding\n",
    "data = pd.read_csv(\"exoplanet_plus_browndwarf.csv\", header=None)"
   ]
  },
  {
   "cell_type": "code",
   "execution_count": null,
   "id": "9b27080d",
   "metadata": {},
   "outputs": [],
   "source": [
    "data = pd.read_csv(\"iris.csv\", header=None)"
   ]
  },
  {
   "cell_type": "code",
   "execution_count": 4,
   "id": "1c34dcc9",
   "metadata": {},
   "outputs": [
    {
     "data": {
      "text/plain": [
       "<AxesSubplot:>"
      ]
     },
     "execution_count": 4,
     "metadata": {},
     "output_type": "execute_result"
    },
    {
     "data": {
      "image/png": "[encoded data removed]",
      "text/plain": [
       "<Figure size 432x288 with 2 Axes>"
      ]
     },
     "metadata": {
      "needs_background": "light"
     },
     "output_type": "display_data"
    }
   ],
   "source": [
    "sns.heatmap(data.corr(), annot = True)"
   ]
  },
  {
   "cell_type": "code",
   "execution_count": 5,
   "id": "15ff530c",
   "metadata": {},
   "outputs": [
    {
     "name": "stderr",
     "output_type": "stream",
     "text": [
      "/opt/anaconda3/lib/python3.8/site-packages/sklearn/preprocessing/_label.py:115: DataConversionWarning: A column-vector y was passed when a 1d array was expected. Please change the shape of y to (n_samples, ), for example using ravel().\n",
      "  y = column_or_1d(y, warn=True)\n"
     ]
    }
   ],
   "source": [
    "X = data.iloc[:, 0:4]\n",
    "y = data.iloc[:, 4:]\n",
    "\n",
    "le = LabelEncoder()  \n",
    "y_xg = le.fit_transform(y) #for xgboost\n",
    "ohe = OneHotEncoder(handle_unknown='ignore', sparse=False).fit(y)\n",
    "y = ohe.transform(y) #for keras / pytorch\n",
    "\n",
    "# convert pandas DataFrame (X) and numpy array (y) into PyTorch tensors\n",
    "X_pt = torch.tensor(X.values, dtype=torch.float32)\n",
    "y_pt = torch.tensor(y, dtype=torch.float32)"
   ]
  },
  {
   "cell_type": "markdown",
   "id": "7afe7fb0",
   "metadata": {},
   "source": [
    "## Train / Test Split"
   ]
  },
  {
   "cell_type": "code",
   "execution_count": 6,
   "id": "57a19efb",
   "metadata": {},
   "outputs": [],
   "source": [
    "ts=0.7 #split fractio\n",
    "\n",
    "#Pytorch\n",
    "X_train_pt, X_test_pt, y_train_pt, y_test_pt = train_test_split(X_pt, y_pt, train_size=ts, shuffle=True)\n",
    "#Keras\n",
    "X_train_kr, X_test_kr, y_train_kr, y_test_kr = train_test_split(X, y, train_size=ts, shuffle=True)\n",
    "#XGBoost\n",
    "X_train_xg, X_test_xg, y_train_xg, y_test_xg = train_test_split(X, y_xg, train_size=ts, shuffle=True)"
   ]
  },
  {
   "cell_type": "markdown",
   "id": "f559268f",
   "metadata": {},
   "source": [
    "# Neural Network for Pytorch / Keras\n",
    "# [4 inputs] -> [8 hidden neurons] -> [3 outputs]"
   ]
  },
  {
   "cell_type": "code",
   "execution_count": 7,
   "id": "a06700e5",
   "metadata": {},
   "outputs": [],
   "source": [
    "n_hidden = 8\n",
    "# prepare model and training parameters\n",
    "n_epochs = 100\n",
    "batch_size = 5"
   ]
  },
  {
   "cell_type": "markdown",
   "id": "3a3666e3",
   "metadata": {},
   "source": [
    "## Build Pytorch Model"
   ]
  },
  {
   "cell_type": "code",
   "execution_count": 8,
   "id": "89e9dad8",
   "metadata": {},
   "outputs": [],
   "source": [
    "# The 'Building a Multiclass Classification Model in PyTorch' article created the model as a 'Class'.\n",
    "# I have never created a class before, so I had to sit a spell and make some sense out of it \n",
    "# I chose to keep it as it is a very tidy way of modelling\n",
    "\n",
    "class Multiclass(nn.Module):\n",
    "    def __init__(self):\n",
    "        super().__init__()\n",
    "        self.hidden = nn.Linear(4, n_hidden)\n",
    "        self.act = nn.ReLU() #use the same activation in Keras model\n",
    "        self.output = nn.Linear(n_hidden, 3)\n",
    "# https://pytorch.org/tutorials/beginner/former_torchies/nnft_tutorial.html\n",
    "#      it's the forward function that defines the network structure\n",
    "    def forward(self, x): \n",
    "        x = self.act(self.hidden(x))\n",
    "        x = self.output(x)\n",
    "        return x"
   ]
  },
  {
   "cell_type": "code",
   "execution_count": 9,
   "id": "df254194",
   "metadata": {},
   "outputs": [],
   "source": [
    " # loss metric and optimizer\n",
    "model_pt = Multiclass()\n",
    "loss_fn = nn.CrossEntropyLoss()\n",
    "optimizer = optim.Adam(model_pt.parameters(), lr=0.001)\n",
    " \n",
    "# prepare model and training parameters\n",
    "batches_per_epoch = len(X_train_pt) // batch_size\n",
    " \n",
    "best_acc_pt = - np.inf   # init to negative infinity\n",
    "best_weights_pt = None\n",
    "train_loss_pt = []\n",
    "train_acc_pt = []\n",
    "test_loss_pt = []\n",
    "test_acc_pt = []"
   ]
  },
  {
   "cell_type": "markdown",
   "id": "001faf56",
   "metadata": {},
   "source": [
    "## Build Keras Model"
   ]
  },
  {
   "cell_type": "code",
   "execution_count": 10,
   "id": "a7ace976",
   "metadata": {},
   "outputs": [
    {
     "name": "stderr",
     "output_type": "stream",
     "text": [
      "2023-06-23 21:15:42.357379: I tensorflow/core/platform/cpu_feature_guard.cc:142] This TensorFlow binary is optimized with oneAPI Deep Neural Network Library (oneDNN) to use the following CPU instructions in performance-critical operations:  AVX2 FMA\n",
      "To enable them in other operations, rebuild TensorFlow with the appropriate compiler flags.\n"
     ]
    }
   ],
   "source": [
    "inp_shape = X.shape[1]\n",
    "model_kr = Sequential()\n",
    "model_kr.add(layers.Dense(n_hidden, activation='relu', input_shape=(inp_shape,))) #use the same activation in Pytorch model\n",
    "model_kr.add(layers.Dense(3, activation='softmax'))\n",
    "\n",
    "model_kr.compile(optimizer='adam',\n",
    "                loss='categorical_crossentropy',\n",
    "                metrics=['accuracy'])"
   ]
  },
  {
   "cell_type": "markdown",
   "id": "fd2ed433",
   "metadata": {},
   "source": [
    "## Prepare / Train XGBoost Model"
   ]
  },
  {
   "cell_type": "code",
   "execution_count": 11,
   "id": "fa8bfcb0",
   "metadata": {},
   "outputs": [],
   "source": [
    "#Next you need to create the Xgboost specific DMatrix data format from the numpy array. \n",
    "dtrain = xgb.DMatrix(X_train_xg, label=y_train_xg)\n",
    "dtest = xgb.DMatrix(X_test_xg, label=y_test_xg)\n",
    "\n",
    "# set xgboost params\n",
    "param = {\n",
    "    'max_depth': 3,  # the maximum depth of each tree\n",
    "    'eta': 0.3,  # the training step for each iteration\n",
    "    'silent': 1,  # logging mode - quiet\n",
    "    'objective': 'multi:softprob',  # error evaluation for multiclass training\n",
    "    'num_class': 3}  # the number of classes that exist in this datset\n",
    "#num_round = 20  # the number of training iterations\n",
    "num_round = n_epochs # the number of training iterations"
   ]
  },
  {
   "cell_type": "markdown",
   "id": "d4d25025",
   "metadata": {},
   "source": [
    "## Train Pytorch Model"
   ]
  },
  {
   "cell_type": "code",
   "execution_count": 12,
   "id": "a378b722",
   "metadata": {},
   "outputs": [
    {
     "name": "stderr",
     "output_type": "stream",
     "text": [
      "Epoch 0: 100%|█████████| 21/21 [00:00<00:00, 121.01batch/s, acc=0.6, loss=0.953]\n"
     ]
    },
    {
     "name": "stdout",
     "output_type": "stream",
     "text": [
      "Epoch 0 validation: Cross-entropy=1.02, Accuracy=44.4%\n"
     ]
    },
    {
     "name": "stderr",
     "output_type": "stream",
     "text": [
      "Epoch 1: 100%|███████████| 21/21 [00:00<00:00, 161.52batch/s, acc=1, loss=0.935]\n"
     ]
    },
    {
     "name": "stdout",
     "output_type": "stream",
     "text": [
      "Epoch 1 validation: Cross-entropy=1.00, Accuracy=77.8%\n"
     ]
    },
    {
     "name": "stderr",
     "output_type": "stream",
     "text": [
      "Epoch 2: 100%|█████████| 21/21 [00:00<00:00, 143.99batch/s, acc=0.8, loss=0.912]\n"
     ]
    },
    {
     "name": "stdout",
     "output_type": "stream",
     "text": [
      "Epoch 2 validation: Cross-entropy=0.99, Accuracy=60.0%\n"
     ]
    },
    {
     "name": "stderr",
     "output_type": "stream",
     "text": [
      "Epoch 3: 100%|█████████| 21/21 [00:00<00:00, 162.80batch/s, acc=0.8, loss=0.884]\n"
     ]
    },
    {
     "name": "stdout",
     "output_type": "stream",
     "text": [
      "Epoch 3 validation: Cross-entropy=0.97, Accuracy=57.8%\n"
     ]
    },
    {
     "name": "stderr",
     "output_type": "stream",
     "text": [
      "Epoch 4: 100%|█████████| 21/21 [00:00<00:00, 145.19batch/s, acc=0.8, loss=0.852]\n"
     ]
    },
    {
     "name": "stdout",
     "output_type": "stream",
     "text": [
      "Epoch 4 validation: Cross-entropy=0.95, Accuracy=57.8%\n"
     ]
    },
    {
     "name": "stderr",
     "output_type": "stream",
     "text": [
      "Epoch 5: 100%|█████████| 21/21 [00:00<00:00, 153.54batch/s, acc=0.8, loss=0.818]\n"
     ]
    },
    {
     "name": "stdout",
     "output_type": "stream",
     "text": [
      "Epoch 5 validation: Cross-entropy=0.94, Accuracy=57.8%\n"
     ]
    },
    {
     "name": "stderr",
     "output_type": "stream",
     "text": [
      "Epoch 6: 100%|█████████| 21/21 [00:00<00:00, 153.83batch/s, acc=0.8, loss=0.785]\n"
     ]
    },
    {
     "name": "stdout",
     "output_type": "stream",
     "text": [
      "Epoch 6 validation: Cross-entropy=0.92, Accuracy=57.8%\n"
     ]
    },
    {
     "name": "stderr",
     "output_type": "stream",
     "text": [
      "Epoch 7: 100%|█████████| 21/21 [00:00<00:00, 145.41batch/s, acc=0.8, loss=0.753]\n"
     ]
    },
    {
     "name": "stdout",
     "output_type": "stream",
     "text": [
      "Epoch 7 validation: Cross-entropy=0.90, Accuracy=57.8%\n"
     ]
    },
    {
     "name": "stderr",
     "output_type": "stream",
     "text": [
      "Epoch 8: 100%|██████████| 21/21 [00:00<00:00, 160.79batch/s, acc=0.8, loss=0.72]\n"
     ]
    },
    {
     "name": "stdout",
     "output_type": "stream",
     "text": [
      "Epoch 8 validation: Cross-entropy=0.87, Accuracy=57.8%\n"
     ]
    },
    {
     "name": "stderr",
     "output_type": "stream",
     "text": [
      "Epoch 9: 100%|█████████| 21/21 [00:00<00:00, 160.32batch/s, acc=0.8, loss=0.688]\n"
     ]
    },
    {
     "name": "stdout",
     "output_type": "stream",
     "text": [
      "Epoch 9 validation: Cross-entropy=0.85, Accuracy=57.8%\n"
     ]
    },
    {
     "name": "stderr",
     "output_type": "stream",
     "text": [
      "Epoch 10: 100%|████████| 21/21 [00:00<00:00, 155.49batch/s, acc=0.8, loss=0.656]\n"
     ]
    },
    {
     "name": "stdout",
     "output_type": "stream",
     "text": [
      "Epoch 10 validation: Cross-entropy=0.83, Accuracy=57.8%\n"
     ]
    },
    {
     "name": "stderr",
     "output_type": "stream",
     "text": [
      "Epoch 11: 100%|████████| 21/21 [00:00<00:00, 139.00batch/s, acc=0.8, loss=0.627]\n"
     ]
    },
    {
     "name": "stdout",
     "output_type": "stream",
     "text": [
      "Epoch 11 validation: Cross-entropy=0.81, Accuracy=57.8%\n"
     ]
    },
    {
     "name": "stderr",
     "output_type": "stream",
     "text": [
      "Epoch 12: 100%|████████| 21/21 [00:00<00:00, 165.65batch/s, acc=0.8, loss=0.597]\n"
     ]
    },
    {
     "name": "stdout",
     "output_type": "stream",
     "text": [
      "Epoch 12 validation: Cross-entropy=0.79, Accuracy=57.8%\n"
     ]
    },
    {
     "name": "stderr",
     "output_type": "stream",
     "text": [
      "Epoch 13: 100%|████████| 21/21 [00:00<00:00, 161.31batch/s, acc=0.8, loss=0.572]\n"
     ]
    },
    {
     "name": "stdout",
     "output_type": "stream",
     "text": [
      "Epoch 13 validation: Cross-entropy=0.77, Accuracy=57.8%\n"
     ]
    },
    {
     "name": "stderr",
     "output_type": "stream",
     "text": [
      "Epoch 14: 100%|████████| 21/21 [00:00<00:00, 170.61batch/s, acc=0.8, loss=0.545]\n"
     ]
    },
    {
     "name": "stdout",
     "output_type": "stream",
     "text": [
      "Epoch 14 validation: Cross-entropy=0.75, Accuracy=57.8%\n"
     ]
    },
    {
     "name": "stderr",
     "output_type": "stream",
     "text": [
      "Epoch 15: 100%|████████| 21/21 [00:00<00:00, 155.72batch/s, acc=0.8, loss=0.523]\n"
     ]
    },
    {
     "name": "stdout",
     "output_type": "stream",
     "text": [
      "Epoch 15 validation: Cross-entropy=0.73, Accuracy=57.8%\n"
     ]
    },
    {
     "name": "stderr",
     "output_type": "stream",
     "text": [
      "Epoch 16: 100%|██████████| 21/21 [00:00<00:00, 158.48batch/s, acc=0.8, loss=0.5]\n"
     ]
    },
    {
     "name": "stdout",
     "output_type": "stream",
     "text": [
      "Epoch 16 validation: Cross-entropy=0.71, Accuracy=57.8%\n"
     ]
    },
    {
     "name": "stderr",
     "output_type": "stream",
     "text": [
      "Epoch 17: 100%|████████| 21/21 [00:00<00:00, 160.44batch/s, acc=0.8, loss=0.479]\n"
     ]
    },
    {
     "name": "stdout",
     "output_type": "stream",
     "text": [
      "Epoch 17 validation: Cross-entropy=0.69, Accuracy=57.8%\n"
     ]
    },
    {
     "name": "stderr",
     "output_type": "stream",
     "text": [
      "Epoch 18: 100%|█████████| 21/21 [00:00<00:00, 151.12batch/s, acc=0.8, loss=0.46]\n"
     ]
    },
    {
     "name": "stdout",
     "output_type": "stream",
     "text": [
      "Epoch 18 validation: Cross-entropy=0.67, Accuracy=57.8%\n"
     ]
    },
    {
     "name": "stderr",
     "output_type": "stream",
     "text": [
      "Epoch 19: 100%|████████| 21/21 [00:00<00:00, 179.04batch/s, acc=0.8, loss=0.443]\n"
     ]
    },
    {
     "name": "stdout",
     "output_type": "stream",
     "text": [
      "Epoch 19 validation: Cross-entropy=0.65, Accuracy=60.0%\n"
     ]
    },
    {
     "name": "stderr",
     "output_type": "stream",
     "text": [
      "Epoch 20: 100%|████████| 21/21 [00:00<00:00, 144.26batch/s, acc=0.8, loss=0.426]\n"
     ]
    },
    {
     "name": "stdout",
     "output_type": "stream",
     "text": [
      "Epoch 20 validation: Cross-entropy=0.64, Accuracy=62.2%\n"
     ]
    },
    {
     "name": "stderr",
     "output_type": "stream",
     "text": [
      "Epoch 21: 100%|█████████| 21/21 [00:00<00:00, 160.60batch/s, acc=0.8, loss=0.41]\n"
     ]
    },
    {
     "name": "stdout",
     "output_type": "stream",
     "text": [
      "Epoch 21 validation: Cross-entropy=0.62, Accuracy=62.2%\n"
     ]
    },
    {
     "name": "stderr",
     "output_type": "stream",
     "text": [
      "Epoch 22: 100%|████████| 21/21 [00:00<00:00, 159.89batch/s, acc=0.8, loss=0.395]\n"
     ]
    },
    {
     "name": "stdout",
     "output_type": "stream",
     "text": [
      "Epoch 22 validation: Cross-entropy=0.61, Accuracy=64.4%\n"
     ]
    },
    {
     "name": "stderr",
     "output_type": "stream",
     "text": [
      "Epoch 23: 100%|████████| 21/21 [00:00<00:00, 163.26batch/s, acc=0.8, loss=0.381]\n"
     ]
    },
    {
     "name": "stdout",
     "output_type": "stream",
     "text": [
      "Epoch 23 validation: Cross-entropy=0.59, Accuracy=68.9%\n"
     ]
    },
    {
     "name": "stderr",
     "output_type": "stream",
     "text": [
      "Epoch 24: 100%|████████| 21/21 [00:00<00:00, 159.85batch/s, acc=0.8, loss=0.368]\n"
     ]
    },
    {
     "name": "stdout",
     "output_type": "stream",
     "text": [
      "Epoch 24 validation: Cross-entropy=0.58, Accuracy=71.1%\n"
     ]
    },
    {
     "name": "stderr",
     "output_type": "stream",
     "text": [
      "Epoch 25: 100%|████████| 21/21 [00:00<00:00, 153.77batch/s, acc=0.8, loss=0.357]\n"
     ]
    },
    {
     "name": "stdout",
     "output_type": "stream",
     "text": [
      "Epoch 25 validation: Cross-entropy=0.56, Accuracy=73.3%\n"
     ]
    },
    {
     "name": "stderr",
     "output_type": "stream",
     "text": [
      "Epoch 26: 100%|████████| 21/21 [00:00<00:00, 143.34batch/s, acc=0.8, loss=0.346]\n"
     ]
    },
    {
     "name": "stdout",
     "output_type": "stream",
     "text": [
      "Epoch 26 validation: Cross-entropy=0.55, Accuracy=75.6%\n"
     ]
    },
    {
     "name": "stderr",
     "output_type": "stream",
     "text": [
      "Epoch 27: 100%|████████| 21/21 [00:00<00:00, 160.50batch/s, acc=0.8, loss=0.335]\n"
     ]
    },
    {
     "name": "stdout",
     "output_type": "stream",
     "text": [
      "Epoch 27 validation: Cross-entropy=0.54, Accuracy=80.0%\n"
     ]
    },
    {
     "name": "stderr",
     "output_type": "stream",
     "text": [
      "Epoch 28: 100%|████████| 21/21 [00:00<00:00, 152.34batch/s, acc=0.8, loss=0.326]\n"
     ]
    },
    {
     "name": "stdout",
     "output_type": "stream",
     "text": [
      "Epoch 28 validation: Cross-entropy=0.53, Accuracy=84.4%\n"
     ]
    },
    {
     "name": "stderr",
     "output_type": "stream",
     "text": [
      "Epoch 29: 100%|██████████| 21/21 [00:00<00:00, 166.60batch/s, acc=1, loss=0.317]\n"
     ]
    },
    {
     "name": "stdout",
     "output_type": "stream",
     "text": [
      "Epoch 29 validation: Cross-entropy=0.51, Accuracy=84.4%\n"
     ]
    },
    {
     "name": "stderr",
     "output_type": "stream",
     "text": [
      "Epoch 30: 100%|██████████| 21/21 [00:00<00:00, 153.55batch/s, acc=1, loss=0.309]\n"
     ]
    },
    {
     "name": "stdout",
     "output_type": "stream",
     "text": [
      "Epoch 30 validation: Cross-entropy=0.50, Accuracy=84.4%\n"
     ]
    },
    {
     "name": "stderr",
     "output_type": "stream",
     "text": [
      "Epoch 31: 100%|██████████| 21/21 [00:00<00:00, 185.64batch/s, acc=1, loss=0.301]\n"
     ]
    },
    {
     "name": "stdout",
     "output_type": "stream",
     "text": [
      "Epoch 31 validation: Cross-entropy=0.49, Accuracy=86.7%\n"
     ]
    },
    {
     "name": "stderr",
     "output_type": "stream",
     "text": [
      "Epoch 32: 100%|██████████| 21/21 [00:00<00:00, 188.55batch/s, acc=1, loss=0.293]\n"
     ]
    },
    {
     "name": "stdout",
     "output_type": "stream",
     "text": [
      "Epoch 32 validation: Cross-entropy=0.48, Accuracy=88.9%\n"
     ]
    },
    {
     "name": "stderr",
     "output_type": "stream",
     "text": [
      "Epoch 33: 100%|██████████| 21/21 [00:00<00:00, 189.76batch/s, acc=1, loss=0.285]\n"
     ]
    },
    {
     "name": "stdout",
     "output_type": "stream",
     "text": [
      "Epoch 33 validation: Cross-entropy=0.47, Accuracy=91.1%\n"
     ]
    },
    {
     "name": "stderr",
     "output_type": "stream",
     "text": [
      "Epoch 34: 100%|██████████| 21/21 [00:00<00:00, 189.46batch/s, acc=1, loss=0.278]\n"
     ]
    },
    {
     "name": "stdout",
     "output_type": "stream",
     "text": [
      "Epoch 34 validation: Cross-entropy=0.46, Accuracy=91.1%\n"
     ]
    },
    {
     "name": "stderr",
     "output_type": "stream",
     "text": [
      "Epoch 35: 100%|██████████| 21/21 [00:00<00:00, 210.19batch/s, acc=1, loss=0.271]\n"
     ]
    },
    {
     "name": "stdout",
     "output_type": "stream",
     "text": [
      "Epoch 35 validation: Cross-entropy=0.45, Accuracy=91.1%\n"
     ]
    },
    {
     "name": "stderr",
     "output_type": "stream",
     "text": [
      "Epoch 36: 100%|██████████| 21/21 [00:00<00:00, 166.55batch/s, acc=1, loss=0.265]\n"
     ]
    },
    {
     "name": "stdout",
     "output_type": "stream",
     "text": [
      "Epoch 36 validation: Cross-entropy=0.44, Accuracy=91.1%\n"
     ]
    },
    {
     "name": "stderr",
     "output_type": "stream",
     "text": [
      "Epoch 37: 100%|██████████| 21/21 [00:00<00:00, 186.42batch/s, acc=1, loss=0.259]\n"
     ]
    },
    {
     "name": "stdout",
     "output_type": "stream",
     "text": [
      "Epoch 37 validation: Cross-entropy=0.44, Accuracy=91.1%\n"
     ]
    },
    {
     "name": "stderr",
     "output_type": "stream",
     "text": [
      "Epoch 38: 100%|██████████| 21/21 [00:00<00:00, 184.86batch/s, acc=1, loss=0.252]\n"
     ]
    },
    {
     "name": "stdout",
     "output_type": "stream",
     "text": [
      "Epoch 38 validation: Cross-entropy=0.43, Accuracy=93.3%\n"
     ]
    },
    {
     "name": "stderr",
     "output_type": "stream",
     "text": [
      "Epoch 39: 100%|██████████| 21/21 [00:00<00:00, 191.39batch/s, acc=1, loss=0.247]\n"
     ]
    },
    {
     "name": "stdout",
     "output_type": "stream",
     "text": [
      "Epoch 39 validation: Cross-entropy=0.42, Accuracy=93.3%\n"
     ]
    },
    {
     "name": "stderr",
     "output_type": "stream",
     "text": [
      "Epoch 40: 100%|██████████| 21/21 [00:00<00:00, 193.06batch/s, acc=1, loss=0.241]\n"
     ]
    },
    {
     "name": "stdout",
     "output_type": "stream",
     "text": [
      "Epoch 40 validation: Cross-entropy=0.41, Accuracy=95.6%\n"
     ]
    },
    {
     "name": "stderr",
     "output_type": "stream",
     "text": [
      "Epoch 41: 100%|██████████| 21/21 [00:00<00:00, 180.06batch/s, acc=1, loss=0.236]\n"
     ]
    },
    {
     "name": "stdout",
     "output_type": "stream",
     "text": [
      "Epoch 41 validation: Cross-entropy=0.40, Accuracy=95.6%\n"
     ]
    },
    {
     "name": "stderr",
     "output_type": "stream",
     "text": [
      "Epoch 42: 100%|███████████| 21/21 [00:00<00:00, 190.68batch/s, acc=1, loss=0.23]\n"
     ]
    },
    {
     "name": "stdout",
     "output_type": "stream",
     "text": [
      "Epoch 42 validation: Cross-entropy=0.40, Accuracy=95.6%\n"
     ]
    },
    {
     "name": "stderr",
     "output_type": "stream",
     "text": [
      "Epoch 43: 100%|██████████| 21/21 [00:00<00:00, 189.49batch/s, acc=1, loss=0.225]\n"
     ]
    },
    {
     "name": "stdout",
     "output_type": "stream",
     "text": [
      "Epoch 43 validation: Cross-entropy=0.39, Accuracy=95.6%\n"
     ]
    },
    {
     "name": "stderr",
     "output_type": "stream",
     "text": [
      "Epoch 44: 100%|██████████| 21/21 [00:00<00:00, 185.18batch/s, acc=1, loss=0.219]\n"
     ]
    },
    {
     "name": "stdout",
     "output_type": "stream",
     "text": [
      "Epoch 44 validation: Cross-entropy=0.38, Accuracy=95.6%\n"
     ]
    },
    {
     "name": "stderr",
     "output_type": "stream",
     "text": [
      "Epoch 45: 100%|██████████| 21/21 [00:00<00:00, 199.93batch/s, acc=1, loss=0.214]\n"
     ]
    },
    {
     "name": "stdout",
     "output_type": "stream",
     "text": [
      "Epoch 45 validation: Cross-entropy=0.37, Accuracy=95.6%\n"
     ]
    },
    {
     "name": "stderr",
     "output_type": "stream",
     "text": [
      "Epoch 46: 100%|███████████| 21/21 [00:00<00:00, 181.41batch/s, acc=1, loss=0.21]\n"
     ]
    },
    {
     "name": "stdout",
     "output_type": "stream",
     "text": [
      "Epoch 46 validation: Cross-entropy=0.37, Accuracy=95.6%\n"
     ]
    },
    {
     "name": "stderr",
     "output_type": "stream",
     "text": [
      "Epoch 47: 100%|██████████| 21/21 [00:00<00:00, 202.54batch/s, acc=1, loss=0.205]\n"
     ]
    },
    {
     "name": "stdout",
     "output_type": "stream",
     "text": [
      "Epoch 47 validation: Cross-entropy=0.36, Accuracy=95.6%\n"
     ]
    },
    {
     "name": "stderr",
     "output_type": "stream",
     "text": [
      "Epoch 48: 100%|██████████| 21/21 [00:00<00:00, 205.44batch/s, acc=1, loss=0.201]\n"
     ]
    },
    {
     "name": "stdout",
     "output_type": "stream",
     "text": [
      "Epoch 48 validation: Cross-entropy=0.35, Accuracy=97.8%\n"
     ]
    },
    {
     "name": "stderr",
     "output_type": "stream",
     "text": [
      "Epoch 49: 100%|██████████| 21/21 [00:00<00:00, 168.86batch/s, acc=1, loss=0.196]\n"
     ]
    },
    {
     "name": "stdout",
     "output_type": "stream",
     "text": [
      "Epoch 49 validation: Cross-entropy=0.35, Accuracy=100.0%\n"
     ]
    },
    {
     "name": "stderr",
     "output_type": "stream",
     "text": [
      "Epoch 50: 100%|██████████| 21/21 [00:00<00:00, 195.37batch/s, acc=1, loss=0.192]\n"
     ]
    },
    {
     "name": "stdout",
     "output_type": "stream",
     "text": [
      "Epoch 50 validation: Cross-entropy=0.34, Accuracy=100.0%\n"
     ]
    },
    {
     "name": "stderr",
     "output_type": "stream",
     "text": [
      "Epoch 51: 100%|██████████| 21/21 [00:00<00:00, 186.92batch/s, acc=1, loss=0.188]\n"
     ]
    },
    {
     "name": "stdout",
     "output_type": "stream",
     "text": [
      "Epoch 51 validation: Cross-entropy=0.33, Accuracy=100.0%\n"
     ]
    },
    {
     "name": "stderr",
     "output_type": "stream",
     "text": [
      "Epoch 52: 100%|██████████| 21/21 [00:00<00:00, 191.79batch/s, acc=1, loss=0.184]\n"
     ]
    },
    {
     "name": "stdout",
     "output_type": "stream",
     "text": [
      "Epoch 52 validation: Cross-entropy=0.33, Accuracy=100.0%\n"
     ]
    },
    {
     "name": "stderr",
     "output_type": "stream",
     "text": [
      "Epoch 53: 100%|███████████| 21/21 [00:00<00:00, 185.19batch/s, acc=1, loss=0.18]\n"
     ]
    },
    {
     "name": "stdout",
     "output_type": "stream",
     "text": [
      "Epoch 53 validation: Cross-entropy=0.32, Accuracy=100.0%\n"
     ]
    },
    {
     "name": "stderr",
     "output_type": "stream",
     "text": [
      "Epoch 54: 100%|██████████| 21/21 [00:00<00:00, 184.47batch/s, acc=1, loss=0.176]\n"
     ]
    },
    {
     "name": "stdout",
     "output_type": "stream",
     "text": [
      "Epoch 54 validation: Cross-entropy=0.31, Accuracy=100.0%\n"
     ]
    },
    {
     "name": "stderr",
     "output_type": "stream",
     "text": [
      "Epoch 55: 100%|██████████| 21/21 [00:00<00:00, 188.19batch/s, acc=1, loss=0.172]\n"
     ]
    },
    {
     "name": "stdout",
     "output_type": "stream",
     "text": [
      "Epoch 55 validation: Cross-entropy=0.31, Accuracy=100.0%\n"
     ]
    },
    {
     "name": "stderr",
     "output_type": "stream",
     "text": [
      "Epoch 56: 100%|██████████| 21/21 [00:00<00:00, 186.22batch/s, acc=1, loss=0.168]\n"
     ]
    },
    {
     "name": "stdout",
     "output_type": "stream",
     "text": [
      "Epoch 56 validation: Cross-entropy=0.30, Accuracy=100.0%\n"
     ]
    },
    {
     "name": "stderr",
     "output_type": "stream",
     "text": [
      "Epoch 57: 100%|██████████| 21/21 [00:00<00:00, 194.62batch/s, acc=1, loss=0.165]\n"
     ]
    },
    {
     "name": "stdout",
     "output_type": "stream",
     "text": [
      "Epoch 57 validation: Cross-entropy=0.30, Accuracy=100.0%\n"
     ]
    },
    {
     "name": "stderr",
     "output_type": "stream",
     "text": [
      "Epoch 58: 100%|██████████| 21/21 [00:00<00:00, 189.49batch/s, acc=1, loss=0.161]\n"
     ]
    },
    {
     "name": "stdout",
     "output_type": "stream",
     "text": [
      "Epoch 58 validation: Cross-entropy=0.29, Accuracy=100.0%\n"
     ]
    },
    {
     "name": "stderr",
     "output_type": "stream",
     "text": [
      "Epoch 59: 100%|██████████| 21/21 [00:00<00:00, 188.74batch/s, acc=1, loss=0.158]\n"
     ]
    },
    {
     "name": "stdout",
     "output_type": "stream",
     "text": [
      "Epoch 59 validation: Cross-entropy=0.29, Accuracy=100.0%\n"
     ]
    },
    {
     "name": "stderr",
     "output_type": "stream",
     "text": [
      "Epoch 60: 100%|██████████| 21/21 [00:00<00:00, 185.27batch/s, acc=1, loss=0.154]\n"
     ]
    },
    {
     "name": "stdout",
     "output_type": "stream",
     "text": [
      "Epoch 60 validation: Cross-entropy=0.28, Accuracy=100.0%\n"
     ]
    },
    {
     "name": "stderr",
     "output_type": "stream",
     "text": [
      "Epoch 61: 100%|██████████| 21/21 [00:00<00:00, 182.97batch/s, acc=1, loss=0.151]\n"
     ]
    },
    {
     "name": "stdout",
     "output_type": "stream",
     "text": [
      "Epoch 61 validation: Cross-entropy=0.28, Accuracy=100.0%\n"
     ]
    },
    {
     "name": "stderr",
     "output_type": "stream",
     "text": [
      "Epoch 62: 100%|██████████| 21/21 [00:00<00:00, 199.67batch/s, acc=1, loss=0.148]\n"
     ]
    },
    {
     "name": "stdout",
     "output_type": "stream",
     "text": [
      "Epoch 62 validation: Cross-entropy=0.27, Accuracy=100.0%\n"
     ]
    },
    {
     "name": "stderr",
     "output_type": "stream",
     "text": [
      "Epoch 63: 100%|██████████| 21/21 [00:00<00:00, 192.48batch/s, acc=1, loss=0.144]\n"
     ]
    },
    {
     "name": "stdout",
     "output_type": "stream",
     "text": [
      "Epoch 63 validation: Cross-entropy=0.27, Accuracy=100.0%\n"
     ]
    },
    {
     "name": "stderr",
     "output_type": "stream",
     "text": [
      "Epoch 64: 100%|██████████| 21/21 [00:00<00:00, 190.54batch/s, acc=1, loss=0.141]\n"
     ]
    },
    {
     "name": "stdout",
     "output_type": "stream",
     "text": [
      "Epoch 64 validation: Cross-entropy=0.26, Accuracy=100.0%\n"
     ]
    },
    {
     "name": "stderr",
     "output_type": "stream",
     "text": [
      "Epoch 65: 100%|██████████| 21/21 [00:00<00:00, 191.24batch/s, acc=1, loss=0.138]\n"
     ]
    },
    {
     "name": "stdout",
     "output_type": "stream",
     "text": [
      "Epoch 65 validation: Cross-entropy=0.26, Accuracy=100.0%\n"
     ]
    },
    {
     "name": "stderr",
     "output_type": "stream",
     "text": [
      "Epoch 66: 100%|██████████| 21/21 [00:00<00:00, 192.18batch/s, acc=1, loss=0.135]\n"
     ]
    },
    {
     "name": "stdout",
     "output_type": "stream",
     "text": [
      "Epoch 66 validation: Cross-entropy=0.25, Accuracy=100.0%\n"
     ]
    },
    {
     "name": "stderr",
     "output_type": "stream",
     "text": [
      "Epoch 67: 100%|██████████| 21/21 [00:00<00:00, 193.32batch/s, acc=1, loss=0.133]\n"
     ]
    },
    {
     "name": "stdout",
     "output_type": "stream",
     "text": [
      "Epoch 67 validation: Cross-entropy=0.25, Accuracy=100.0%\n"
     ]
    },
    {
     "name": "stderr",
     "output_type": "stream",
     "text": [
      "Epoch 68: 100%|███████████| 21/21 [00:00<00:00, 188.57batch/s, acc=1, loss=0.13]\n"
     ]
    },
    {
     "name": "stdout",
     "output_type": "stream",
     "text": [
      "Epoch 68 validation: Cross-entropy=0.25, Accuracy=100.0%\n"
     ]
    },
    {
     "name": "stderr",
     "output_type": "stream",
     "text": [
      "Epoch 69: 100%|██████████| 21/21 [00:00<00:00, 188.72batch/s, acc=1, loss=0.127]\n"
     ]
    },
    {
     "name": "stdout",
     "output_type": "stream",
     "text": [
      "Epoch 69 validation: Cross-entropy=0.24, Accuracy=100.0%\n"
     ]
    },
    {
     "name": "stderr",
     "output_type": "stream",
     "text": [
      "Epoch 70: 100%|██████████| 21/21 [00:00<00:00, 184.69batch/s, acc=1, loss=0.124]\n"
     ]
    },
    {
     "name": "stdout",
     "output_type": "stream",
     "text": [
      "Epoch 70 validation: Cross-entropy=0.24, Accuracy=100.0%\n"
     ]
    },
    {
     "name": "stderr",
     "output_type": "stream",
     "text": [
      "Epoch 71: 100%|██████████| 21/21 [00:00<00:00, 185.39batch/s, acc=1, loss=0.122]\n"
     ]
    },
    {
     "name": "stdout",
     "output_type": "stream",
     "text": [
      "Epoch 71 validation: Cross-entropy=0.23, Accuracy=100.0%\n"
     ]
    },
    {
     "name": "stderr",
     "output_type": "stream",
     "text": [
      "Epoch 72: 100%|██████████| 21/21 [00:00<00:00, 204.72batch/s, acc=1, loss=0.119]\n"
     ]
    },
    {
     "name": "stdout",
     "output_type": "stream",
     "text": [
      "Epoch 72 validation: Cross-entropy=0.23, Accuracy=100.0%\n"
     ]
    },
    {
     "name": "stderr",
     "output_type": "stream",
     "text": [
      "Epoch 73: 100%|██████████| 21/21 [00:00<00:00, 207.91batch/s, acc=1, loss=0.117]\n"
     ]
    },
    {
     "name": "stdout",
     "output_type": "stream",
     "text": [
      "Epoch 73 validation: Cross-entropy=0.23, Accuracy=100.0%\n"
     ]
    },
    {
     "name": "stderr",
     "output_type": "stream",
     "text": [
      "Epoch 74: 100%|██████████| 21/21 [00:00<00:00, 171.94batch/s, acc=1, loss=0.114]\n"
     ]
    },
    {
     "name": "stdout",
     "output_type": "stream",
     "text": [
      "Epoch 74 validation: Cross-entropy=0.22, Accuracy=100.0%\n"
     ]
    },
    {
     "name": "stderr",
     "output_type": "stream",
     "text": [
      "Epoch 75: 100%|██████████| 21/21 [00:00<00:00, 176.61batch/s, acc=1, loss=0.112]\n"
     ]
    },
    {
     "name": "stdout",
     "output_type": "stream",
     "text": [
      "Epoch 75 validation: Cross-entropy=0.22, Accuracy=100.0%\n"
     ]
    },
    {
     "name": "stderr",
     "output_type": "stream",
     "text": [
      "Epoch 76: 100%|███████████| 21/21 [00:00<00:00, 138.01batch/s, acc=1, loss=0.11]\n"
     ]
    },
    {
     "name": "stdout",
     "output_type": "stream",
     "text": [
      "Epoch 76 validation: Cross-entropy=0.22, Accuracy=100.0%\n"
     ]
    },
    {
     "name": "stderr",
     "output_type": "stream",
     "text": [
      "Epoch 77: 100%|██████████| 21/21 [00:00<00:00, 112.51batch/s, acc=1, loss=0.107]\n"
     ]
    },
    {
     "name": "stdout",
     "output_type": "stream",
     "text": [
      "Epoch 77 validation: Cross-entropy=0.21, Accuracy=100.0%\n"
     ]
    },
    {
     "name": "stderr",
     "output_type": "stream",
     "text": [
      "Epoch 78: 100%|██████████| 21/21 [00:00<00:00, 106.02batch/s, acc=1, loss=0.105]\n"
     ]
    },
    {
     "name": "stdout",
     "output_type": "stream",
     "text": [
      "Epoch 78 validation: Cross-entropy=0.21, Accuracy=100.0%\n"
     ]
    },
    {
     "name": "stderr",
     "output_type": "stream",
     "text": [
      "Epoch 79: 100%|██████████| 21/21 [00:00<00:00, 115.38batch/s, acc=1, loss=0.103]\n"
     ]
    },
    {
     "name": "stdout",
     "output_type": "stream",
     "text": [
      "Epoch 79 validation: Cross-entropy=0.21, Accuracy=100.0%\n"
     ]
    },
    {
     "name": "stderr",
     "output_type": "stream",
     "text": [
      "Epoch 80: 100%|██████████| 21/21 [00:00<00:00, 188.04batch/s, acc=1, loss=0.101]\n"
     ]
    },
    {
     "name": "stdout",
     "output_type": "stream",
     "text": [
      "Epoch 80 validation: Cross-entropy=0.20, Accuracy=100.0%\n"
     ]
    },
    {
     "name": "stderr",
     "output_type": "stream",
     "text": [
      "Epoch 81: 100%|█████████| 21/21 [00:00<00:00, 150.97batch/s, acc=1, loss=0.0989]\n"
     ]
    },
    {
     "name": "stdout",
     "output_type": "stream",
     "text": [
      "Epoch 81 validation: Cross-entropy=0.20, Accuracy=100.0%\n"
     ]
    },
    {
     "name": "stderr",
     "output_type": "stream",
     "text": [
      "Epoch 82: 100%|██████████| 21/21 [00:00<00:00, 150.48batch/s, acc=1, loss=0.097]\n"
     ]
    },
    {
     "name": "stdout",
     "output_type": "stream",
     "text": [
      "Epoch 82 validation: Cross-entropy=0.20, Accuracy=100.0%\n"
     ]
    },
    {
     "name": "stderr",
     "output_type": "stream",
     "text": [
      "Epoch 83: 100%|██████████| 21/21 [00:00<00:00, 189.59batch/s, acc=1, loss=0.095]\n"
     ]
    },
    {
     "name": "stdout",
     "output_type": "stream",
     "text": [
      "Epoch 83 validation: Cross-entropy=0.20, Accuracy=100.0%\n"
     ]
    },
    {
     "name": "stderr",
     "output_type": "stream",
     "text": [
      "Epoch 84: 100%|█████████| 21/21 [00:00<00:00, 184.60batch/s, acc=1, loss=0.0932]\n"
     ]
    },
    {
     "name": "stdout",
     "output_type": "stream",
     "text": [
      "Epoch 84 validation: Cross-entropy=0.19, Accuracy=100.0%\n"
     ]
    },
    {
     "name": "stderr",
     "output_type": "stream",
     "text": [
      "Epoch 85: 100%|█████████| 21/21 [00:00<00:00, 182.49batch/s, acc=1, loss=0.0914]\n"
     ]
    },
    {
     "name": "stdout",
     "output_type": "stream",
     "text": [
      "Epoch 85 validation: Cross-entropy=0.19, Accuracy=100.0%\n"
     ]
    },
    {
     "name": "stderr",
     "output_type": "stream",
     "text": [
      "Epoch 86: 100%|█████████| 21/21 [00:00<00:00, 191.92batch/s, acc=1, loss=0.0895]\n"
     ]
    },
    {
     "name": "stdout",
     "output_type": "stream",
     "text": [
      "Epoch 86 validation: Cross-entropy=0.19, Accuracy=100.0%\n"
     ]
    },
    {
     "name": "stderr",
     "output_type": "stream",
     "text": [
      "Epoch 87: 100%|█████████| 21/21 [00:00<00:00, 158.86batch/s, acc=1, loss=0.0879]\n"
     ]
    },
    {
     "name": "stdout",
     "output_type": "stream",
     "text": [
      "Epoch 87 validation: Cross-entropy=0.19, Accuracy=100.0%\n"
     ]
    },
    {
     "name": "stderr",
     "output_type": "stream",
     "text": [
      "Epoch 88: 100%|█████████| 21/21 [00:00<00:00, 129.09batch/s, acc=1, loss=0.0862]\n"
     ]
    },
    {
     "name": "stdout",
     "output_type": "stream",
     "text": [
      "Epoch 88 validation: Cross-entropy=0.18, Accuracy=100.0%\n"
     ]
    },
    {
     "name": "stderr",
     "output_type": "stream",
     "text": [
      "Epoch 89: 100%|█████████| 21/21 [00:00<00:00, 179.21batch/s, acc=1, loss=0.0844]\n"
     ]
    },
    {
     "name": "stdout",
     "output_type": "stream",
     "text": [
      "Epoch 89 validation: Cross-entropy=0.18, Accuracy=100.0%\n"
     ]
    },
    {
     "name": "stderr",
     "output_type": "stream",
     "text": [
      "Epoch 90: 100%|█████████| 21/21 [00:00<00:00, 175.12batch/s, acc=1, loss=0.0829]\n"
     ]
    },
    {
     "name": "stdout",
     "output_type": "stream",
     "text": [
      "Epoch 90 validation: Cross-entropy=0.18, Accuracy=100.0%\n"
     ]
    },
    {
     "name": "stderr",
     "output_type": "stream",
     "text": [
      "Epoch 91: 100%|█████████| 21/21 [00:00<00:00, 189.42batch/s, acc=1, loss=0.0813]\n"
     ]
    },
    {
     "name": "stdout",
     "output_type": "stream",
     "text": [
      "Epoch 91 validation: Cross-entropy=0.18, Accuracy=100.0%\n"
     ]
    },
    {
     "name": "stderr",
     "output_type": "stream",
     "text": [
      "Epoch 92: 100%|█████████| 21/21 [00:00<00:00, 190.30batch/s, acc=1, loss=0.0798]\n"
     ]
    },
    {
     "name": "stdout",
     "output_type": "stream",
     "text": [
      "Epoch 92 validation: Cross-entropy=0.17, Accuracy=100.0%\n"
     ]
    },
    {
     "name": "stderr",
     "output_type": "stream",
     "text": [
      "Epoch 93: 100%|█████████| 21/21 [00:00<00:00, 186.04batch/s, acc=1, loss=0.0783]\n"
     ]
    },
    {
     "name": "stdout",
     "output_type": "stream",
     "text": [
      "Epoch 93 validation: Cross-entropy=0.17, Accuracy=100.0%\n"
     ]
    },
    {
     "name": "stderr",
     "output_type": "stream",
     "text": [
      "Epoch 94: 100%|█████████| 21/21 [00:00<00:00, 188.81batch/s, acc=1, loss=0.0768]\n"
     ]
    },
    {
     "name": "stdout",
     "output_type": "stream",
     "text": [
      "Epoch 94 validation: Cross-entropy=0.17, Accuracy=100.0%\n"
     ]
    },
    {
     "name": "stderr",
     "output_type": "stream",
     "text": [
      "Epoch 95: 100%|█████████| 21/21 [00:00<00:00, 185.22batch/s, acc=1, loss=0.0754]\n"
     ]
    },
    {
     "name": "stdout",
     "output_type": "stream",
     "text": [
      "Epoch 95 validation: Cross-entropy=0.17, Accuracy=100.0%\n"
     ]
    },
    {
     "name": "stderr",
     "output_type": "stream",
     "text": [
      "Epoch 96: 100%|█████████| 21/21 [00:00<00:00, 190.61batch/s, acc=1, loss=0.0739]\n"
     ]
    },
    {
     "name": "stdout",
     "output_type": "stream",
     "text": [
      "Epoch 96 validation: Cross-entropy=0.16, Accuracy=100.0%\n"
     ]
    },
    {
     "name": "stderr",
     "output_type": "stream",
     "text": [
      "Epoch 97: 100%|█████████| 21/21 [00:00<00:00, 176.66batch/s, acc=1, loss=0.0726]\n"
     ]
    },
    {
     "name": "stdout",
     "output_type": "stream",
     "text": [
      "Epoch 97 validation: Cross-entropy=0.16, Accuracy=100.0%\n"
     ]
    },
    {
     "name": "stderr",
     "output_type": "stream",
     "text": [
      "Epoch 98: 100%|█████████| 21/21 [00:00<00:00, 185.91batch/s, acc=1, loss=0.0713]\n"
     ]
    },
    {
     "name": "stdout",
     "output_type": "stream",
     "text": [
      "Epoch 98 validation: Cross-entropy=0.16, Accuracy=100.0%\n"
     ]
    },
    {
     "name": "stderr",
     "output_type": "stream",
     "text": [
      "Epoch 99: 100%|███████████| 21/21 [00:00<00:00, 192.61batch/s, acc=1, loss=0.07]"
     ]
    },
    {
     "name": "stdout",
     "output_type": "stream",
     "text": [
      "Epoch 99 validation: Cross-entropy=0.16, Accuracy=100.0%\n"
     ]
    },
    {
     "name": "stderr",
     "output_type": "stream",
     "text": [
      "\n"
     ]
    }
   ],
   "source": [
    "# training loop\n",
    "for epoch in range(n_epochs):\n",
    "    epoch_loss = []\n",
    "    epoch_acc = []\n",
    "    # set model in training mode and run through each batch\n",
    "    model_pt.train()\n",
    "    with tqdm.trange(batches_per_epoch, unit=\"batch\", mininterval=0) as bar:\n",
    "        bar.set_description(f\"Epoch {epoch}\")\n",
    "        for i in bar:\n",
    "            # take a batch\n",
    "            start = i * batch_size\n",
    "            X_batch = X_train_pt[start:start+batch_size]\n",
    "            y_batch = y_train_pt[start:start+batch_size]\n",
    "            # forward pass\n",
    "            y_pred = model_pt(X_batch)\n",
    "            loss = loss_fn(y_pred, y_batch)\n",
    "            # backward pass\n",
    "            optimizer.zero_grad()\n",
    "            loss.backward()\n",
    "            # update weights\n",
    "            optimizer.step()\n",
    "            # compute and store metrics\n",
    "            acc = (torch.argmax(y_pred, 1) == torch.argmax(y_batch, 1)).float().mean()\n",
    "            epoch_loss.append(float(loss))\n",
    "            epoch_acc.append(float(acc))\n",
    "            bar.set_postfix(\n",
    "                loss=float(loss),\n",
    "                acc=float(acc)\n",
    "            )\n",
    "    # set model in evaluation mode and run through the test set\n",
    "    model_pt.eval()\n",
    "    y_pred = model_pt(X_test_pt)\n",
    "    ce = loss_fn(y_pred, y_test_pt)\n",
    "    acc = (torch.argmax(y_pred, 1) == torch.argmax(y_test_pt, 1)).float().mean()\n",
    "    ce = float(ce)\n",
    "    acc = float(acc)\n",
    "    train_loss_pt.append(np.mean(epoch_loss))\n",
    "    train_acc_pt.append(np.mean(epoch_acc))\n",
    "    test_loss_pt.append(ce)\n",
    "    test_acc_pt.append(acc)\n",
    "    if acc > best_acc_pt:\n",
    "        best_acc_pt = acc\n",
    "        best_weights_pt = copy.deepcopy(model_pt.state_dict())\n",
    "    print(f\"Epoch {epoch} validation: Cross-entropy={ce:.2f}, Accuracy={acc*100:.1f}%\")"
   ]
  },
  {
   "cell_type": "markdown",
   "id": "fa4188f2",
   "metadata": {},
   "source": [
    "## Train Keras Model"
   ]
  },
  {
   "cell_type": "code",
   "execution_count": 13,
   "id": "28dc00ea",
   "metadata": {},
   "outputs": [
    {
     "name": "stderr",
     "output_type": "stream",
     "text": [
      "2023-06-23 21:15:55.690035: I tensorflow/compiler/mlir/mlir_graph_optimization_pass.cc:185] None of the MLIR Optimization Passes are enabled (registered 2)\n"
     ]
    },
    {
     "name": "stdout",
     "output_type": "stream",
     "text": [
      "Epoch 1/100\n",
      "21/21 [==============================] - 1s 9ms/step - loss: 1.2811 - accuracy: 0.2667 - val_loss: 1.1454 - val_accuracy: 0.4667\n",
      "Epoch 2/100\n",
      "21/21 [==============================] - 0s 3ms/step - loss: 1.1340 - accuracy: 0.2857 - val_loss: 1.0409 - val_accuracy: 0.4444\n",
      "Epoch 3/100\n",
      "21/21 [==============================] - 0s 3ms/step - loss: 1.0269 - accuracy: 0.2571 - val_loss: 0.9680 - val_accuracy: 0.4000\n",
      "Epoch 4/100\n",
      "21/21 [==============================] - 0s 3ms/step - loss: 0.9577 - accuracy: 0.2952 - val_loss: 0.9283 - val_accuracy: 0.3778\n",
      "Epoch 5/100\n",
      "21/21 [==============================] - 0s 3ms/step - loss: 0.9123 - accuracy: 0.3619 - val_loss: 0.8953 - val_accuracy: 0.3333\n",
      "Epoch 6/100\n",
      "21/21 [==============================] - 0s 3ms/step - loss: 0.8649 - accuracy: 0.5905 - val_loss: 0.8664 - val_accuracy: 0.5333\n",
      "Epoch 7/100\n",
      "21/21 [==============================] - 0s 3ms/step - loss: 0.8278 - accuracy: 0.6762 - val_loss: 0.8443 - val_accuracy: 0.5556\n",
      "Epoch 8/100\n",
      "21/21 [==============================] - 0s 3ms/step - loss: 0.7957 - accuracy: 0.7048 - val_loss: 0.8248 - val_accuracy: 0.5556\n",
      "Epoch 9/100\n",
      "21/21 [==============================] - 0s 3ms/step - loss: 0.7640 - accuracy: 0.7143 - val_loss: 0.8007 - val_accuracy: 0.5556\n",
      "Epoch 10/100\n",
      "21/21 [==============================] - 0s 2ms/step - loss: 0.7346 - accuracy: 0.7143 - val_loss: 0.7817 - val_accuracy: 0.5556\n",
      "Epoch 11/100\n",
      "21/21 [==============================] - 0s 3ms/step - loss: 0.7093 - accuracy: 0.7143 - val_loss: 0.7658 - val_accuracy: 0.5556\n",
      "Epoch 12/100\n",
      "21/21 [==============================] - 0s 3ms/step - loss: 0.6876 - accuracy: 0.7143 - val_loss: 0.7438 - val_accuracy: 0.5556\n",
      "Epoch 13/100\n",
      "21/21 [==============================] - 0s 3ms/step - loss: 0.6635 - accuracy: 0.7143 - val_loss: 0.7285 - val_accuracy: 0.5556\n",
      "Epoch 14/100\n",
      "21/21 [==============================] - 0s 3ms/step - loss: 0.6433 - accuracy: 0.7143 - val_loss: 0.7102 - val_accuracy: 0.5556\n",
      "Epoch 15/100\n",
      "21/21 [==============================] - 0s 3ms/step - loss: 0.6229 - accuracy: 0.7143 - val_loss: 0.6918 - val_accuracy: 0.5556\n",
      "Epoch 16/100\n",
      "21/21 [==============================] - 0s 3ms/step - loss: 0.6062 - accuracy: 0.7143 - val_loss: 0.6802 - val_accuracy: 0.5556\n",
      "Epoch 17/100\n",
      "21/21 [==============================] - 0s 3ms/step - loss: 0.5878 - accuracy: 0.7143 - val_loss: 0.6650 - val_accuracy: 0.5556\n",
      "Epoch 18/100\n",
      "21/21 [==============================] - 0s 3ms/step - loss: 0.5729 - accuracy: 0.7143 - val_loss: 0.6476 - val_accuracy: 0.5556\n",
      "Epoch 19/100\n",
      "21/21 [==============================] - 0s 3ms/step - loss: 0.5579 - accuracy: 0.7143 - val_loss: 0.6351 - val_accuracy: 0.5556\n",
      "Epoch 20/100\n",
      "21/21 [==============================] - 0s 3ms/step - loss: 0.5459 - accuracy: 0.7143 - val_loss: 0.6272 - val_accuracy: 0.5556\n",
      "Epoch 21/100\n",
      "21/21 [==============================] - 0s 3ms/step - loss: 0.5335 - accuracy: 0.7143 - val_loss: 0.6108 - val_accuracy: 0.5556\n",
      "Epoch 22/100\n",
      "21/21 [==============================] - 0s 3ms/step - loss: 0.5217 - accuracy: 0.7143 - val_loss: 0.6014 - val_accuracy: 0.5556\n",
      "Epoch 23/100\n",
      "21/21 [==============================] - 0s 3ms/step - loss: 0.5106 - accuracy: 0.7143 - val_loss: 0.5912 - val_accuracy: 0.5778\n",
      "Epoch 24/100\n",
      "21/21 [==============================] - 0s 3ms/step - loss: 0.5023 - accuracy: 0.7143 - val_loss: 0.5778 - val_accuracy: 0.6000\n",
      "Epoch 25/100\n",
      "21/21 [==============================] - 0s 3ms/step - loss: 0.4914 - accuracy: 0.7143 - val_loss: 0.5701 - val_accuracy: 0.6000\n",
      "Epoch 26/100\n",
      "21/21 [==============================] - 0s 3ms/step - loss: 0.4843 - accuracy: 0.7143 - val_loss: 0.5635 - val_accuracy: 0.6000\n",
      "Epoch 27/100\n",
      "21/21 [==============================] - 0s 3ms/step - loss: 0.4760 - accuracy: 0.7143 - val_loss: 0.5537 - val_accuracy: 0.6000\n",
      "Epoch 28/100\n",
      "21/21 [==============================] - 0s 3ms/step - loss: 0.4718 - accuracy: 0.7143 - val_loss: 0.5482 - val_accuracy: 0.6000\n",
      "Epoch 29/100\n",
      "21/21 [==============================] - 0s 3ms/step - loss: 0.4628 - accuracy: 0.7238 - val_loss: 0.5351 - val_accuracy: 0.6444\n",
      "Epoch 30/100\n",
      "21/21 [==============================] - 0s 3ms/step - loss: 0.4564 - accuracy: 0.7333 - val_loss: 0.5272 - val_accuracy: 0.6444\n",
      "Epoch 31/100\n",
      "21/21 [==============================] - 0s 3ms/step - loss: 0.4508 - accuracy: 0.7333 - val_loss: 0.5218 - val_accuracy: 0.6444\n",
      "Epoch 32/100\n",
      "21/21 [==============================] - 0s 3ms/step - loss: 0.4452 - accuracy: 0.7524 - val_loss: 0.5136 - val_accuracy: 0.6444\n",
      "Epoch 33/100\n",
      "21/21 [==============================] - 0s 3ms/step - loss: 0.4399 - accuracy: 0.7524 - val_loss: 0.5072 - val_accuracy: 0.6444\n",
      "Epoch 34/100\n",
      "21/21 [==============================] - 0s 3ms/step - loss: 0.4363 - accuracy: 0.7524 - val_loss: 0.5030 - val_accuracy: 0.6444\n",
      "Epoch 35/100\n",
      "21/21 [==============================] - 0s 3ms/step - loss: 0.4301 - accuracy: 0.7524 - val_loss: 0.4938 - val_accuracy: 0.7111\n",
      "Epoch 36/100\n",
      "21/21 [==============================] - 0s 2ms/step - loss: 0.4272 - accuracy: 0.7619 - val_loss: 0.4865 - val_accuracy: 0.7778\n",
      "Epoch 37/100\n",
      "21/21 [==============================] - 0s 2ms/step - loss: 0.4220 - accuracy: 0.7810 - val_loss: 0.4811 - val_accuracy: 0.7778\n",
      "Epoch 38/100\n",
      "21/21 [==============================] - 0s 2ms/step - loss: 0.4189 - accuracy: 0.7714 - val_loss: 0.4766 - val_accuracy: 0.7778\n",
      "Epoch 39/100\n",
      "21/21 [==============================] - 0s 2ms/step - loss: 0.4148 - accuracy: 0.7810 - val_loss: 0.4698 - val_accuracy: 0.8222\n",
      "Epoch 40/100\n",
      "21/21 [==============================] - 0s 2ms/step - loss: 0.4107 - accuracy: 0.7810 - val_loss: 0.4660 - val_accuracy: 0.7778\n",
      "Epoch 41/100\n",
      "21/21 [==============================] - 0s 2ms/step - loss: 0.4060 - accuracy: 0.7810 - val_loss: 0.4595 - val_accuracy: 0.8000\n",
      "Epoch 42/100\n",
      "21/21 [==============================] - 0s 2ms/step - loss: 0.4033 - accuracy: 0.7810 - val_loss: 0.4541 - val_accuracy: 0.8444\n",
      "Epoch 43/100\n",
      "21/21 [==============================] - 0s 3ms/step - loss: 0.3987 - accuracy: 0.7905 - val_loss: 0.4475 - val_accuracy: 0.8889\n",
      "Epoch 44/100\n",
      "21/21 [==============================] - 0s 3ms/step - loss: 0.3952 - accuracy: 0.7905 - val_loss: 0.4418 - val_accuracy: 0.9556\n",
      "Epoch 45/100\n",
      "21/21 [==============================] - 0s 3ms/step - loss: 0.3906 - accuracy: 0.8095 - val_loss: 0.4357 - val_accuracy: 0.9556\n",
      "Epoch 46/100\n",
      "21/21 [==============================] - 0s 2ms/step - loss: 0.3881 - accuracy: 0.8000 - val_loss: 0.4307 - val_accuracy: 0.9111\n",
      "Epoch 47/100\n",
      "21/21 [==============================] - 0s 2ms/step - loss: 0.3826 - accuracy: 0.8000 - val_loss: 0.4242 - val_accuracy: 0.9333\n",
      "Epoch 48/100\n",
      "21/21 [==============================] - 0s 2ms/step - loss: 0.3792 - accuracy: 0.8571 - val_loss: 0.4148 - val_accuracy: 0.9778\n",
      "Epoch 49/100\n",
      "21/21 [==============================] - 0s 2ms/step - loss: 0.3713 - accuracy: 0.8571 - val_loss: 0.4070 - val_accuracy: 0.9778\n",
      "Epoch 50/100\n",
      "21/21 [==============================] - 0s 3ms/step - loss: 0.3659 - accuracy: 0.8476 - val_loss: 0.3963 - val_accuracy: 0.9778\n",
      "Epoch 51/100\n",
      "21/21 [==============================] - 0s 3ms/step - loss: 0.3597 - accuracy: 0.8857 - val_loss: 0.3858 - val_accuracy: 0.9778\n",
      "Epoch 52/100\n",
      "21/21 [==============================] - 0s 4ms/step - loss: 0.3533 - accuracy: 0.8857 - val_loss: 0.3731 - val_accuracy: 1.0000\n",
      "Epoch 53/100\n",
      "21/21 [==============================] - 0s 2ms/step - loss: 0.3475 - accuracy: 0.8952 - val_loss: 0.3629 - val_accuracy: 1.0000\n",
      "Epoch 54/100\n",
      "21/21 [==============================] - 0s 2ms/step - loss: 0.3388 - accuracy: 0.8952 - val_loss: 0.3496 - val_accuracy: 1.0000\n",
      "Epoch 55/100\n",
      "21/21 [==============================] - 0s 2ms/step - loss: 0.3335 - accuracy: 0.8857 - val_loss: 0.3417 - val_accuracy: 1.0000\n",
      "Epoch 56/100\n",
      "21/21 [==============================] - 0s 2ms/step - loss: 0.3254 - accuracy: 0.9048 - val_loss: 0.3299 - val_accuracy: 1.0000\n",
      "Epoch 57/100\n",
      "21/21 [==============================] - 0s 2ms/step - loss: 0.3193 - accuracy: 0.9238 - val_loss: 0.3168 - val_accuracy: 1.0000\n",
      "Epoch 58/100\n",
      "21/21 [==============================] - 0s 2ms/step - loss: 0.3116 - accuracy: 0.9048 - val_loss: 0.3066 - val_accuracy: 1.0000\n"
     ]
    },
    {
     "name": "stdout",
     "output_type": "stream",
     "text": [
      "Epoch 59/100\n",
      "21/21 [==============================] - 0s 2ms/step - loss: 0.3073 - accuracy: 0.9048 - val_loss: 0.2982 - val_accuracy: 1.0000\n",
      "Epoch 60/100\n",
      "21/21 [==============================] - 0s 2ms/step - loss: 0.3021 - accuracy: 0.9048 - val_loss: 0.2884 - val_accuracy: 1.0000\n",
      "Epoch 61/100\n",
      "21/21 [==============================] - 0s 2ms/step - loss: 0.2966 - accuracy: 0.9048 - val_loss: 0.2807 - val_accuracy: 1.0000\n",
      "Epoch 62/100\n",
      "21/21 [==============================] - 0s 2ms/step - loss: 0.2955 - accuracy: 0.9143 - val_loss: 0.2751 - val_accuracy: 1.0000\n",
      "Epoch 63/100\n",
      "21/21 [==============================] - 0s 4ms/step - loss: 0.2861 - accuracy: 0.9238 - val_loss: 0.2670 - val_accuracy: 1.0000\n",
      "Epoch 64/100\n",
      "21/21 [==============================] - 0s 3ms/step - loss: 0.2834 - accuracy: 0.9333 - val_loss: 0.2599 - val_accuracy: 1.0000\n",
      "Epoch 65/100\n",
      "21/21 [==============================] - 0s 3ms/step - loss: 0.2848 - accuracy: 0.9524 - val_loss: 0.2548 - val_accuracy: 1.0000\n",
      "Epoch 66/100\n",
      "21/21 [==============================] - 0s 2ms/step - loss: 0.2783 - accuracy: 0.9238 - val_loss: 0.2480 - val_accuracy: 1.0000\n",
      "Epoch 67/100\n",
      "21/21 [==============================] - 0s 2ms/step - loss: 0.2701 - accuracy: 0.9333 - val_loss: 0.2411 - val_accuracy: 1.0000\n",
      "Epoch 68/100\n",
      "21/21 [==============================] - 0s 2ms/step - loss: 0.2658 - accuracy: 0.9333 - val_loss: 0.2361 - val_accuracy: 1.0000\n",
      "Epoch 69/100\n",
      "21/21 [==============================] - 0s 2ms/step - loss: 0.2623 - accuracy: 0.9238 - val_loss: 0.2306 - val_accuracy: 1.0000\n",
      "Epoch 70/100\n",
      "21/21 [==============================] - 0s 2ms/step - loss: 0.2606 - accuracy: 0.9333 - val_loss: 0.2253 - val_accuracy: 1.0000\n",
      "Epoch 71/100\n",
      "21/21 [==============================] - 0s 2ms/step - loss: 0.2554 - accuracy: 0.9429 - val_loss: 0.2196 - val_accuracy: 1.0000\n",
      "Epoch 72/100\n",
      "21/21 [==============================] - 0s 4ms/step - loss: 0.2505 - accuracy: 0.9429 - val_loss: 0.2151 - val_accuracy: 1.0000\n",
      "Epoch 73/100\n",
      "21/21 [==============================] - 0s 3ms/step - loss: 0.2477 - accuracy: 0.9429 - val_loss: 0.2114 - val_accuracy: 1.0000\n",
      "Epoch 74/100\n",
      "21/21 [==============================] - 0s 3ms/step - loss: 0.2482 - accuracy: 0.9429 - val_loss: 0.2068 - val_accuracy: 1.0000\n",
      "Epoch 75/100\n",
      "21/21 [==============================] - 0s 2ms/step - loss: 0.2485 - accuracy: 0.9333 - val_loss: 0.2024 - val_accuracy: 1.0000\n",
      "Epoch 76/100\n",
      "21/21 [==============================] - 0s 2ms/step - loss: 0.2373 - accuracy: 0.9429 - val_loss: 0.1989 - val_accuracy: 1.0000\n",
      "Epoch 77/100\n",
      "21/21 [==============================] - 0s 2ms/step - loss: 0.2356 - accuracy: 0.9524 - val_loss: 0.1946 - val_accuracy: 1.0000\n",
      "Epoch 78/100\n",
      "21/21 [==============================] - 0s 2ms/step - loss: 0.2316 - accuracy: 0.9429 - val_loss: 0.1898 - val_accuracy: 1.0000\n",
      "Epoch 79/100\n",
      "21/21 [==============================] - 0s 2ms/step - loss: 0.2287 - accuracy: 0.9429 - val_loss: 0.1862 - val_accuracy: 1.0000\n",
      "Epoch 80/100\n",
      "21/21 [==============================] - 0s 2ms/step - loss: 0.2273 - accuracy: 0.9429 - val_loss: 0.1828 - val_accuracy: 1.0000\n",
      "Epoch 81/100\n",
      "21/21 [==============================] - 0s 2ms/step - loss: 0.2234 - accuracy: 0.9524 - val_loss: 0.1802 - val_accuracy: 1.0000\n",
      "Epoch 82/100\n",
      "21/21 [==============================] - 0s 2ms/step - loss: 0.2206 - accuracy: 0.9524 - val_loss: 0.1763 - val_accuracy: 1.0000\n",
      "Epoch 83/100\n",
      "21/21 [==============================] - 0s 2ms/step - loss: 0.2179 - accuracy: 0.9429 - val_loss: 0.1726 - val_accuracy: 1.0000\n",
      "Epoch 84/100\n",
      "21/21 [==============================] - 0s 2ms/step - loss: 0.2169 - accuracy: 0.9524 - val_loss: 0.1699 - val_accuracy: 1.0000\n",
      "Epoch 85/100\n",
      "21/21 [==============================] - 0s 2ms/step - loss: 0.2146 - accuracy: 0.9619 - val_loss: 0.1683 - val_accuracy: 1.0000\n",
      "Epoch 86/100\n",
      "21/21 [==============================] - 0s 2ms/step - loss: 0.2112 - accuracy: 0.9714 - val_loss: 0.1632 - val_accuracy: 1.0000\n",
      "Epoch 87/100\n",
      "21/21 [==============================] - 0s 2ms/step - loss: 0.2097 - accuracy: 0.9524 - val_loss: 0.1616 - val_accuracy: 1.0000\n",
      "Epoch 88/100\n",
      "21/21 [==============================] - 0s 2ms/step - loss: 0.2082 - accuracy: 0.9619 - val_loss: 0.1575 - val_accuracy: 1.0000\n",
      "Epoch 89/100\n",
      "21/21 [==============================] - 0s 2ms/step - loss: 0.2153 - accuracy: 0.9429 - val_loss: 0.1594 - val_accuracy: 1.0000\n",
      "Epoch 90/100\n",
      "21/21 [==============================] - 0s 2ms/step - loss: 0.2011 - accuracy: 0.9429 - val_loss: 0.1520 - val_accuracy: 1.0000\n",
      "Epoch 91/100\n",
      "21/21 [==============================] - 0s 2ms/step - loss: 0.2018 - accuracy: 0.9619 - val_loss: 0.1501 - val_accuracy: 1.0000\n",
      "Epoch 92/100\n",
      "21/21 [==============================] - 0s 2ms/step - loss: 0.2006 - accuracy: 0.9524 - val_loss: 0.1477 - val_accuracy: 1.0000\n",
      "Epoch 93/100\n",
      "21/21 [==============================] - 0s 2ms/step - loss: 0.1955 - accuracy: 0.9619 - val_loss: 0.1478 - val_accuracy: 1.0000\n",
      "Epoch 94/100\n",
      "21/21 [==============================] - 0s 2ms/step - loss: 0.1961 - accuracy: 0.9619 - val_loss: 0.1432 - val_accuracy: 1.0000\n",
      "Epoch 95/100\n",
      "21/21 [==============================] - 0s 2ms/step - loss: 0.1937 - accuracy: 0.9524 - val_loss: 0.1414 - val_accuracy: 1.0000\n",
      "Epoch 96/100\n",
      "21/21 [==============================] - 0s 2ms/step - loss: 0.1909 - accuracy: 0.9714 - val_loss: 0.1398 - val_accuracy: 1.0000\n",
      "Epoch 97/100\n",
      "21/21 [==============================] - 0s 2ms/step - loss: 0.1928 - accuracy: 0.9619 - val_loss: 0.1371 - val_accuracy: 1.0000\n",
      "Epoch 98/100\n",
      "21/21 [==============================] - 0s 2ms/step - loss: 0.1896 - accuracy: 0.9714 - val_loss: 0.1339 - val_accuracy: 1.0000\n",
      "Epoch 99/100\n",
      "21/21 [==============================] - 0s 2ms/step - loss: 0.1871 - accuracy: 0.9619 - val_loss: 0.1348 - val_accuracy: 1.0000\n",
      "Epoch 100/100\n",
      "21/21 [==============================] - 0s 2ms/step - loss: 0.1857 - accuracy: 0.9714 - val_loss: 0.1302 - val_accuracy: 1.0000\n"
     ]
    }
   ],
   "source": [
    "history_kr = model_kr.fit(X_train_kr, y_train_kr, epochs=n_epochs, \n",
    "                          batch_size=batch_size, validation_data=(X_test_kr, y_test_kr))"
   ]
  },
  {
   "cell_type": "code",
   "execution_count": 14,
   "id": "c737a5a3",
   "metadata": {},
   "outputs": [
    {
     "name": "stdout",
     "output_type": "stream",
     "text": [
      "4/4 [==============================] - 0s 2ms/step - loss: 0.1831 - accuracy: 0.9619\n",
      "2/2 [==============================] - 0s 4ms/step - loss: 0.1302 - accuracy: 1.0000\n"
     ]
    }
   ],
   "source": [
    "train_loss_kr, train_acc_kr = model_kr.evaluate(X_train_kr, y_train_kr)\n",
    "test_loss_kr, test_acc_kr = model_kr.evaluate(X_test_kr, y_test_kr)"
   ]
  },
  {
   "cell_type": "markdown",
   "id": "6abfa8f3",
   "metadata": {},
   "source": [
    "## Train XGBoost"
   ]
  },
  {
   "cell_type": "code",
   "execution_count": 15,
   "id": "fa8f8665",
   "metadata": {},
   "outputs": [
    {
     "name": "stdout",
     "output_type": "stream",
     "text": [
      "[21:16:01] WARNING: /Users/runner/miniforge3/conda-bld/xgboost-split_1679035096581/work/src/learner.cc:767: \n",
      "Parameters: { \"silent\" } are not used.\n",
      "\n"
     ]
    }
   ],
   "source": [
    "bst = xgb.train(param, dtrain, num_round)\n",
    "preds_train_xg = bst.predict(dtrain)\n",
    "preds_test_xg = bst.predict(dtest)"
   ]
  },
  {
   "cell_type": "markdown",
   "id": "fe5b1b05",
   "metadata": {},
   "source": [
    "## Plot"
   ]
  },
  {
   "cell_type": "code",
   "execution_count": 16,
   "id": "c8dff87e",
   "metadata": {},
   "outputs": [
    {
     "data": {
      "text/plain": [
       "<All keys matched successfully>"
      ]
     },
     "execution_count": 16,
     "metadata": {},
     "output_type": "execute_result"
    }
   ],
   "source": [
    "# Restore Pytorch best model\n",
    "model_pt.load_state_dict(best_weights_pt)"
   ]
  },
  {
   "cell_type": "code",
   "execution_count": 17,
   "id": "63adfc40",
   "metadata": {},
   "outputs": [
    {
     "data": {
      "image/png": "[encoded data removed]",
      "text/plain": [
       "<Figure size 1008x432 with 2 Axes>"
      ]
     },
     "metadata": {
      "needs_background": "light"
     },
     "output_type": "display_data"
    }
   ],
   "source": [
    "#Loss Figures\n",
    "plt.figure(figsize=(14,6))\n",
    "\n",
    "#graph parameters\n",
    "ymax=3\n",
    "wsize=15\n",
    "\n",
    "plt.subplot(1, 2, 1)\n",
    "plt.plot(train_loss_pt, label=\"train - Pytorch\")\n",
    "plt.plot(test_loss_pt, label=\"test - Pytorch\", linestyle='--')\n",
    "plt.xlabel(\"epochs\")\n",
    "plt.ylabel(\"cross entropy\")\n",
    "plt.title('Pytorch Loss')\n",
    "plt.text(70,2,r'$N_{epoch}$='+str(n_epochs),size=wsize)\n",
    "plt.text(65,1.75,r'$N_{hidden \\ layers}$='+str(n_hidden),size=wsize)\n",
    "plt.ylim(0,ymax)\n",
    "plt.legend()\n",
    "\n",
    "\n",
    "plt.subplot(1, 2, 2)\n",
    "# Plot the loss and accuracy\n",
    "plt.plot(history_kr.history['loss'], label=\"Train - Keras\", color='darkblue')\n",
    "plt.plot(history_kr.history['val_loss'], label=\"Test - Keras\", color='orangered', linestyle='--')\n",
    "plt.title('Keras Loss')\n",
    "plt.xlabel(\"epochs\")\n",
    "plt.ylabel(\"cross entropy\")\n",
    "plt.ylim(0,ymax)\n",
    "plt.legend()\n",
    "plt.text(70,2,r'$N_{epoch}$='+str(n_epochs),size=wsize)\n",
    "plt.text(65,1.75,r'$N_{hidden \\ layers}$='+str(n_hidden),size=wsize)\n",
    "#plt.show()\n",
    "\n",
    "plt.show()"
   ]
  },
  {
   "cell_type": "code",
   "execution_count": 18,
   "id": "65d266af",
   "metadata": {},
   "outputs": [
    {
     "data": {
      "image/png": "[encoded data removed]",
      "text/plain": [
       "<Figure size 1008x432 with 2 Axes>"
      ]
     },
     "metadata": {
      "needs_background": "light"
     },
     "output_type": "display_data"
    }
   ],
   "source": [
    "#Accuracy Figures\n",
    "plt.figure(figsize=(14,6))\n",
    "\n",
    "plt.subplot(1, 2, 1)\n",
    "plt.plot(train_acc_pt, label=\"Train - Pytorch\")\n",
    "plt.plot(test_acc_pt, label=\"Test - Pytorch\", linestyle='--')\n",
    "plt.title('Pytorch Model Accuracy')\n",
    "plt.xlabel(\"epochs\")\n",
    "plt.ylabel(\"accuracy\")\n",
    "plt.ylim(0,1)\n",
    "plt.text(70,0.7,r'$N_{epoch}$='+str(n_epochs),size=wsize)\n",
    "plt.text(65,0.6,r'$N_{hidden \\ layers}$='+str(n_hidden),size=wsize)\n",
    "plt.legend()\n",
    "#plt.show()\n",
    "\n",
    "plt.subplot(1, 2, 2)\n",
    "plt.plot(history_kr.history['accuracy'], label=\"Train - Keras\", color='darkblue')\n",
    "plt.plot(history_kr.history['val_accuracy'], label=\"Test - Keras\", color='orangered', linestyle='--')\n",
    "plt.title('Keras Model Accuracy')\n",
    "plt.ylabel('accuracy')\n",
    "plt.xlabel('epoch')\n",
    "plt.ylim(0,1)\n",
    "plt.text(70,0.7,r'$N_{epoch}$='+str(n_epochs),size=wsize)\n",
    "plt.text(65,0.6,r'$N_{hidden \\ layers}$='+str(n_hidden),size=wsize)\n",
    "plt.legend()\n",
    "\n",
    "plt.show()"
   ]
  },
  {
   "cell_type": "markdown",
   "id": "1ee9f8d5",
   "metadata": {},
   "source": [
    "## Evaluation Metrics"
   ]
  },
  {
   "cell_type": "code",
   "execution_count": 19,
   "id": "ba4b9845",
   "metadata": {},
   "outputs": [
    {
     "name": "stdout",
     "output_type": "stream",
     "text": [
      "Train Accuracy\n",
      "Pytorch Train Accuracy:  0.9714285731315613  | Pytorch Train Loss:  0.16319334790820167\n",
      "Keras Train Accuracy:  0.961904764175415  | Keras Train Loss:  0.18310117721557617\n",
      "XGBoost Train Accuracy: 1.0\n",
      " \n",
      "Test Accuracy\n",
      "Pytorch Test Accuracy:  1.0  | Pytorch Test Loss:  0.1588798314332962\n",
      "Keras Test Accuracy:  1.0  | Keras Test Loss:  0.13015535473823547\n",
      "XGBoost Test Accuracy: 0.9111111111111111\n"
     ]
    }
   ],
   "source": [
    "print(\"Train Accuracy\")\n",
    "print('Pytorch Train Accuracy: ', max(train_acc_pt), ' | Pytorch Train Loss: ', min(train_loss_pt))\n",
    "print('Keras Train Accuracy: ', train_acc_kr, ' | Keras Train Loss: ', train_loss_kr)\n",
    "\n",
    "# extracting most confident predictions\n",
    "best_preds_train_xg = np.asarray([np.argmax(line) for line in preds_train_xg])\n",
    "#print(\"Train precision:\", precision_score(y_train, best_preds_train, average='macro'))\n",
    "print(\"XGBoost Train Accuracy:\", accuracy_score(y_train_xg, best_preds_train_xg))\n",
    "\n",
    "print(\" \")\n",
    "print(\"Test Accuracy\")\n",
    "\n",
    "print('Pytorch Test Accuracy: ', max(test_acc_pt), ' | Pytorch Test Loss: ', min(test_loss_pt))\n",
    "print('Keras Test Accuracy: ', test_acc_kr, ' | Keras Test Loss: ', test_loss_kr)\n",
    "# extracting most confident predictions\n",
    "best_preds_test_xg = np.asarray([np.argmax(line) for line in preds_test_xg])\n",
    "#print(\"Test precision:\", precision_score(y_test, best_preds, average='macro'))\n",
    "print(\"XGBoost Test Accuracy:\", accuracy_score(y_test_xg, best_preds_test_xg))\n",
    "\n",
    "#preds = bst.predict(dtest)\n",
    "#best_preds = np.asarray([np.argmax(line) for line in preds])\n",
    "      "
   ]
  },
  {
   "cell_type": "code",
   "execution_count": 20,
   "id": "66510690",
   "metadata": {},
   "outputs": [
    {
     "data": {
      "text/plain": [
       "\"\\n#XGBoost Model Dumping\\n# dump the models\\nbst.dump_model('dump.raw.txt')\\nbst_svm.dump_model('dump_svm.raw.txt')\\n\\n# save the models for later\\njoblib.dump(bst, 'bst_model.pkl', compress=True)\\njoblib.dump(bst_svm, 'bst_svm_model.pkl', compress=True)\\n\""
      ]
     },
     "execution_count": 20,
     "metadata": {},
     "output_type": "execute_result"
    }
   ],
   "source": [
    "'''\n",
    "#XGBoost Model Dumping\n",
    "# dump the models\n",
    "bst.dump_model('dump.raw.txt')\n",
    "bst_svm.dump_model('dump_svm.raw.txt')\n",
    "\n",
    "# save the models for later\n",
    "joblib.dump(bst, 'bst_model.pkl', compress=True)\n",
    "joblib.dump(bst_svm, 'bst_svm_model.pkl', compress=True)\n",
    "'''"
   ]
  }
 ],
 "metadata": {
  "kernelspec": {
   "display_name": "Python 3 (ipykernel)",
   "language": "python",
   "name": "python3"
  },
  "language_info": {
   "codemirror_mode": {
    "name": "ipython",
    "version": 3
   },
   "file_extension": ".py",
   "mimetype": "text/x-python",
   "name": "python",
   "nbconvert_exporter": "python",
   "pygments_lexer": "ipython3",
   "version": "3.8.12"
  }
 },
 "nbformat": 4,
 "nbformat_minor": 5
}
