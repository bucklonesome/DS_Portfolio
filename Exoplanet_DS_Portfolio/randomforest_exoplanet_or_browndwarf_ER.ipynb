{
 "cells": [
  {
   "cell_type": "code",
   "execution_count": 1,
   "id": "76b2231a",
   "metadata": {},
   "outputs": [],
   "source": [
    "import matplotlib.pyplot as plt\n",
    "import seaborn as sns\n",
    "import numpy as np\n",
    "import pandas as pd\n",
    "import copy\n",
    "sns.set_style('darkgrid')\n",
    "%matplotlib inline\n",
    "\n",
    "\n",
    "#sklearn\n",
    "from sklearn.model_selection import train_test_split\n",
    "from sklearn.preprocessing import OneHotEncoder, LabelEncoder\n",
    "from sklearn.ensemble import RandomForestClassifier\n",
    "from sklearn.metrics import precision_score, accuracy_score, classification_report, confusion_matrix\n",
    "\n",
    "\n",
    "#xgboost\n",
    "import xgboost as xgb"
   ]
  },
  {
   "cell_type": "markdown",
   "id": "3f0f49b7",
   "metadata": {},
   "source": [
    "# Initialize Data"
   ]
  },
  {
   "cell_type": "code",
   "execution_count": 2,
   "id": "65025e91",
   "metadata": {},
   "outputs": [],
   "source": [
    "data = pd.read_csv(\"exoplanet_plus_browndwarf.csv\")"
   ]
  },
  {
   "cell_type": "code",
   "execution_count": 3,
   "id": "109bd9dd",
   "metadata": {},
   "outputs": [
    {
     "data": {
      "text/html": [
       "<div>\n",
       "<style scoped>\n",
       "    .dataframe tbody tr th:only-of-type {\n",
       "        vertical-align: middle;\n",
       "    }\n",
       "\n",
       "    .dataframe tbody tr th {\n",
       "        vertical-align: top;\n",
       "    }\n",
       "\n",
       "    .dataframe thead th {\n",
       "        text-align: right;\n",
       "    }\n",
       "</style>\n",
       "<table border=\"1\" class=\"dataframe\">\n",
       "  <thead>\n",
       "    <tr style=\"text-align: right;\">\n",
       "      <th></th>\n",
       "      <th>pl_rade</th>\n",
       "      <th>log_pl_orbper</th>\n",
       "      <th>st_teff</th>\n",
       "      <th>pl_class</th>\n",
       "      <th>pl_class2</th>\n",
       "    </tr>\n",
       "  </thead>\n",
       "  <tbody>\n",
       "    <tr>\n",
       "      <th>0</th>\n",
       "      <td>1.875</td>\n",
       "      <td>-0.132799</td>\n",
       "      <td>5172.0</td>\n",
       "      <td>Terrestrial</td>\n",
       "      <td>SuperEarth</td>\n",
       "    </tr>\n",
       "    <tr>\n",
       "      <th>1</th>\n",
       "      <td>4.070</td>\n",
       "      <td>0.927524</td>\n",
       "      <td>3588.0</td>\n",
       "      <td>Terrestrial</td>\n",
       "      <td>Neptunian</td>\n",
       "    </tr>\n",
       "    <tr>\n",
       "      <th>2</th>\n",
       "      <td>3.240</td>\n",
       "      <td>1.275518</td>\n",
       "      <td>3700.0</td>\n",
       "      <td>Terrestrial</td>\n",
       "      <td>SuperEarth</td>\n",
       "    </tr>\n",
       "    <tr>\n",
       "      <th>3</th>\n",
       "      <td>2.578</td>\n",
       "      <td>1.619985</td>\n",
       "      <td>5766.0</td>\n",
       "      <td>Terrestrial</td>\n",
       "      <td>Neptunian</td>\n",
       "    </tr>\n",
       "    <tr>\n",
       "      <th>4</th>\n",
       "      <td>16.700</td>\n",
       "      <td>0.178676</td>\n",
       "      <td>5950.0</td>\n",
       "      <td>Jovian</td>\n",
       "      <td>Jovian</td>\n",
       "    </tr>\n",
       "  </tbody>\n",
       "</table>\n",
       "</div>"
      ],
      "text/plain": [
       "   pl_rade  log_pl_orbper  st_teff     pl_class   pl_class2\n",
       "0    1.875      -0.132799   5172.0  Terrestrial  SuperEarth\n",
       "1    4.070       0.927524   3588.0  Terrestrial   Neptunian\n",
       "2    3.240       1.275518   3700.0  Terrestrial  SuperEarth\n",
       "3    2.578       1.619985   5766.0  Terrestrial   Neptunian\n",
       "4   16.700       0.178676   5950.0       Jovian      Jovian"
      ]
     },
     "execution_count": 3,
     "metadata": {},
     "output_type": "execute_result"
    }
   ],
   "source": [
    "data.head(5)"
   ]
  },
  {
   "cell_type": "code",
   "execution_count": 4,
   "id": "5bd4301f",
   "metadata": {},
   "outputs": [],
   "source": [
    "data = data.drop(['pl_class2'],axis=1) #Drop Secondary Classification scheme"
   ]
  },
  {
   "cell_type": "code",
   "execution_count": 5,
   "id": "f324f81f",
   "metadata": {},
   "outputs": [],
   "source": [
    "X = data.iloc[:, 0:3] #continuous variables\n",
    "y = data.iloc[:, 3:] #labels"
   ]
  },
  {
   "cell_type": "code",
   "execution_count": 6,
   "id": "5ffba559",
   "metadata": {},
   "outputs": [
    {
     "name": "stderr",
     "output_type": "stream",
     "text": [
      "/opt/anaconda3/lib/python3.8/site-packages/sklearn/preprocessing/_label.py:115: DataConversionWarning: A column-vector y was passed when a 1d array was expected. Please change the shape of y to (n_samples, ), for example using ravel().\n",
      "  y = column_or_1d(y, warn=True)\n"
     ]
    }
   ],
   "source": [
    "#since there are more than 2 labels, one hot encode for XGBoost\n",
    "le = LabelEncoder()  \n",
    "y_xg = le.fit_transform(y) #for xgboost\n",
    "\n",
    "#ohe = OneHotEncoder(handle_unknown='ignore', sparse=False).fit(y)\n",
    "#y = ohe.transform(y) "
   ]
  },
  {
   "cell_type": "markdown",
   "id": "1b5860f5",
   "metadata": {},
   "source": [
    "# Train / Test Split"
   ]
  },
  {
   "cell_type": "code",
   "execution_count": 7,
   "id": "7465e80d",
   "metadata": {},
   "outputs": [],
   "source": [
    "ts=0.7 #split fraction\n",
    "\n",
    "#random forest\n",
    "X_train_rf, X_test_rf, y_train_rf, y_test_rf = train_test_split(X, y, train_size=ts, shuffle=True)\n",
    "#XGBoost\n",
    "X_train_xg, X_test_xg, y_train_xg, y_test_xg = train_test_split(X, y_xg, train_size=ts, shuffle=True)"
   ]
  },
  {
   "cell_type": "markdown",
   "id": "c41c37cb",
   "metadata": {},
   "source": [
    "# Create Random Forest Model"
   ]
  },
  {
   "cell_type": "code",
   "execution_count": 8,
   "id": "49a1d266",
   "metadata": {},
   "outputs": [],
   "source": [
    "n_estimators = 150\n",
    "\n",
    "model_rf = RandomForestClassifier(n_estimators = n_estimators, criterion = 'entropy')"
   ]
  },
  {
   "cell_type": "markdown",
   "id": "12c03a22",
   "metadata": {},
   "source": [
    "# Create / Prepare XGBoost Model"
   ]
  },
  {
   "cell_type": "code",
   "execution_count": 9,
   "id": "d5635b36",
   "metadata": {},
   "outputs": [],
   "source": [
    "#Next you need to create the Xgboost specific DMatrix data format from the numpy array. \n",
    "dtrain = xgb.DMatrix(X_train_xg, label=y_train_xg)\n",
    "dtest = xgb.DMatrix(X_test_xg, label=y_test_xg)\n",
    "\n",
    "# set xgboost params\n",
    "param = {\n",
    "    'max_depth': 3,  # the maximum depth of each tree\n",
    "    'eta': 0.3,  # the training step for each iteration\n",
    "    'silent': 1,  # logging mode - quiet\n",
    "    'objective': 'multi:softprob',  # error evaluation for multiclass training\n",
    "    'num_class': 3}  # the number of classes that exist in this datset\n",
    "#num_round = 20  # the number of training iterations\n",
    "num_round = n_estimators # the number of training iterations"
   ]
  },
  {
   "cell_type": "markdown",
   "id": "53c23e06",
   "metadata": {},
   "source": [
    "# Train Models"
   ]
  },
  {
   "cell_type": "code",
   "execution_count": 10,
   "id": "ece9c926",
   "metadata": {},
   "outputs": [
    {
     "name": "stderr",
     "output_type": "stream",
     "text": [
      "/var/folders/ny/3twd2wjn4_lcsddswcby5gdc0000gn/T/ipykernel_41335/2372704717.py:1: DataConversionWarning: A column-vector y was passed when a 1d array was expected. Please change the shape of y to (n_samples,), for example using ravel().\n",
      "  model_rf.fit(X_train_rf, y_train_rf)\n"
     ]
    },
    {
     "name": "stdout",
     "output_type": "stream",
     "text": [
      "[15:34:51] WARNING: /Users/runner/miniforge3/conda-bld/xgboost-split_1679035096581/work/src/learner.cc:767: \n",
      "Parameters: { \"silent\" } are not used.\n",
      "\n"
     ]
    }
   ],
   "source": [
    "model_rf.fit(X_train_rf, y_train_rf)\n",
    "preds_train_rf = model_rf.predict(X_train_rf)\n",
    "preds_test_rf = model_rf.predict(X_test_rf)\n",
    "\n",
    "model_xg = xgb.train(param, dtrain, num_round)\n",
    "preds_train_xg = model_xg.predict(dtrain)\n",
    "preds_test_xg = model_xg.predict(dtest)"
   ]
  },
  {
   "cell_type": "markdown",
   "id": "698a58ca",
   "metadata": {},
   "source": [
    "# Classification Reports"
   ]
  },
  {
   "cell_type": "code",
   "execution_count": 11,
   "id": "b753c144",
   "metadata": {},
   "outputs": [],
   "source": [
    "cm_rf = confusion_matrix(y_test_rf, preds_test_rf)"
   ]
  },
  {
   "cell_type": "code",
   "execution_count": 12,
   "id": "f1991431",
   "metadata": {},
   "outputs": [
    {
     "name": "stdout",
     "output_type": "stream",
     "text": [
      "Heatmap: Random Forest Test\n"
     ]
    },
    {
     "data": {
      "text/plain": [
       "<AxesSubplot:>"
      ]
     },
     "execution_count": 12,
     "metadata": {},
     "output_type": "execute_result"
    },
    {
     "data": {
      "image/png": "[encoded data removed]",
      "text/plain": [
       "<Figure size 432x288 with 2 Axes>"
      ]
     },
     "metadata": {
      "needs_background": "light"
     },
     "output_type": "display_data"
    }
   ],
   "source": [
    "print('Heatmap: Random Forest Test')\n",
    "sns.heatmap(cm_rf, annot=True, fmt=\"d\")"
   ]
  },
  {
   "cell_type": "code",
   "execution_count": 13,
   "id": "7d4aa6b3",
   "metadata": {},
   "outputs": [
    {
     "name": "stdout",
     "output_type": "stream",
     "text": [
      "Classification Report: Random Forest Test\n",
      "              precision    recall  f1-score   support\n",
      "\n",
      "  BrownDwarf       0.33      0.17      0.22        12\n",
      "      Jovian       0.72      0.85      0.78       124\n",
      " Terrestrial       0.83      0.73      0.78       132\n",
      "\n",
      "    accuracy                           0.76       268\n",
      "   macro avg       0.63      0.58      0.59       268\n",
      "weighted avg       0.76      0.76      0.75       268\n",
      "\n"
     ]
    }
   ],
   "source": [
    "print('Classification Report: Random Forest Test')\n",
    "print(classification_report(y_test_rf, preds_test_rf))"
   ]
  },
  {
   "cell_type": "code",
   "execution_count": 14,
   "id": "594b6e2c",
   "metadata": {},
   "outputs": [
    {
     "name": "stdout",
     "output_type": "stream",
     "text": [
      "Accuracy Score, Rand. Forest: 0.7611940298507462\n"
     ]
    }
   ],
   "source": [
    "print('Accuracy Score, Rand. Forest:', accuracy_score(y_test_rf, preds_test_rf))"
   ]
  },
  {
   "cell_type": "code",
   "execution_count": 15,
   "id": "193ff131",
   "metadata": {},
   "outputs": [],
   "source": [
    "#cm_rf_train = confusion_matrix(y_train_rf, preds_train_rf)"
   ]
  },
  {
   "cell_type": "code",
   "execution_count": 16,
   "id": "ffebbe70",
   "metadata": {},
   "outputs": [],
   "source": [
    "#print('Heatmap: Random Forest')\n",
    "#sns.heatmap(cm_rf_train, annot=True, fmt=\"d\")"
   ]
  },
  {
   "cell_type": "code",
   "execution_count": 17,
   "id": "04812965",
   "metadata": {},
   "outputs": [
    {
     "name": "stdout",
     "output_type": "stream",
     "text": [
      "XGBoost Test Accuracy: 0.0\n"
     ]
    }
   ],
   "source": [
    "#need to undo label encoder for XGBoost to work in confusion matrix/heatmap etc.\n",
    "y_test_xg = le.inverse_transform(y_test_xg)\n",
    "\n",
    "best_preds_test_xg = np.asarray([np.argmax(line) for line in preds_test_xg])\n",
    "#print(\"Test precision:\", precision_score(y_test, best_preds, average='macro'))\n",
    "print(\"XGBoost Test Accuracy:\", accuracy_score(y_test_xg, best_preds_test_xg))\n",
    "\n",
    "best_preds_test_xg = le.inverse_transform(best_preds_test_xg)"
   ]
  },
  {
   "cell_type": "code",
   "execution_count": 18,
   "id": "f3fc03e3",
   "metadata": {},
   "outputs": [],
   "source": [
    "cm_xg = confusion_matrix(y_test_xg, best_preds_test_xg)"
   ]
  },
  {
   "cell_type": "code",
   "execution_count": 19,
   "id": "6c781987",
   "metadata": {},
   "outputs": [
    {
     "name": "stdout",
     "output_type": "stream",
     "text": [
      "Heatmap: XGBoost Test\n"
     ]
    },
    {
     "data": {
      "text/plain": [
       "<AxesSubplot:>"
      ]
     },
     "execution_count": 19,
     "metadata": {},
     "output_type": "execute_result"
    },
    {
     "data": {
      "image/png": "[encoded data removed]",
      "text/plain": [
       "<Figure size 432x288 with 2 Axes>"
      ]
     },
     "metadata": {
      "needs_background": "light"
     },
     "output_type": "display_data"
    }
   ],
   "source": [
    "print('Heatmap: XGBoost Test')\n",
    "sns.heatmap(cm_xg, annot=True, fmt=\"d\")"
   ]
  },
  {
   "cell_type": "code",
   "execution_count": 20,
   "id": "619438aa",
   "metadata": {},
   "outputs": [
    {
     "name": "stdout",
     "output_type": "stream",
     "text": [
      "Classification Report: XGBoost Test\n",
      "              precision    recall  f1-score   support\n",
      "\n",
      "  BrownDwarf       0.55      0.33      0.41        18\n",
      "      Jovian       0.73      0.85      0.79       123\n",
      " Terrestrial       0.84      0.75      0.79       127\n",
      "\n",
      "    accuracy                           0.77       268\n",
      "   macro avg       0.71      0.65      0.66       268\n",
      "weighted avg       0.77      0.77      0.76       268\n",
      "\n"
     ]
    }
   ],
   "source": [
    "print('Classification Report: XGBoost Test')\n",
    "print(classification_report(y_test_xg, best_preds_test_xg))"
   ]
  },
  {
   "cell_type": "code",
   "execution_count": 21,
   "id": "1e52285c",
   "metadata": {},
   "outputs": [
    {
     "name": "stdout",
     "output_type": "stream",
     "text": [
      "Accuracy Score, XGBoost Test: 0.7686567164179104\n"
     ]
    }
   ],
   "source": [
    "print('Accuracy Score, XGBoost Test:', accuracy_score(y_test_xg, best_preds_test_xg))"
   ]
  },
  {
   "cell_type": "code",
   "execution_count": null,
   "id": "a286452e",
   "metadata": {},
   "outputs": [],
   "source": []
  },
  {
   "cell_type": "code",
   "execution_count": null,
   "id": "fb5f6712",
   "metadata": {},
   "outputs": [],
   "source": []
  }
 ],
 "metadata": {
  "kernelspec": {
   "display_name": "Python 3 (ipykernel)",
   "language": "python",
   "name": "python3"
  },
  "language_info": {
   "codemirror_mode": {
    "name": "ipython",
    "version": 3
   },
   "file_extension": ".py",
   "mimetype": "text/x-python",
   "name": "python",
   "nbconvert_exporter": "python",
   "pygments_lexer": "ipython3",
   "version": "3.8.12"
  }
 },
 "nbformat": 4,
 "nbformat_minor": 5
}
