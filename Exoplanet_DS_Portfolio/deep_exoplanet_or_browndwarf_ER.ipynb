{
 "cells": [
  {
   "cell_type": "markdown",
   "id": "b49fc98e",
   "metadata": {},
   "source": [
    "# Can we predict if a Transit is due to a Brown Dwarf Star or a Planet using Machine Learning? Part 2 - Deep Learning with PyTorch & Keras"
   ]
  },
  {
   "cell_type": "markdown",
   "id": "ad8568bb",
   "metadata": {},
   "source": [
    "### Please see Part 1 ( https://github.com/the-dr-eric-r/DS_Portfolio/blob/main/Exoplanet_DS_Portfolio/exoplanet_or_browndwarf_ER.ipynb ) of this problem for the overview. The following exercise if designed to get experience with Deep Learning..."
   ]
  },
  {
   "cell_type": "markdown",
   "id": "51656352",
   "metadata": {},
   "source": [
    "I recently completed a few courses in Deep Learning (each approximately 4 hours in videos+guided exercises)... \n",
    "\n",
    "- Intro To Deep Learning - *Kaggle*\n",
    "- Introduction to Deep Learning with Pytorch - *DataCamp*\n",
    "- Introduction to Deep Learning with Keras - *DataCamp*\n",
    "- Advanced Deep Learning with Keras - *DataCamp*\n",
    "\n",
    "Courses however do not translate to experience. I felt the best way to make sure that I understood the basics of Neural Networks and using Deep Learning tools was to do a comparison between different common Deep Learning libraries, PyTorch and Keras.\n",
    "\n",
    "The PyTorch and Keras models will both contain the same number of hidden layers and epochs in the fitting. We use XGBoost as a comparison case (as this usually scores quite well), noting that it is not a neural network but a tree ensemble method. I chose this because I hear about it all the time on a few podcasts I follow, and in studying this came across the following article: *Tabular Data: Deep Learning is Not All You Need* - https://arxiv.org/abs/2106.03253"
   ]
  },
  {
   "cell_type": "markdown",
   "id": "2af78c53",
   "metadata": {},
   "source": [
    "Before attempting this on my own compiled Exoplanet/Brown Dwarf data, I tested this code on the Iris Classification problem (properly classify Iris flower species noting the petal/sepal properties, a ML-Bootcamp Right-of-Passage). This example is not included here.\n",
    "\n",
    "I referenced the following articles / code sources that approach this problem, and modify them based on what I learned in the above courses, as well as to align properties of the Neural Network.\n",
    "\n",
    "- **Building a Multiclass Classification Model in PyTorch** - https://machinelearningmastery.com/building-a-multiclass-classification-model-in-pytorch/\n",
    "- **Iris Classification using a Keras Neural Network** - https://medium.com/@manwill/iris-classification-using-a-keras-neural-network-39d735d11fda\n",
    "- **Keras Multi-class Classification using IRIS Dataset** - https://vitalflux.com/keras-multi-class-classification-using-iris-dataset/\n",
    "- **A Simple XGBoost Tutorial Using the Iris Dataset** - https://www.kdnuggets.com/2017/03/simple-xgboost-tutorial-iris-dataset.html\n"
   ]
  },
  {
   "cell_type": "code",
   "execution_count": 1,
   "id": "619735b3",
   "metadata": {},
   "outputs": [],
   "source": [
    "import matplotlib.pyplot as plt\n",
    "import seaborn as sns\n",
    "import numpy as np\n",
    "import pandas as pd\n",
    "import copy\n",
    "\n",
    "#sklearn\n",
    "from sklearn.model_selection import train_test_split\n",
    "from sklearn.preprocessing import OneHotEncoder\n",
    "from sklearn.preprocessing import LabelEncoder  \n",
    "from sklearn.metrics import precision_score, accuracy_score\n",
    "\n",
    "#pytorch\n",
    "import torch\n",
    "import torch.nn as nn\n",
    "import torch.optim as optim\n",
    "import tqdm\n",
    "\n",
    "#keras / tensorflow\n",
    "import tensorflow as tf\n",
    "from tensorflow import keras\n",
    "from tensorflow.keras import layers, Model, Sequential\n",
    "from tensorflow.keras.utils import to_categorical\n",
    "\n",
    "#xgboost\n",
    "import xgboost as xgb"
   ]
  },
  {
   "cell_type": "code",
   "execution_count": 2,
   "id": "57f2706a",
   "metadata": {},
   "outputs": [],
   "source": [
    "# read data and apply one-hot encoding\n",
    "data = pd.read_csv(\"exoplanet_plus_browndwarf.csv\")"
   ]
  },
  {
   "cell_type": "code",
   "execution_count": 3,
   "id": "1c34dcc9",
   "metadata": {},
   "outputs": [
    {
     "data": {
      "text/plain": [
       "<AxesSubplot:>"
      ]
     },
     "execution_count": 3,
     "metadata": {},
     "output_type": "execute_result"
    },
    {
     "data": {
      "image/png": "[encoded data removed]",
      "text/plain": [
       "<Figure size 432x288 with 2 Axes>"
      ]
     },
     "metadata": {
      "needs_background": "light"
     },
     "output_type": "display_data"
    }
   ],
   "source": [
    "sns.heatmap(data.corr(), annot = True)"
   ]
  },
  {
   "cell_type": "code",
   "execution_count": 4,
   "id": "15ff530c",
   "metadata": {},
   "outputs": [
    {
     "name": "stderr",
     "output_type": "stream",
     "text": [
      "/opt/anaconda3/lib/python3.8/site-packages/sklearn/preprocessing/_label.py:115: DataConversionWarning: A column-vector y was passed when a 1d array was expected. Please change the shape of y to (n_samples, ), for example using ravel().\n",
      "  y = column_or_1d(y, warn=True)\n"
     ]
    }
   ],
   "source": [
    "X = data.iloc[:, 0:3]\n",
    "y = data.iloc[:, 3:]\n",
    "\n",
    "le = LabelEncoder()  \n",
    "y_xg = le.fit_transform(y) #for xgboost\n",
    "ohe = OneHotEncoder(handle_unknown='ignore', sparse=False).fit(y)\n",
    "y = ohe.transform(y) #for keras / pytorch\n",
    "\n",
    "# convert pandas DataFrame (X) and numpy array (y) into PyTorch tensors\n",
    "X_pt = torch.tensor(X.values, dtype=torch.float32)\n",
    "y_pt = torch.tensor(y, dtype=torch.float32)"
   ]
  },
  {
   "cell_type": "markdown",
   "id": "7afe7fb0",
   "metadata": {},
   "source": [
    "## Train / Test Split"
   ]
  },
  {
   "cell_type": "code",
   "execution_count": 5,
   "id": "57a19efb",
   "metadata": {},
   "outputs": [],
   "source": [
    "ts=0.7 #split fraction\n",
    "\n",
    "#Pytorch\n",
    "X_train_pt, X_test_pt, y_train_pt, y_test_pt = train_test_split(X_pt, y_pt, train_size=ts, shuffle=True)\n",
    "#Keras\n",
    "X_train_kr, X_test_kr, y_train_kr, y_test_kr = train_test_split(X, y, train_size=ts, shuffle=True)\n",
    "#XGBoost\n",
    "X_train_xg, X_test_xg, y_train_xg, y_test_xg = train_test_split(X, y_xg, train_size=ts, shuffle=True)"
   ]
  },
  {
   "cell_type": "markdown",
   "id": "f559268f",
   "metadata": {},
   "source": [
    "# Neural Network for Pytorch / Keras\n",
    "# [3 inputs] -> [8 hidden neurons] -> [3 (classes) outputs]"
   ]
  },
  {
   "cell_type": "code",
   "execution_count": 6,
   "id": "a06700e5",
   "metadata": {},
   "outputs": [],
   "source": [
    "# prepare model and training parameters\n",
    "n_hidden = 8\n",
    "n_epochs = 100\n",
    "batch_size = 5\n",
    "inp_shape = X.shape[1]"
   ]
  },
  {
   "cell_type": "markdown",
   "id": "3a3666e3",
   "metadata": {},
   "source": [
    "## Build Pytorch Model"
   ]
  },
  {
   "cell_type": "code",
   "execution_count": 7,
   "id": "89e9dad8",
   "metadata": {},
   "outputs": [],
   "source": [
    "# The 'Building a Multiclass Classification Model in PyTorch' article created the model as a 'Class'.\n",
    "# I have never created a class before, so I had to sit a spell and make some sense out of it \n",
    "# I chose to keep it as it is a very tidy way of modelling\n",
    "\n",
    "class Multiclass(nn.Module):\n",
    "    def __init__(self):\n",
    "        super().__init__()\n",
    "        self.hidden = nn.Linear(inp_shape, n_hidden)\n",
    "        self.act = nn.ReLU() #use the same activation in Keras model\n",
    "        self.output = nn.Linear(n_hidden, 3)\n",
    "# https://pytorch.org/tutorials/beginner/former_torchies/nnft_tutorial.html\n",
    "#      it's the forward function that defines the network structure\n",
    "    def forward(self, x): \n",
    "        x = self.act(self.hidden(x))\n",
    "        x = self.output(x)\n",
    "        return x"
   ]
  },
  {
   "cell_type": "code",
   "execution_count": 8,
   "id": "df254194",
   "metadata": {},
   "outputs": [],
   "source": [
    " # loss metric and optimizer\n",
    "model_pt = Multiclass()\n",
    "loss_fn = nn.CrossEntropyLoss()\n",
    "optimizer = optim.Adam(model_pt.parameters(), lr=0.001)\n",
    " \n",
    "# prepare model and training parameters\n",
    "batches_per_epoch = len(X_train_pt) // batch_size\n",
    " \n",
    "best_acc_pt = - np.inf   # init to negative infinity\n",
    "best_weights_pt = None\n",
    "train_loss_pt = []\n",
    "train_acc_pt = []\n",
    "test_loss_pt = []\n",
    "test_acc_pt = []"
   ]
  },
  {
   "cell_type": "markdown",
   "id": "001faf56",
   "metadata": {},
   "source": [
    "## Build Keras Model"
   ]
  },
  {
   "cell_type": "code",
   "execution_count": 9,
   "id": "a7ace976",
   "metadata": {},
   "outputs": [
    {
     "name": "stderr",
     "output_type": "stream",
     "text": [
      "2023-06-23 21:53:11.278644: I tensorflow/core/platform/cpu_feature_guard.cc:142] This TensorFlow binary is optimized with oneAPI Deep Neural Network Library (oneDNN) to use the following CPU instructions in performance-critical operations:  AVX2 FMA\n",
      "To enable them in other operations, rebuild TensorFlow with the appropriate compiler flags.\n"
     ]
    }
   ],
   "source": [
    "model_kr = Sequential()\n",
    "model_kr.add(layers.Dense(n_hidden, activation='relu', input_shape=(inp_shape,))) #use the same activation in Pytorch model\n",
    "model_kr.add(layers.Dense(3, activation='softmax'))\n",
    "\n",
    "model_kr.compile(optimizer='adam',\n",
    "                loss='categorical_crossentropy',\n",
    "                metrics=['accuracy'])"
   ]
  },
  {
   "cell_type": "markdown",
   "id": "fd2ed433",
   "metadata": {},
   "source": [
    "## Prepare / Train XGBoost Model"
   ]
  },
  {
   "cell_type": "code",
   "execution_count": 10,
   "id": "fa8bfcb0",
   "metadata": {},
   "outputs": [],
   "source": [
    "#Next you need to create the Xgboost specific DMatrix data format from the numpy array. \n",
    "dtrain = xgb.DMatrix(X_train_xg, label=y_train_xg)\n",
    "dtest = xgb.DMatrix(X_test_xg, label=y_test_xg)\n",
    "\n",
    "# set xgboost params\n",
    "param = {\n",
    "    'max_depth': 3,  # the maximum depth of each tree\n",
    "    'eta': 0.3,  # the training step for each iteration\n",
    "    'silent': 1,  # logging mode - quiet\n",
    "    'objective': 'multi:softprob',  # error evaluation for multiclass training\n",
    "    'num_class': 3}  # the number of classes that exist in this datset\n",
    "#num_round = 20  # the number of training iterations\n",
    "num_round = n_epochs # the number of training iterations"
   ]
  },
  {
   "cell_type": "markdown",
   "id": "d4d25025",
   "metadata": {},
   "source": [
    "## Train Pytorch Model"
   ]
  },
  {
   "cell_type": "code",
   "execution_count": 11,
   "id": "a378b722",
   "metadata": {},
   "outputs": [
    {
     "name": "stderr",
     "output_type": "stream",
     "text": [
      "Epoch 0: 100%|█████████| 124/124 [00:00<00:00, 139.15batch/s, acc=0.6, loss=128]\n"
     ]
    },
    {
     "name": "stdout",
     "output_type": "stream",
     "text": [
      "Epoch 0 validation: Cross-entropy=59.84, Accuracy=46.3%\n"
     ]
    },
    {
     "name": "stderr",
     "output_type": "stream",
     "text": [
      "Epoch 1: 100%|████████| 124/124 [00:00<00:00, 145.80batch/s, acc=0.6, loss=43.5]\n"
     ]
    },
    {
     "name": "stdout",
     "output_type": "stream",
     "text": [
      "Epoch 1 validation: Cross-entropy=20.28, Accuracy=46.3%\n"
     ]
    },
    {
     "name": "stderr",
     "output_type": "stream",
     "text": [
      "Epoch 2: 100%|████████| 124/124 [00:00<00:00, 152.09batch/s, acc=0.6, loss=3.97]\n"
     ]
    },
    {
     "name": "stdout",
     "output_type": "stream",
     "text": [
      "Epoch 2 validation: Cross-entropy=3.51, Accuracy=46.3%\n"
     ]
    },
    {
     "name": "stderr",
     "output_type": "stream",
     "text": [
      "Epoch 3: 100%|████████| 124/124 [00:00<00:00, 136.46batch/s, acc=0.6, loss=4.75]\n"
     ]
    },
    {
     "name": "stdout",
     "output_type": "stream",
     "text": [
      "Epoch 3 validation: Cross-entropy=2.81, Accuracy=46.3%\n"
     ]
    },
    {
     "name": "stderr",
     "output_type": "stream",
     "text": [
      "Epoch 4: 100%|████████| 124/124 [00:00<00:00, 145.42batch/s, acc=0.6, loss=3.82]\n"
     ]
    },
    {
     "name": "stdout",
     "output_type": "stream",
     "text": [
      "Epoch 4 validation: Cross-entropy=2.41, Accuracy=46.3%\n"
     ]
    },
    {
     "name": "stderr",
     "output_type": "stream",
     "text": [
      "Epoch 5: 100%|████████| 124/124 [00:00<00:00, 151.17batch/s, acc=0.6, loss=3.87]\n"
     ]
    },
    {
     "name": "stdout",
     "output_type": "stream",
     "text": [
      "Epoch 5 validation: Cross-entropy=2.38, Accuracy=46.3%\n"
     ]
    },
    {
     "name": "stderr",
     "output_type": "stream",
     "text": [
      "Epoch 6: 100%|████████| 124/124 [00:00<00:00, 160.46batch/s, acc=0.6, loss=4.01]\n"
     ]
    },
    {
     "name": "stdout",
     "output_type": "stream",
     "text": [
      "Epoch 6 validation: Cross-entropy=2.25, Accuracy=46.3%\n"
     ]
    },
    {
     "name": "stderr",
     "output_type": "stream",
     "text": [
      "Epoch 7: 100%|████████| 124/124 [00:00<00:00, 167.78batch/s, acc=0.6, loss=4.47]\n"
     ]
    },
    {
     "name": "stdout",
     "output_type": "stream",
     "text": [
      "Epoch 7 validation: Cross-entropy=2.75, Accuracy=46.3%\n"
     ]
    },
    {
     "name": "stderr",
     "output_type": "stream",
     "text": [
      "Epoch 8: 100%|████████| 124/124 [00:00<00:00, 176.67batch/s, acc=0.6, loss=3.74]\n"
     ]
    },
    {
     "name": "stdout",
     "output_type": "stream",
     "text": [
      "Epoch 8 validation: Cross-entropy=2.90, Accuracy=46.3%\n"
     ]
    },
    {
     "name": "stderr",
     "output_type": "stream",
     "text": [
      "Epoch 9: 100%|████████| 124/124 [00:00<00:00, 178.03batch/s, acc=0.6, loss=4.26]\n"
     ]
    },
    {
     "name": "stdout",
     "output_type": "stream",
     "text": [
      "Epoch 9 validation: Cross-entropy=2.66, Accuracy=46.3%\n"
     ]
    },
    {
     "name": "stderr",
     "output_type": "stream",
     "text": [
      "Epoch 10: 100%|███████| 124/124 [00:00<00:00, 168.92batch/s, acc=0.6, loss=4.52]\n"
     ]
    },
    {
     "name": "stdout",
     "output_type": "stream",
     "text": [
      "Epoch 10 validation: Cross-entropy=2.64, Accuracy=46.3%\n"
     ]
    },
    {
     "name": "stderr",
     "output_type": "stream",
     "text": [
      "Epoch 11: 100%|███████| 124/124 [00:00<00:00, 177.10batch/s, acc=0.6, loss=4.34]\n"
     ]
    },
    {
     "name": "stdout",
     "output_type": "stream",
     "text": [
      "Epoch 11 validation: Cross-entropy=2.99, Accuracy=46.3%\n"
     ]
    },
    {
     "name": "stderr",
     "output_type": "stream",
     "text": [
      "Epoch 12: 100%|███████| 124/124 [00:00<00:00, 178.75batch/s, acc=0.6, loss=4.39]\n"
     ]
    },
    {
     "name": "stdout",
     "output_type": "stream",
     "text": [
      "Epoch 12 validation: Cross-entropy=2.48, Accuracy=46.3%\n"
     ]
    },
    {
     "name": "stderr",
     "output_type": "stream",
     "text": [
      "Epoch 13: 100%|███████| 124/124 [00:00<00:00, 160.15batch/s, acc=0.6, loss=4.64]\n"
     ]
    },
    {
     "name": "stdout",
     "output_type": "stream",
     "text": [
      "Epoch 13 validation: Cross-entropy=3.16, Accuracy=46.3%\n"
     ]
    },
    {
     "name": "stderr",
     "output_type": "stream",
     "text": [
      "Epoch 14: 100%|███████| 124/124 [00:00<00:00, 161.62batch/s, acc=0.6, loss=4.67]\n"
     ]
    },
    {
     "name": "stdout",
     "output_type": "stream",
     "text": [
      "Epoch 14 validation: Cross-entropy=2.72, Accuracy=46.3%\n"
     ]
    },
    {
     "name": "stderr",
     "output_type": "stream",
     "text": [
      "Epoch 15: 100%|███████| 124/124 [00:00<00:00, 160.65batch/s, acc=0.6, loss=4.78]\n"
     ]
    },
    {
     "name": "stdout",
     "output_type": "stream",
     "text": [
      "Epoch 15 validation: Cross-entropy=3.28, Accuracy=46.3%\n"
     ]
    },
    {
     "name": "stderr",
     "output_type": "stream",
     "text": [
      "Epoch 16: 100%|███████| 124/124 [00:00<00:00, 158.08batch/s, acc=0.6, loss=4.75]\n"
     ]
    },
    {
     "name": "stdout",
     "output_type": "stream",
     "text": [
      "Epoch 16 validation: Cross-entropy=3.14, Accuracy=46.3%\n"
     ]
    },
    {
     "name": "stderr",
     "output_type": "stream",
     "text": [
      "Epoch 17: 100%|███████| 124/124 [00:00<00:00, 174.22batch/s, acc=0.6, loss=4.79]\n"
     ]
    },
    {
     "name": "stdout",
     "output_type": "stream",
     "text": [
      "Epoch 17 validation: Cross-entropy=3.23, Accuracy=46.3%\n"
     ]
    },
    {
     "name": "stderr",
     "output_type": "stream",
     "text": [
      "Epoch 18: 100%|███████| 124/124 [00:00<00:00, 157.97batch/s, acc=0.6, loss=4.78]\n"
     ]
    },
    {
     "name": "stdout",
     "output_type": "stream",
     "text": [
      "Epoch 18 validation: Cross-entropy=3.16, Accuracy=46.3%\n"
     ]
    },
    {
     "name": "stderr",
     "output_type": "stream",
     "text": [
      "Epoch 19: 100%|███████| 124/124 [00:00<00:00, 163.83batch/s, acc=0.6, loss=4.77]\n"
     ]
    },
    {
     "name": "stdout",
     "output_type": "stream",
     "text": [
      "Epoch 19 validation: Cross-entropy=3.15, Accuracy=46.3%\n"
     ]
    },
    {
     "name": "stderr",
     "output_type": "stream",
     "text": [
      "Epoch 20: 100%|███████| 124/124 [00:00<00:00, 167.16batch/s, acc=0.6, loss=4.76]\n"
     ]
    },
    {
     "name": "stdout",
     "output_type": "stream",
     "text": [
      "Epoch 20 validation: Cross-entropy=3.10, Accuracy=46.3%\n"
     ]
    },
    {
     "name": "stderr",
     "output_type": "stream",
     "text": [
      "Epoch 21: 100%|███████| 124/124 [00:00<00:00, 175.90batch/s, acc=0.6, loss=4.74]\n"
     ]
    },
    {
     "name": "stdout",
     "output_type": "stream",
     "text": [
      "Epoch 21 validation: Cross-entropy=3.06, Accuracy=46.3%\n"
     ]
    },
    {
     "name": "stderr",
     "output_type": "stream",
     "text": [
      "Epoch 22: 100%|███████| 124/124 [00:00<00:00, 172.26batch/s, acc=0.6, loss=4.72]\n"
     ]
    },
    {
     "name": "stdout",
     "output_type": "stream",
     "text": [
      "Epoch 22 validation: Cross-entropy=3.01, Accuracy=46.3%\n"
     ]
    },
    {
     "name": "stderr",
     "output_type": "stream",
     "text": [
      "Epoch 23: 100%|████████| 124/124 [00:00<00:00, 172.76batch/s, acc=0.6, loss=4.7]\n"
     ]
    },
    {
     "name": "stdout",
     "output_type": "stream",
     "text": [
      "Epoch 23 validation: Cross-entropy=2.96, Accuracy=46.3%\n"
     ]
    },
    {
     "name": "stderr",
     "output_type": "stream",
     "text": [
      "Epoch 24: 100%|███████| 124/124 [00:00<00:00, 175.12batch/s, acc=0.6, loss=4.69]\n"
     ]
    },
    {
     "name": "stdout",
     "output_type": "stream",
     "text": [
      "Epoch 24 validation: Cross-entropy=2.91, Accuracy=46.3%\n"
     ]
    },
    {
     "name": "stderr",
     "output_type": "stream",
     "text": [
      "Epoch 25: 100%|███████| 124/124 [00:00<00:00, 167.09batch/s, acc=0.6, loss=4.67]\n"
     ]
    },
    {
     "name": "stdout",
     "output_type": "stream",
     "text": [
      "Epoch 25 validation: Cross-entropy=2.86, Accuracy=46.3%\n"
     ]
    },
    {
     "name": "stderr",
     "output_type": "stream",
     "text": [
      "Epoch 26: 100%|███████| 124/124 [00:00<00:00, 164.33batch/s, acc=0.6, loss=4.65]\n"
     ]
    },
    {
     "name": "stdout",
     "output_type": "stream",
     "text": [
      "Epoch 26 validation: Cross-entropy=2.81, Accuracy=46.3%\n"
     ]
    },
    {
     "name": "stderr",
     "output_type": "stream",
     "text": [
      "Epoch 27: 100%|███████| 124/124 [00:00<00:00, 170.83batch/s, acc=0.6, loss=4.63]\n"
     ]
    },
    {
     "name": "stdout",
     "output_type": "stream",
     "text": [
      "Epoch 27 validation: Cross-entropy=2.77, Accuracy=46.3%\n"
     ]
    },
    {
     "name": "stderr",
     "output_type": "stream",
     "text": [
      "Epoch 28: 100%|███████| 124/124 [00:00<00:00, 141.02batch/s, acc=0.6, loss=4.61]\n"
     ]
    },
    {
     "name": "stdout",
     "output_type": "stream",
     "text": [
      "Epoch 28 validation: Cross-entropy=2.72, Accuracy=46.3%\n"
     ]
    },
    {
     "name": "stderr",
     "output_type": "stream",
     "text": [
      "Epoch 29: 100%|███████| 124/124 [00:00<00:00, 124.34batch/s, acc=0.6, loss=4.58]\n"
     ]
    },
    {
     "name": "stdout",
     "output_type": "stream",
     "text": [
      "Epoch 29 validation: Cross-entropy=2.68, Accuracy=46.3%\n"
     ]
    },
    {
     "name": "stderr",
     "output_type": "stream",
     "text": [
      "Epoch 30: 100%|███████| 124/124 [00:00<00:00, 177.43batch/s, acc=0.6, loss=4.58]\n"
     ]
    },
    {
     "name": "stdout",
     "output_type": "stream",
     "text": [
      "Epoch 30 validation: Cross-entropy=2.50, Accuracy=46.3%\n"
     ]
    },
    {
     "name": "stderr",
     "output_type": "stream",
     "text": [
      "Epoch 31: 100%|███████| 124/124 [00:00<00:00, 189.40batch/s, acc=0.6, loss=4.55]\n"
     ]
    },
    {
     "name": "stdout",
     "output_type": "stream",
     "text": [
      "Epoch 31 validation: Cross-entropy=2.51, Accuracy=46.3%\n"
     ]
    },
    {
     "name": "stderr",
     "output_type": "stream",
     "text": [
      "Epoch 32: 100%|███████| 124/124 [00:00<00:00, 221.00batch/s, acc=0.6, loss=4.52]\n"
     ]
    },
    {
     "name": "stdout",
     "output_type": "stream",
     "text": [
      "Epoch 32 validation: Cross-entropy=2.46, Accuracy=46.3%\n"
     ]
    },
    {
     "name": "stderr",
     "output_type": "stream",
     "text": [
      "Epoch 33: 100%|███████| 124/124 [00:00<00:00, 139.59batch/s, acc=0.6, loss=4.49]\n"
     ]
    },
    {
     "name": "stdout",
     "output_type": "stream",
     "text": [
      "Epoch 33 validation: Cross-entropy=2.39, Accuracy=46.3%\n"
     ]
    },
    {
     "name": "stderr",
     "output_type": "stream",
     "text": [
      "Epoch 34: 100%|███████| 124/124 [00:00<00:00, 155.90batch/s, acc=0.6, loss=4.46]\n"
     ]
    },
    {
     "name": "stdout",
     "output_type": "stream",
     "text": [
      "Epoch 34 validation: Cross-entropy=2.33, Accuracy=46.3%\n"
     ]
    },
    {
     "name": "stderr",
     "output_type": "stream",
     "text": [
      "Epoch 35: 100%|███████| 124/124 [00:00<00:00, 158.99batch/s, acc=0.6, loss=4.43]\n"
     ]
    },
    {
     "name": "stdout",
     "output_type": "stream",
     "text": [
      "Epoch 35 validation: Cross-entropy=2.27, Accuracy=46.3%\n"
     ]
    },
    {
     "name": "stderr",
     "output_type": "stream",
     "text": [
      "Epoch 36: 100%|███████| 124/124 [00:00<00:00, 134.72batch/s, acc=0.6, loss=4.41]\n"
     ]
    },
    {
     "name": "stdout",
     "output_type": "stream",
     "text": [
      "Epoch 36 validation: Cross-entropy=2.22, Accuracy=46.3%\n"
     ]
    },
    {
     "name": "stderr",
     "output_type": "stream",
     "text": [
      "Epoch 37: 100%|███████| 124/124 [00:00<00:00, 129.20batch/s, acc=0.6, loss=4.39]\n"
     ]
    },
    {
     "name": "stdout",
     "output_type": "stream",
     "text": [
      "Epoch 37 validation: Cross-entropy=2.18, Accuracy=46.3%\n"
     ]
    },
    {
     "name": "stderr",
     "output_type": "stream",
     "text": [
      "Epoch 38: 100%|███████| 124/124 [00:01<00:00, 112.01batch/s, acc=0.6, loss=4.37]\n"
     ]
    },
    {
     "name": "stdout",
     "output_type": "stream",
     "text": [
      "Epoch 38 validation: Cross-entropy=2.16, Accuracy=47.0%\n"
     ]
    },
    {
     "name": "stderr",
     "output_type": "stream",
     "text": [
      "Epoch 39: 100%|███████| 124/124 [00:00<00:00, 135.30batch/s, acc=0.6, loss=4.36]\n"
     ]
    },
    {
     "name": "stdout",
     "output_type": "stream",
     "text": [
      "Epoch 39 validation: Cross-entropy=2.13, Accuracy=48.9%\n"
     ]
    },
    {
     "name": "stderr",
     "output_type": "stream",
     "text": [
      "Epoch 40: 100%|███████| 124/124 [00:00<00:00, 168.02batch/s, acc=0.6, loss=4.34]\n"
     ]
    },
    {
     "name": "stdout",
     "output_type": "stream",
     "text": [
      "Epoch 40 validation: Cross-entropy=2.11, Accuracy=50.4%\n"
     ]
    },
    {
     "name": "stderr",
     "output_type": "stream",
     "text": [
      "Epoch 41: 100%|███████| 124/124 [00:00<00:00, 175.03batch/s, acc=0.6, loss=4.34]\n"
     ]
    },
    {
     "name": "stdout",
     "output_type": "stream",
     "text": [
      "Epoch 41 validation: Cross-entropy=2.07, Accuracy=53.4%\n"
     ]
    },
    {
     "name": "stderr",
     "output_type": "stream",
     "text": [
      "Epoch 42: 100%|███████| 124/124 [00:00<00:00, 195.41batch/s, acc=0.6, loss=4.29]\n"
     ]
    },
    {
     "name": "stdout",
     "output_type": "stream",
     "text": [
      "Epoch 42 validation: Cross-entropy=2.07, Accuracy=50.7%\n"
     ]
    },
    {
     "name": "stderr",
     "output_type": "stream",
     "text": [
      "Epoch 43: 100%|███████| 124/124 [00:00<00:00, 195.69batch/s, acc=0.6, loss=4.32]\n"
     ]
    },
    {
     "name": "stdout",
     "output_type": "stream",
     "text": [
      "Epoch 43 validation: Cross-entropy=2.04, Accuracy=57.8%\n"
     ]
    },
    {
     "name": "stderr",
     "output_type": "stream",
     "text": [
      "Epoch 44: 100%|███████| 124/124 [00:00<00:00, 176.55batch/s, acc=0.6, loss=4.26]\n"
     ]
    },
    {
     "name": "stdout",
     "output_type": "stream",
     "text": [
      "Epoch 44 validation: Cross-entropy=2.03, Accuracy=53.4%\n"
     ]
    },
    {
     "name": "stderr",
     "output_type": "stream",
     "text": [
      "Epoch 45: 100%|███████| 124/124 [00:00<00:00, 211.39batch/s, acc=0.6, loss=4.29]\n"
     ]
    },
    {
     "name": "stdout",
     "output_type": "stream",
     "text": [
      "Epoch 45 validation: Cross-entropy=2.00, Accuracy=62.3%\n"
     ]
    },
    {
     "name": "stderr",
     "output_type": "stream",
     "text": [
      "Epoch 46: 100%|███████| 124/124 [00:00<00:00, 196.15batch/s, acc=0.6, loss=4.23]\n"
     ]
    },
    {
     "name": "stdout",
     "output_type": "stream",
     "text": [
      "Epoch 46 validation: Cross-entropy=2.00, Accuracy=55.6%\n"
     ]
    },
    {
     "name": "stderr",
     "output_type": "stream",
     "text": [
      "Epoch 47: 100%|███████| 124/124 [00:00<00:00, 172.47batch/s, acc=0.6, loss=4.28]\n"
     ]
    },
    {
     "name": "stdout",
     "output_type": "stream",
     "text": [
      "Epoch 47 validation: Cross-entropy=1.97, Accuracy=66.8%\n"
     ]
    },
    {
     "name": "stderr",
     "output_type": "stream",
     "text": [
      "Epoch 48: 100%|███████| 124/124 [00:00<00:00, 197.74batch/s, acc=0.6, loss=4.21]\n"
     ]
    },
    {
     "name": "stdout",
     "output_type": "stream",
     "text": [
      "Epoch 48 validation: Cross-entropy=1.97, Accuracy=60.4%\n"
     ]
    },
    {
     "name": "stderr",
     "output_type": "stream",
     "text": [
      "Epoch 49: 100%|███████| 124/124 [00:00<00:00, 163.69batch/s, acc=0.6, loss=4.26]\n"
     ]
    },
    {
     "name": "stdout",
     "output_type": "stream",
     "text": [
      "Epoch 49 validation: Cross-entropy=1.95, Accuracy=68.7%\n"
     ]
    },
    {
     "name": "stderr",
     "output_type": "stream",
     "text": [
      "Epoch 50: 100%|███████| 124/124 [00:00<00:00, 188.13batch/s, acc=0.6, loss=4.19]\n"
     ]
    },
    {
     "name": "stdout",
     "output_type": "stream",
     "text": [
      "Epoch 50 validation: Cross-entropy=1.94, Accuracy=63.8%\n"
     ]
    },
    {
     "name": "stderr",
     "output_type": "stream",
     "text": [
      "Epoch 51: 100%|███████| 124/124 [00:00<00:00, 168.89batch/s, acc=0.6, loss=4.23]\n"
     ]
    },
    {
     "name": "stdout",
     "output_type": "stream",
     "text": [
      "Epoch 51 validation: Cross-entropy=1.92, Accuracy=69.8%\n"
     ]
    },
    {
     "name": "stderr",
     "output_type": "stream",
     "text": [
      "Epoch 52: 100%|███████| 124/124 [00:00<00:00, 146.71batch/s, acc=0.6, loss=4.16]\n"
     ]
    },
    {
     "name": "stdout",
     "output_type": "stream",
     "text": [
      "Epoch 52 validation: Cross-entropy=1.91, Accuracy=66.8%\n"
     ]
    },
    {
     "name": "stderr",
     "output_type": "stream",
     "text": [
      "Epoch 53: 100%|███████| 124/124 [00:00<00:00, 187.60batch/s, acc=0.6, loss=4.21]\n"
     ]
    },
    {
     "name": "stdout",
     "output_type": "stream",
     "text": [
      "Epoch 53 validation: Cross-entropy=1.90, Accuracy=70.5%\n"
     ]
    },
    {
     "name": "stderr",
     "output_type": "stream",
     "text": [
      "Epoch 54: 100%|███████| 124/124 [00:00<00:00, 168.71batch/s, acc=0.6, loss=4.14]\n"
     ]
    },
    {
     "name": "stdout",
     "output_type": "stream",
     "text": [
      "Epoch 54 validation: Cross-entropy=1.89, Accuracy=68.7%\n"
     ]
    },
    {
     "name": "stderr",
     "output_type": "stream",
     "text": [
      "Epoch 55: 100%|███████| 124/124 [00:00<00:00, 193.89batch/s, acc=0.6, loss=4.19]\n"
     ]
    },
    {
     "name": "stdout",
     "output_type": "stream",
     "text": [
      "Epoch 55 validation: Cross-entropy=1.88, Accuracy=70.9%\n"
     ]
    },
    {
     "name": "stderr",
     "output_type": "stream",
     "text": [
      "Epoch 56: 100%|███████| 124/124 [00:00<00:00, 198.74batch/s, acc=0.6, loss=4.12]\n"
     ]
    },
    {
     "name": "stdout",
     "output_type": "stream",
     "text": [
      "Epoch 56 validation: Cross-entropy=1.86, Accuracy=69.8%\n"
     ]
    },
    {
     "name": "stderr",
     "output_type": "stream",
     "text": [
      "Epoch 57: 100%|███████| 124/124 [00:00<00:00, 199.85batch/s, acc=0.6, loss=4.16]\n"
     ]
    },
    {
     "name": "stdout",
     "output_type": "stream",
     "text": [
      "Epoch 57 validation: Cross-entropy=1.86, Accuracy=71.3%\n"
     ]
    },
    {
     "name": "stderr",
     "output_type": "stream",
     "text": [
      "Epoch 58: 100%|████████| 124/124 [00:00<00:00, 223.32batch/s, acc=0.6, loss=4.1]\n"
     ]
    },
    {
     "name": "stdout",
     "output_type": "stream",
     "text": [
      "Epoch 58 validation: Cross-entropy=1.84, Accuracy=70.5%\n"
     ]
    },
    {
     "name": "stderr",
     "output_type": "stream",
     "text": [
      "Epoch 59: 100%|███████| 124/124 [00:00<00:00, 227.34batch/s, acc=0.6, loss=4.14]\n"
     ]
    },
    {
     "name": "stdout",
     "output_type": "stream",
     "text": [
      "Epoch 59 validation: Cross-entropy=1.83, Accuracy=70.9%\n"
     ]
    },
    {
     "name": "stderr",
     "output_type": "stream",
     "text": [
      "Epoch 60: 100%|███████| 124/124 [00:00<00:00, 229.70batch/s, acc=0.6, loss=4.08]\n"
     ]
    },
    {
     "name": "stdout",
     "output_type": "stream",
     "text": [
      "Epoch 60 validation: Cross-entropy=1.81, Accuracy=71.3%\n"
     ]
    },
    {
     "name": "stderr",
     "output_type": "stream",
     "text": [
      "Epoch 61: 100%|███████| 124/124 [00:00<00:00, 228.36batch/s, acc=0.6, loss=4.11]\n"
     ]
    },
    {
     "name": "stdout",
     "output_type": "stream",
     "text": [
      "Epoch 61 validation: Cross-entropy=1.81, Accuracy=70.9%\n"
     ]
    },
    {
     "name": "stderr",
     "output_type": "stream",
     "text": [
      "Epoch 62: 100%|███████| 124/124 [00:00<00:00, 226.58batch/s, acc=0.6, loss=4.06]\n"
     ]
    },
    {
     "name": "stdout",
     "output_type": "stream",
     "text": [
      "Epoch 62 validation: Cross-entropy=1.79, Accuracy=70.9%\n"
     ]
    },
    {
     "name": "stderr",
     "output_type": "stream",
     "text": [
      "Epoch 63: 100%|███████| 124/124 [00:00<00:00, 226.19batch/s, acc=0.6, loss=4.09]\n"
     ]
    },
    {
     "name": "stdout",
     "output_type": "stream",
     "text": [
      "Epoch 63 validation: Cross-entropy=1.79, Accuracy=71.6%\n"
     ]
    },
    {
     "name": "stderr",
     "output_type": "stream",
     "text": [
      "Epoch 64: 100%|███████| 124/124 [00:00<00:00, 227.44batch/s, acc=0.6, loss=4.04]\n"
     ]
    },
    {
     "name": "stdout",
     "output_type": "stream",
     "text": [
      "Epoch 64 validation: Cross-entropy=1.77, Accuracy=70.9%\n"
     ]
    },
    {
     "name": "stderr",
     "output_type": "stream",
     "text": [
      "Epoch 65: 100%|███████| 124/124 [00:00<00:00, 223.35batch/s, acc=0.6, loss=4.06]\n"
     ]
    },
    {
     "name": "stdout",
     "output_type": "stream",
     "text": [
      "Epoch 65 validation: Cross-entropy=1.77, Accuracy=71.6%\n"
     ]
    },
    {
     "name": "stderr",
     "output_type": "stream",
     "text": [
      "Epoch 66: 100%|███████| 124/124 [00:00<00:00, 225.25batch/s, acc=0.6, loss=4.03]\n"
     ]
    },
    {
     "name": "stdout",
     "output_type": "stream",
     "text": [
      "Epoch 66 validation: Cross-entropy=1.76, Accuracy=71.6%\n"
     ]
    },
    {
     "name": "stderr",
     "output_type": "stream",
     "text": [
      "Epoch 67: 100%|███████| 124/124 [00:00<00:00, 228.17batch/s, acc=0.6, loss=4.06]\n"
     ]
    },
    {
     "name": "stdout",
     "output_type": "stream",
     "text": [
      "Epoch 67 validation: Cross-entropy=1.76, Accuracy=72.0%\n"
     ]
    },
    {
     "name": "stderr",
     "output_type": "stream",
     "text": [
      "Epoch 68: 100%|███████| 124/124 [00:00<00:00, 232.09batch/s, acc=0.6, loss=3.96]\n"
     ]
    },
    {
     "name": "stdout",
     "output_type": "stream",
     "text": [
      "Epoch 68 validation: Cross-entropy=1.73, Accuracy=71.6%\n"
     ]
    },
    {
     "name": "stderr",
     "output_type": "stream",
     "text": [
      "Epoch 69: 100%|███████| 124/124 [00:00<00:00, 229.04batch/s, acc=0.6, loss=3.99]\n"
     ]
    },
    {
     "name": "stdout",
     "output_type": "stream",
     "text": [
      "Epoch 69 validation: Cross-entropy=1.73, Accuracy=72.0%\n"
     ]
    },
    {
     "name": "stderr",
     "output_type": "stream",
     "text": [
      "Epoch 70: 100%|███████| 124/124 [00:00<00:00, 230.14batch/s, acc=0.6, loss=4.01]\n"
     ]
    },
    {
     "name": "stdout",
     "output_type": "stream",
     "text": [
      "Epoch 70 validation: Cross-entropy=1.73, Accuracy=72.4%\n"
     ]
    },
    {
     "name": "stderr",
     "output_type": "stream",
     "text": [
      "Epoch 71: 100%|███████| 124/124 [00:00<00:00, 215.13batch/s, acc=0.6, loss=3.93]\n"
     ]
    },
    {
     "name": "stdout",
     "output_type": "stream",
     "text": [
      "Epoch 71 validation: Cross-entropy=1.70, Accuracy=72.0%\n"
     ]
    },
    {
     "name": "stderr",
     "output_type": "stream",
     "text": [
      "Epoch 72: 100%|███████| 124/124 [00:00<00:00, 226.82batch/s, acc=0.6, loss=3.95]\n"
     ]
    },
    {
     "name": "stdout",
     "output_type": "stream",
     "text": [
      "Epoch 72 validation: Cross-entropy=1.70, Accuracy=72.4%\n"
     ]
    },
    {
     "name": "stderr",
     "output_type": "stream",
     "text": [
      "Epoch 73: 100%|███████| 124/124 [00:00<00:00, 228.61batch/s, acc=0.6, loss=3.96]\n"
     ]
    },
    {
     "name": "stdout",
     "output_type": "stream",
     "text": [
      "Epoch 73 validation: Cross-entropy=1.70, Accuracy=72.8%\n"
     ]
    },
    {
     "name": "stderr",
     "output_type": "stream",
     "text": [
      "Epoch 74: 100%|███████| 124/124 [00:00<00:00, 226.85batch/s, acc=0.6, loss=3.96]\n"
     ]
    },
    {
     "name": "stdout",
     "output_type": "stream",
     "text": [
      "Epoch 74 validation: Cross-entropy=1.70, Accuracy=72.8%\n"
     ]
    },
    {
     "name": "stderr",
     "output_type": "stream",
     "text": [
      "Epoch 75: 100%|████████| 124/124 [00:00<00:00, 230.68batch/s, acc=0.6, loss=3.9]\n"
     ]
    },
    {
     "name": "stdout",
     "output_type": "stream",
     "text": [
      "Epoch 75 validation: Cross-entropy=1.68, Accuracy=72.8%\n"
     ]
    },
    {
     "name": "stderr",
     "output_type": "stream",
     "text": [
      "Epoch 76: 100%|████████| 124/124 [00:00<00:00, 231.56batch/s, acc=0.6, loss=3.9]\n"
     ]
    },
    {
     "name": "stdout",
     "output_type": "stream",
     "text": [
      "Epoch 76 validation: Cross-entropy=1.67, Accuracy=72.8%\n"
     ]
    },
    {
     "name": "stderr",
     "output_type": "stream",
     "text": [
      "Epoch 77: 100%|████████| 124/124 [00:00<00:00, 230.46batch/s, acc=0.6, loss=3.9]\n"
     ]
    },
    {
     "name": "stdout",
     "output_type": "stream",
     "text": [
      "Epoch 77 validation: Cross-entropy=1.67, Accuracy=72.4%\n"
     ]
    },
    {
     "name": "stderr",
     "output_type": "stream",
     "text": [
      "Epoch 78: 100%|████████| 124/124 [00:00<00:00, 231.93batch/s, acc=0.6, loss=3.9]\n"
     ]
    },
    {
     "name": "stdout",
     "output_type": "stream",
     "text": [
      "Epoch 78 validation: Cross-entropy=1.67, Accuracy=72.0%\n"
     ]
    },
    {
     "name": "stderr",
     "output_type": "stream",
     "text": [
      "Epoch 79: 100%|███████| 124/124 [00:00<00:00, 229.46batch/s, acc=0.6, loss=3.86]\n"
     ]
    },
    {
     "name": "stdout",
     "output_type": "stream",
     "text": [
      "Epoch 79 validation: Cross-entropy=1.65, Accuracy=72.4%\n"
     ]
    },
    {
     "name": "stderr",
     "output_type": "stream",
     "text": [
      "Epoch 80: 100%|███████| 124/124 [00:00<00:00, 229.16batch/s, acc=0.6, loss=3.85]\n"
     ]
    },
    {
     "name": "stdout",
     "output_type": "stream",
     "text": [
      "Epoch 80 validation: Cross-entropy=1.64, Accuracy=72.4%\n"
     ]
    },
    {
     "name": "stderr",
     "output_type": "stream",
     "text": [
      "Epoch 81: 100%|███████| 124/124 [00:00<00:00, 231.52batch/s, acc=0.6, loss=3.85]\n"
     ]
    },
    {
     "name": "stdout",
     "output_type": "stream",
     "text": [
      "Epoch 81 validation: Cross-entropy=1.64, Accuracy=71.6%\n"
     ]
    },
    {
     "name": "stderr",
     "output_type": "stream",
     "text": [
      "Epoch 82: 100%|███████| 124/124 [00:00<00:00, 230.01batch/s, acc=0.6, loss=3.85]\n"
     ]
    },
    {
     "name": "stdout",
     "output_type": "stream",
     "text": [
      "Epoch 82 validation: Cross-entropy=1.64, Accuracy=72.0%\n"
     ]
    },
    {
     "name": "stderr",
     "output_type": "stream",
     "text": [
      "Epoch 83: 100%|███████| 124/124 [00:00<00:00, 229.93batch/s, acc=0.6, loss=3.83]\n"
     ]
    },
    {
     "name": "stdout",
     "output_type": "stream",
     "text": [
      "Epoch 83 validation: Cross-entropy=1.63, Accuracy=72.0%\n"
     ]
    },
    {
     "name": "stderr",
     "output_type": "stream",
     "text": [
      "Epoch 84: 100%|███████| 124/124 [00:00<00:00, 230.85batch/s, acc=0.6, loss=3.82]\n"
     ]
    },
    {
     "name": "stdout",
     "output_type": "stream",
     "text": [
      "Epoch 84 validation: Cross-entropy=1.63, Accuracy=72.0%\n"
     ]
    },
    {
     "name": "stderr",
     "output_type": "stream",
     "text": [
      "Epoch 85: 100%|███████| 124/124 [00:00<00:00, 230.75batch/s, acc=0.6, loss=3.81]\n"
     ]
    },
    {
     "name": "stdout",
     "output_type": "stream",
     "text": [
      "Epoch 85 validation: Cross-entropy=1.62, Accuracy=72.0%\n"
     ]
    },
    {
     "name": "stderr",
     "output_type": "stream",
     "text": [
      "Epoch 86: 100%|████████| 124/124 [00:00<00:00, 241.27batch/s, acc=0.6, loss=3.8]\n"
     ]
    },
    {
     "name": "stdout",
     "output_type": "stream",
     "text": [
      "Epoch 86 validation: Cross-entropy=1.62, Accuracy=72.0%\n"
     ]
    },
    {
     "name": "stderr",
     "output_type": "stream",
     "text": [
      "Epoch 87: 100%|███████| 124/124 [00:00<00:00, 214.33batch/s, acc=0.6, loss=3.79]\n"
     ]
    },
    {
     "name": "stdout",
     "output_type": "stream",
     "text": [
      "Epoch 87 validation: Cross-entropy=1.61, Accuracy=72.0%\n"
     ]
    },
    {
     "name": "stderr",
     "output_type": "stream",
     "text": [
      "Epoch 88: 100%|███████| 124/124 [00:00<00:00, 226.65batch/s, acc=0.6, loss=3.77]\n"
     ]
    },
    {
     "name": "stdout",
     "output_type": "stream",
     "text": [
      "Epoch 88 validation: Cross-entropy=1.60, Accuracy=72.0%\n"
     ]
    },
    {
     "name": "stderr",
     "output_type": "stream",
     "text": [
      "Epoch 89: 100%|███████| 124/124 [00:00<00:00, 232.86batch/s, acc=0.6, loss=3.76]\n"
     ]
    },
    {
     "name": "stdout",
     "output_type": "stream",
     "text": [
      "Epoch 89 validation: Cross-entropy=1.60, Accuracy=72.0%\n"
     ]
    },
    {
     "name": "stderr",
     "output_type": "stream",
     "text": [
      "Epoch 90: 100%|███████| 124/124 [00:00<00:00, 225.85batch/s, acc=0.6, loss=3.74]\n"
     ]
    },
    {
     "name": "stdout",
     "output_type": "stream",
     "text": [
      "Epoch 90 validation: Cross-entropy=1.59, Accuracy=72.0%\n"
     ]
    },
    {
     "name": "stderr",
     "output_type": "stream",
     "text": [
      "Epoch 91: 100%|███████| 124/124 [00:00<00:00, 232.21batch/s, acc=0.6, loss=3.73]\n"
     ]
    },
    {
     "name": "stdout",
     "output_type": "stream",
     "text": [
      "Epoch 91 validation: Cross-entropy=1.58, Accuracy=72.0%\n"
     ]
    },
    {
     "name": "stderr",
     "output_type": "stream",
     "text": [
      "Epoch 92: 100%|███████| 124/124 [00:00<00:00, 227.71batch/s, acc=0.6, loss=3.71]\n"
     ]
    },
    {
     "name": "stdout",
     "output_type": "stream",
     "text": [
      "Epoch 92 validation: Cross-entropy=1.57, Accuracy=72.0%\n"
     ]
    },
    {
     "name": "stderr",
     "output_type": "stream",
     "text": [
      "Epoch 93: 100%|████████| 124/124 [00:00<00:00, 224.27batch/s, acc=0.6, loss=3.7]\n"
     ]
    },
    {
     "name": "stdout",
     "output_type": "stream",
     "text": [
      "Epoch 93 validation: Cross-entropy=1.57, Accuracy=72.0%\n"
     ]
    },
    {
     "name": "stderr",
     "output_type": "stream",
     "text": [
      "Epoch 94: 100%|███████| 124/124 [00:00<00:00, 230.15batch/s, acc=0.6, loss=3.69]\n"
     ]
    },
    {
     "name": "stdout",
     "output_type": "stream",
     "text": [
      "Epoch 94 validation: Cross-entropy=1.56, Accuracy=72.0%\n"
     ]
    },
    {
     "name": "stderr",
     "output_type": "stream",
     "text": [
      "Epoch 95: 100%|███████| 124/124 [00:00<00:00, 227.74batch/s, acc=0.6, loss=3.68]\n"
     ]
    },
    {
     "name": "stdout",
     "output_type": "stream",
     "text": [
      "Epoch 95 validation: Cross-entropy=1.56, Accuracy=72.0%\n"
     ]
    },
    {
     "name": "stderr",
     "output_type": "stream",
     "text": [
      "Epoch 96: 100%|███████| 124/124 [00:00<00:00, 229.47batch/s, acc=0.6, loss=3.67]\n"
     ]
    },
    {
     "name": "stdout",
     "output_type": "stream",
     "text": [
      "Epoch 96 validation: Cross-entropy=1.55, Accuracy=72.0%\n"
     ]
    },
    {
     "name": "stderr",
     "output_type": "stream",
     "text": [
      "Epoch 97: 100%|███████| 124/124 [00:00<00:00, 229.57batch/s, acc=0.6, loss=3.65]\n"
     ]
    },
    {
     "name": "stdout",
     "output_type": "stream",
     "text": [
      "Epoch 97 validation: Cross-entropy=1.55, Accuracy=72.0%\n"
     ]
    },
    {
     "name": "stderr",
     "output_type": "stream",
     "text": [
      "Epoch 98: 100%|███████| 124/124 [00:00<00:00, 227.99batch/s, acc=0.6, loss=3.64]\n"
     ]
    },
    {
     "name": "stdout",
     "output_type": "stream",
     "text": [
      "Epoch 98 validation: Cross-entropy=1.55, Accuracy=72.0%\n"
     ]
    },
    {
     "name": "stderr",
     "output_type": "stream",
     "text": [
      "Epoch 99: 100%|███████| 124/124 [00:00<00:00, 223.81batch/s, acc=0.6, loss=3.63]"
     ]
    },
    {
     "name": "stdout",
     "output_type": "stream",
     "text": [
      "Epoch 99 validation: Cross-entropy=1.54, Accuracy=72.0%\n"
     ]
    },
    {
     "name": "stderr",
     "output_type": "stream",
     "text": [
      "\n"
     ]
    }
   ],
   "source": [
    "# training loop\n",
    "for epoch in range(n_epochs):\n",
    "    epoch_loss = []\n",
    "    epoch_acc = []\n",
    "    # set model in training mode and run through each batch\n",
    "    model_pt.train()\n",
    "    with tqdm.trange(batches_per_epoch, unit=\"batch\", mininterval=0) as bar:\n",
    "        bar.set_description(f\"Epoch {epoch}\")\n",
    "        for i in bar:\n",
    "            # take a batch\n",
    "            start = i * batch_size\n",
    "            X_batch = X_train_pt[start:start+batch_size]\n",
    "            y_batch = y_train_pt[start:start+batch_size]\n",
    "            # forward pass\n",
    "            y_pred = model_pt(X_batch)\n",
    "            loss = loss_fn(y_pred, y_batch)\n",
    "            # backward pass\n",
    "            optimizer.zero_grad()\n",
    "            loss.backward()\n",
    "            # update weights\n",
    "            optimizer.step()\n",
    "            # compute and store metrics\n",
    "            acc = (torch.argmax(y_pred, 1) == torch.argmax(y_batch, 1)).float().mean()\n",
    "            epoch_loss.append(float(loss))\n",
    "            epoch_acc.append(float(acc))\n",
    "            bar.set_postfix(\n",
    "                loss=float(loss),\n",
    "                acc=float(acc)\n",
    "            )\n",
    "    # set model in evaluation mode and run through the test set\n",
    "    model_pt.eval()\n",
    "    y_pred = model_pt(X_test_pt)\n",
    "    ce = loss_fn(y_pred, y_test_pt)\n",
    "    acc = (torch.argmax(y_pred, 1) == torch.argmax(y_test_pt, 1)).float().mean()\n",
    "    ce = float(ce)\n",
    "    acc = float(acc)\n",
    "    train_loss_pt.append(np.mean(epoch_loss))\n",
    "    train_acc_pt.append(np.mean(epoch_acc))\n",
    "    test_loss_pt.append(ce)\n",
    "    test_acc_pt.append(acc)\n",
    "    if acc > best_acc_pt:\n",
    "        best_acc_pt = acc\n",
    "        best_weights_pt = copy.deepcopy(model_pt.state_dict())\n",
    "    print(f\"Epoch {epoch} validation: Cross-entropy={ce:.2f}, Accuracy={acc*100:.1f}%\")"
   ]
  },
  {
   "cell_type": "markdown",
   "id": "fa4188f2",
   "metadata": {},
   "source": [
    "## Train Keras Model"
   ]
  },
  {
   "cell_type": "code",
   "execution_count": 12,
   "id": "28dc00ea",
   "metadata": {},
   "outputs": [
    {
     "name": "stderr",
     "output_type": "stream",
     "text": [
      "2023-06-23 21:54:18.887975: I tensorflow/compiler/mlir/mlir_graph_optimization_pass.cc:185] None of the MLIR Optimization Passes are enabled (registered 2)\n"
     ]
    },
    {
     "name": "stdout",
     "output_type": "stream",
     "text": [
      "Epoch 1/100\n",
      "125/125 [==============================] - 1s 2ms/step - loss: 1094.5244 - accuracy: 0.4679 - val_loss: 6.8999 - val_accuracy: 0.4142\n",
      "Epoch 2/100\n",
      "125/125 [==============================] - 0s 1ms/step - loss: 4.6609 - accuracy: 0.4663 - val_loss: 8.9565 - val_accuracy: 0.5224\n",
      "Epoch 3/100\n",
      "125/125 [==============================] - 0s 1ms/step - loss: 4.6694 - accuracy: 0.4551 - val_loss: 1.7956 - val_accuracy: 0.4403\n",
      "Epoch 4/100\n",
      "125/125 [==============================] - 0s 1ms/step - loss: 4.5901 - accuracy: 0.5016 - val_loss: 2.2514 - val_accuracy: 0.4142\n",
      "Epoch 5/100\n",
      "125/125 [==============================] - 0s 1ms/step - loss: 4.1546 - accuracy: 0.4792 - val_loss: 0.9468 - val_accuracy: 0.7537\n",
      "Epoch 6/100\n",
      "125/125 [==============================] - 0s 1ms/step - loss: 3.7812 - accuracy: 0.5144 - val_loss: 9.0810 - val_accuracy: 0.4142\n",
      "Epoch 7/100\n",
      "125/125 [==============================] - 0s 1ms/step - loss: 3.2207 - accuracy: 0.5929 - val_loss: 0.6924 - val_accuracy: 0.7575\n",
      "Epoch 8/100\n",
      "125/125 [==============================] - 0s 1ms/step - loss: 5.7291 - accuracy: 0.5160 - val_loss: 6.1262 - val_accuracy: 0.5224\n",
      "Epoch 9/100\n",
      "125/125 [==============================] - 0s 1ms/step - loss: 3.4288 - accuracy: 0.5865 - val_loss: 3.4945 - val_accuracy: 0.7463\n",
      "Epoch 10/100\n",
      "125/125 [==============================] - 0s 1ms/step - loss: 3.9678 - accuracy: 0.5801 - val_loss: 1.9733 - val_accuracy: 0.5672\n",
      "Epoch 11/100\n",
      "125/125 [==============================] - 0s 1ms/step - loss: 3.0637 - accuracy: 0.5849 - val_loss: 4.1564 - val_accuracy: 0.6045\n",
      "Epoch 12/100\n",
      "125/125 [==============================] - 0s 1ms/step - loss: 3.2290 - accuracy: 0.5785 - val_loss: 2.1197 - val_accuracy: 0.6231\n",
      "Epoch 13/100\n",
      "125/125 [==============================] - 0s 1ms/step - loss: 4.1177 - accuracy: 0.5545 - val_loss: 4.1643 - val_accuracy: 0.6940\n",
      "Epoch 14/100\n",
      "125/125 [==============================] - 0s 1ms/step - loss: 4.1610 - accuracy: 0.5849 - val_loss: 1.5447 - val_accuracy: 0.7500\n",
      "Epoch 15/100\n",
      "125/125 [==============================] - 0s 1ms/step - loss: 3.0876 - accuracy: 0.5865 - val_loss: 3.3922 - val_accuracy: 0.5224\n",
      "Epoch 16/100\n",
      "125/125 [==============================] - 0s 1ms/step - loss: 4.0103 - accuracy: 0.5721 - val_loss: 1.6600 - val_accuracy: 0.7463\n",
      "Epoch 17/100\n",
      "125/125 [==============================] - 0s 1ms/step - loss: 5.7491 - accuracy: 0.5465 - val_loss: 3.6410 - val_accuracy: 0.7425\n",
      "Epoch 18/100\n",
      "125/125 [==============================] - 0s 1ms/step - loss: 3.8177 - accuracy: 0.6250 - val_loss: 4.9260 - val_accuracy: 0.5224\n",
      "Epoch 19/100\n",
      "125/125 [==============================] - 0s 1ms/step - loss: 4.5662 - accuracy: 0.6106 - val_loss: 5.4049 - val_accuracy: 0.7575\n",
      "Epoch 20/100\n",
      "125/125 [==============================] - 0s 1ms/step - loss: 4.0983 - accuracy: 0.5913 - val_loss: 1.6766 - val_accuracy: 0.7164\n",
      "Epoch 21/100\n",
      "125/125 [==============================] - 0s 1ms/step - loss: 3.1448 - accuracy: 0.5946 - val_loss: 4.5320 - val_accuracy: 0.5485\n",
      "Epoch 22/100\n",
      "125/125 [==============================] - 0s 1ms/step - loss: 4.7538 - accuracy: 0.5641 - val_loss: 4.1806 - val_accuracy: 0.7575\n",
      "Epoch 23/100\n",
      "125/125 [==============================] - 0s 1ms/step - loss: 3.2197 - accuracy: 0.6282 - val_loss: 7.1736 - val_accuracy: 0.6157\n",
      "Epoch 24/100\n",
      "125/125 [==============================] - 0s 1ms/step - loss: 3.6131 - accuracy: 0.6202 - val_loss: 4.7665 - val_accuracy: 0.5224\n",
      "Epoch 25/100\n",
      "125/125 [==============================] - 0s 1ms/step - loss: 5.9832 - accuracy: 0.5449 - val_loss: 8.9823 - val_accuracy: 0.5224\n",
      "Epoch 26/100\n",
      "125/125 [==============================] - 0s 1ms/step - loss: 4.6554 - accuracy: 0.5449 - val_loss: 3.9853 - val_accuracy: 0.4664\n",
      "Epoch 27/100\n",
      "125/125 [==============================] - 0s 1ms/step - loss: 7.5038 - accuracy: 0.5128 - val_loss: 8.4319 - val_accuracy: 0.5224\n",
      "Epoch 28/100\n",
      "125/125 [==============================] - 0s 1ms/step - loss: 4.0973 - accuracy: 0.6026 - val_loss: 4.8960 - val_accuracy: 0.6381\n",
      "Epoch 29/100\n",
      "125/125 [==============================] - 0s 1ms/step - loss: 4.8966 - accuracy: 0.5849 - val_loss: 15.8968 - val_accuracy: 0.5224\n",
      "Epoch 30/100\n",
      "125/125 [==============================] - 0s 1ms/step - loss: 4.3330 - accuracy: 0.6218 - val_loss: 3.1991 - val_accuracy: 0.7612\n",
      "Epoch 31/100\n",
      "125/125 [==============================] - 0s 1ms/step - loss: 4.4628 - accuracy: 0.5753 - val_loss: 2.5087 - val_accuracy: 0.7575\n",
      "Epoch 32/100\n",
      "125/125 [==============================] - 0s 1ms/step - loss: 3.4360 - accuracy: 0.6250 - val_loss: 2.2695 - val_accuracy: 0.7612\n",
      "Epoch 33/100\n",
      "125/125 [==============================] - 0s 1ms/step - loss: 4.3133 - accuracy: 0.6026 - val_loss: 1.8144 - val_accuracy: 0.6567\n",
      "Epoch 34/100\n",
      "125/125 [==============================] - 0s 1ms/step - loss: 6.6990 - accuracy: 0.5785 - val_loss: 13.4026 - val_accuracy: 0.7388\n",
      "Epoch 35/100\n",
      "125/125 [==============================] - 0s 1ms/step - loss: 6.4543 - accuracy: 0.6026 - val_loss: 4.9927 - val_accuracy: 0.6567\n",
      "Epoch 36/100\n",
      "125/125 [==============================] - 0s 1ms/step - loss: 4.4434 - accuracy: 0.6090 - val_loss: 3.8248 - val_accuracy: 0.7575\n",
      "Epoch 37/100\n",
      "125/125 [==============================] - 0s 1ms/step - loss: 4.6792 - accuracy: 0.6186 - val_loss: 4.3549 - val_accuracy: 0.5224\n",
      "Epoch 38/100\n",
      "125/125 [==============================] - 0s 1ms/step - loss: 6.1803 - accuracy: 0.5801 - val_loss: 2.4261 - val_accuracy: 0.7649\n",
      "Epoch 39/100\n",
      "125/125 [==============================] - 0s 1ms/step - loss: 7.0155 - accuracy: 0.5641 - val_loss: 6.4701 - val_accuracy: 0.4104\n",
      "Epoch 40/100\n",
      "125/125 [==============================] - 0s 1ms/step - loss: 6.4687 - accuracy: 0.5929 - val_loss: 7.5154 - val_accuracy: 0.4328\n",
      "Epoch 41/100\n",
      "125/125 [==============================] - 0s 1ms/step - loss: 3.7754 - accuracy: 0.6362 - val_loss: 3.4559 - val_accuracy: 0.7537\n",
      "Epoch 42/100\n",
      "125/125 [==============================] - 0s 1ms/step - loss: 3.4102 - accuracy: 0.6250 - val_loss: 3.2175 - val_accuracy: 0.7575\n",
      "Epoch 43/100\n",
      "125/125 [==============================] - 0s 1ms/step - loss: 5.1222 - accuracy: 0.5978 - val_loss: 3.3148 - val_accuracy: 0.7687\n",
      "Epoch 44/100\n",
      "125/125 [==============================] - 0s 1ms/step - loss: 4.0740 - accuracy: 0.6202 - val_loss: 2.6178 - val_accuracy: 0.7575\n",
      "Epoch 45/100\n",
      "125/125 [==============================] - 0s 1ms/step - loss: 4.6631 - accuracy: 0.6074 - val_loss: 1.6937 - val_accuracy: 0.7351\n",
      "Epoch 46/100\n",
      "125/125 [==============================] - 0s 1ms/step - loss: 5.3696 - accuracy: 0.6010 - val_loss: 3.0978 - val_accuracy: 0.6567\n",
      "Epoch 47/100\n",
      "125/125 [==============================] - 0s 1ms/step - loss: 4.4062 - accuracy: 0.6378 - val_loss: 1.4226 - val_accuracy: 0.7351\n",
      "Epoch 48/100\n",
      "125/125 [==============================] - 0s 1ms/step - loss: 4.1622 - accuracy: 0.6378 - val_loss: 3.2461 - val_accuracy: 0.7351\n",
      "Epoch 49/100\n",
      "125/125 [==============================] - 0s 1ms/step - loss: 3.6648 - accuracy: 0.6106 - val_loss: 3.3158 - val_accuracy: 0.6567\n",
      "Epoch 50/100\n",
      "125/125 [==============================] - 0s 1ms/step - loss: 3.9517 - accuracy: 0.6298 - val_loss: 3.2815 - val_accuracy: 0.7612\n",
      "Epoch 51/100\n",
      "125/125 [==============================] - 0s 1ms/step - loss: 3.9388 - accuracy: 0.6282 - val_loss: 2.6864 - val_accuracy: 0.7687\n",
      "Epoch 52/100\n",
      "125/125 [==============================] - 0s 1ms/step - loss: 3.5924 - accuracy: 0.6298 - val_loss: 4.4718 - val_accuracy: 0.5522\n",
      "Epoch 53/100\n",
      "125/125 [==============================] - 0s 1ms/step - loss: 3.3880 - accuracy: 0.6522 - val_loss: 10.5099 - val_accuracy: 0.4179\n",
      "Epoch 54/100\n",
      "125/125 [==============================] - 0s 1ms/step - loss: 4.6766 - accuracy: 0.6378 - val_loss: 2.2682 - val_accuracy: 0.7687\n",
      "Epoch 55/100\n",
      "125/125 [==============================] - 0s 1ms/step - loss: 3.1054 - accuracy: 0.6635 - val_loss: 4.4849 - val_accuracy: 0.5896\n",
      "Epoch 56/100\n",
      "125/125 [==============================] - 0s 1ms/step - loss: 4.6462 - accuracy: 0.6074 - val_loss: 2.4568 - val_accuracy: 0.6567\n",
      "Epoch 57/100\n",
      "125/125 [==============================] - 0s 1ms/step - loss: 5.1152 - accuracy: 0.6186 - val_loss: 2.1482 - val_accuracy: 0.6567\n"
     ]
    },
    {
     "name": "stdout",
     "output_type": "stream",
     "text": [
      "Epoch 58/100\n",
      "125/125 [==============================] - 0s 1ms/step - loss: 5.1397 - accuracy: 0.5994 - val_loss: 8.6988 - val_accuracy: 0.5224\n",
      "Epoch 59/100\n",
      "125/125 [==============================] - 0s 1ms/step - loss: 5.8818 - accuracy: 0.5849 - val_loss: 3.7395 - val_accuracy: 0.6978\n",
      "Epoch 60/100\n",
      "125/125 [==============================] - 0s 1ms/step - loss: 5.2538 - accuracy: 0.5978 - val_loss: 2.2060 - val_accuracy: 0.7575\n",
      "Epoch 61/100\n",
      "125/125 [==============================] - 0s 1ms/step - loss: 2.7936 - accuracy: 0.6683 - val_loss: 2.2340 - val_accuracy: 0.7687\n",
      "Epoch 62/100\n",
      "125/125 [==============================] - 0s 1ms/step - loss: 3.1186 - accuracy: 0.6603 - val_loss: 1.4096 - val_accuracy: 0.7351\n",
      "Epoch 63/100\n",
      "125/125 [==============================] - 0s 1ms/step - loss: 4.2944 - accuracy: 0.6138 - val_loss: 3.4983 - val_accuracy: 0.7575\n",
      "Epoch 64/100\n",
      "125/125 [==============================] - 0s 1ms/step - loss: 4.0620 - accuracy: 0.6394 - val_loss: 4.1725 - val_accuracy: 0.7463\n",
      "Epoch 65/100\n",
      "125/125 [==============================] - 0s 1ms/step - loss: 4.6322 - accuracy: 0.6298 - val_loss: 9.2408 - val_accuracy: 0.4291\n",
      "Epoch 66/100\n",
      "125/125 [==============================] - 0s 1ms/step - loss: 7.4430 - accuracy: 0.5401 - val_loss: 2.5601 - val_accuracy: 0.7612\n",
      "Epoch 67/100\n",
      "125/125 [==============================] - 0s 1ms/step - loss: 4.6355 - accuracy: 0.5962 - val_loss: 2.8796 - val_accuracy: 0.7127\n",
      "Epoch 68/100\n",
      "125/125 [==============================] - 0s 1ms/step - loss: 3.7226 - accuracy: 0.6554 - val_loss: 1.4383 - val_accuracy: 0.7575\n",
      "Epoch 69/100\n",
      "125/125 [==============================] - 0s 1ms/step - loss: 7.6166 - accuracy: 0.5625 - val_loss: 2.7338 - val_accuracy: 0.7575\n",
      "Epoch 70/100\n",
      "125/125 [==============================] - 0s 1ms/step - loss: 4.9009 - accuracy: 0.5994 - val_loss: 2.4525 - val_accuracy: 0.3806\n",
      "Epoch 71/100\n",
      "125/125 [==============================] - 0s 1ms/step - loss: 4.9189 - accuracy: 0.5929 - val_loss: 5.5061 - val_accuracy: 0.6567\n",
      "Epoch 72/100\n",
      "125/125 [==============================] - 0s 1ms/step - loss: 6.4734 - accuracy: 0.6282 - val_loss: 7.4640 - val_accuracy: 0.4478\n",
      "Epoch 73/100\n",
      "125/125 [==============================] - 0s 1ms/step - loss: 6.5170 - accuracy: 0.5865 - val_loss: 8.8014 - val_accuracy: 0.5522\n",
      "Epoch 74/100\n",
      "125/125 [==============================] - 0s 1ms/step - loss: 7.2756 - accuracy: 0.5978 - val_loss: 6.9375 - val_accuracy: 0.5224\n",
      "Epoch 75/100\n",
      "125/125 [==============================] - 0s 1ms/step - loss: 5.1016 - accuracy: 0.6330 - val_loss: 7.8640 - val_accuracy: 0.6007\n",
      "Epoch 76/100\n",
      "125/125 [==============================] - 0s 1ms/step - loss: 3.9620 - accuracy: 0.6298 - val_loss: 5.5525 - val_accuracy: 0.7463\n",
      "Epoch 77/100\n",
      "125/125 [==============================] - 0s 1ms/step - loss: 5.2637 - accuracy: 0.6074 - val_loss: 4.7676 - val_accuracy: 0.2873\n",
      "Epoch 78/100\n",
      "125/125 [==============================] - 0s 1ms/step - loss: 6.6197 - accuracy: 0.5753 - val_loss: 5.4398 - val_accuracy: 0.7575\n",
      "Epoch 79/100\n",
      "125/125 [==============================] - 0s 1ms/step - loss: 4.9968 - accuracy: 0.6074 - val_loss: 2.8083 - val_accuracy: 0.7276\n",
      "Epoch 80/100\n",
      "125/125 [==============================] - 0s 1ms/step - loss: 7.1118 - accuracy: 0.6266 - val_loss: 7.5102 - val_accuracy: 0.4440\n",
      "Epoch 81/100\n",
      "125/125 [==============================] - 0s 1ms/step - loss: 4.1529 - accuracy: 0.5978 - val_loss: 4.8121 - val_accuracy: 0.5299\n",
      "Epoch 82/100\n",
      "125/125 [==============================] - 0s 1ms/step - loss: 6.1477 - accuracy: 0.5881 - val_loss: 2.8435 - val_accuracy: 0.7612\n",
      "Epoch 83/100\n",
      "125/125 [==============================] - 0s 1ms/step - loss: 4.2989 - accuracy: 0.6442 - val_loss: 4.5487 - val_accuracy: 0.7575\n",
      "Epoch 84/100\n",
      "125/125 [==============================] - 0s 1ms/step - loss: 3.8640 - accuracy: 0.6522 - val_loss: 7.5973 - val_accuracy: 0.5075\n",
      "Epoch 85/100\n",
      "125/125 [==============================] - 0s 1ms/step - loss: 4.3655 - accuracy: 0.6378 - val_loss: 3.3375 - val_accuracy: 0.7463\n",
      "Epoch 86/100\n",
      "125/125 [==============================] - 0s 1ms/step - loss: 5.9097 - accuracy: 0.6138 - val_loss: 5.1531 - val_accuracy: 0.7612\n",
      "Epoch 87/100\n",
      "125/125 [==============================] - 0s 1ms/step - loss: 4.9436 - accuracy: 0.5978 - val_loss: 4.6199 - val_accuracy: 0.7575\n",
      "Epoch 88/100\n",
      "125/125 [==============================] - 0s 1ms/step - loss: 4.4004 - accuracy: 0.6330 - val_loss: 2.9264 - val_accuracy: 0.7575\n",
      "Epoch 89/100\n",
      "125/125 [==============================] - 0s 1ms/step - loss: 3.9253 - accuracy: 0.6571 - val_loss: 3.4993 - val_accuracy: 0.5970\n",
      "Epoch 90/100\n",
      "125/125 [==============================] - 0s 1ms/step - loss: 3.6340 - accuracy: 0.6522 - val_loss: 2.6779 - val_accuracy: 0.7500\n",
      "Epoch 91/100\n",
      "125/125 [==============================] - 0s 1ms/step - loss: 4.7429 - accuracy: 0.6154 - val_loss: 3.5195 - val_accuracy: 0.7575\n",
      "Epoch 92/100\n",
      "125/125 [==============================] - 0s 1ms/step - loss: 4.6301 - accuracy: 0.6186 - val_loss: 1.4649 - val_accuracy: 0.7313\n",
      "Epoch 93/100\n",
      "125/125 [==============================] - 0s 1ms/step - loss: 4.5676 - accuracy: 0.6106 - val_loss: 2.0270 - val_accuracy: 0.7463\n",
      "Epoch 94/100\n",
      "125/125 [==============================] - 0s 1ms/step - loss: 5.4267 - accuracy: 0.6122 - val_loss: 3.8983 - val_accuracy: 0.7575\n",
      "Epoch 95/100\n",
      "125/125 [==============================] - 0s 1ms/step - loss: 5.8015 - accuracy: 0.6170 - val_loss: 7.9611 - val_accuracy: 0.7388\n",
      "Epoch 96/100\n",
      "125/125 [==============================] - 0s 1ms/step - loss: 4.9599 - accuracy: 0.6138 - val_loss: 3.7805 - val_accuracy: 0.7575\n",
      "Epoch 97/100\n",
      "125/125 [==============================] - 0s 1ms/step - loss: 5.2245 - accuracy: 0.6186 - val_loss: 12.3615 - val_accuracy: 0.4216\n",
      "Epoch 98/100\n",
      "125/125 [==============================] - 0s 1ms/step - loss: 6.1230 - accuracy: 0.5673 - val_loss: 1.8408 - val_accuracy: 0.7575\n",
      "Epoch 99/100\n",
      "125/125 [==============================] - 0s 1ms/step - loss: 3.5449 - accuracy: 0.6522 - val_loss: 6.7785 - val_accuracy: 0.5261\n",
      "Epoch 100/100\n",
      "125/125 [==============================] - 0s 1ms/step - loss: 3.8903 - accuracy: 0.6410 - val_loss: 8.6699 - val_accuracy: 0.4216\n"
     ]
    }
   ],
   "source": [
    "history_kr = model_kr.fit(X_train_kr, y_train_kr, epochs=n_epochs, \n",
    "                          batch_size=batch_size, validation_data=(X_test_kr, y_test_kr))"
   ]
  },
  {
   "cell_type": "code",
   "execution_count": 13,
   "id": "c737a5a3",
   "metadata": {},
   "outputs": [
    {
     "name": "stdout",
     "output_type": "stream",
     "text": [
      "20/20 [==============================] - 0s 841us/step - loss: 8.5578 - accuracy: 0.4583\n",
      "9/9 [==============================] - 0s 2ms/step - loss: 8.6699 - accuracy: 0.4216\n"
     ]
    }
   ],
   "source": [
    "train_loss_kr, train_acc_kr = model_kr.evaluate(X_train_kr, y_train_kr)\n",
    "test_loss_kr, test_acc_kr = model_kr.evaluate(X_test_kr, y_test_kr)"
   ]
  },
  {
   "cell_type": "markdown",
   "id": "6abfa8f3",
   "metadata": {},
   "source": [
    "## Train XGBoost"
   ]
  },
  {
   "cell_type": "code",
   "execution_count": 14,
   "id": "fa8f8665",
   "metadata": {},
   "outputs": [
    {
     "name": "stdout",
     "output_type": "stream",
     "text": [
      "[21:54:35] WARNING: /Users/runner/miniforge3/conda-bld/xgboost-split_1679035096581/work/src/learner.cc:767: \n",
      "Parameters: { \"silent\" } are not used.\n",
      "\n"
     ]
    }
   ],
   "source": [
    "bst = xgb.train(param, dtrain, num_round)\n",
    "preds_train_xg = bst.predict(dtrain)\n",
    "preds_test_xg = bst.predict(dtest)"
   ]
  },
  {
   "cell_type": "markdown",
   "id": "fe5b1b05",
   "metadata": {},
   "source": [
    "## Plot"
   ]
  },
  {
   "cell_type": "code",
   "execution_count": 15,
   "id": "c8dff87e",
   "metadata": {},
   "outputs": [
    {
     "data": {
      "text/plain": [
       "<All keys matched successfully>"
      ]
     },
     "execution_count": 15,
     "metadata": {},
     "output_type": "execute_result"
    }
   ],
   "source": [
    "# Restore Pytorch best model\n",
    "model_pt.load_state_dict(best_weights_pt)"
   ]
  },
  {
   "cell_type": "code",
   "execution_count": 16,
   "id": "63adfc40",
   "metadata": {},
   "outputs": [
    {
     "data": {
      "image/png": "[encoded data removed]",
      "text/plain": [
       "<Figure size 1008x432 with 2 Axes>"
      ]
     },
     "metadata": {
      "needs_background": "light"
     },
     "output_type": "display_data"
    }
   ],
   "source": [
    "#Loss Figures\n",
    "plt.figure(figsize=(14,6))\n",
    "xp=70\n",
    "yp=8\n",
    "\n",
    "#graph parameters\n",
    "ymax=10\n",
    "wsize=15\n",
    "\n",
    "plt.subplot(1, 2, 1)\n",
    "plt.plot(train_loss_pt, label=\"train - Pytorch\")\n",
    "plt.plot(test_loss_pt, label=\"test - Pytorch\", linestyle='--')\n",
    "plt.xlabel(\"epochs\")\n",
    "plt.ylabel(\"cross entropy\")\n",
    "plt.title('Pytorch Loss')\n",
    "plt.text(xp,yp,r'$N_{epoch}$='+str(n_epochs),size=wsize)\n",
    "plt.text(xp-5,yp-1,r'$N_{hidden \\ layers}$='+str(n_hidden),size=wsize)\n",
    "plt.ylim(0,ymax)\n",
    "plt.legend()\n",
    "\n",
    "\n",
    "plt.subplot(1, 2, 2)\n",
    "# Plot the loss and accuracy\n",
    "plt.plot(history_kr.history['loss'], label=\"Train - Keras\", color='darkblue')\n",
    "plt.plot(history_kr.history['val_loss'], label=\"Test - Keras\", color='orangered', linestyle='--')\n",
    "plt.title('Keras Loss')\n",
    "plt.xlabel(\"epochs\")\n",
    "plt.ylabel(\"cross entropy\")\n",
    "plt.ylim(0,ymax)\n",
    "plt.legend()\n",
    "plt.text(xp,yp,r'$N_{epoch}$='+str(n_epochs),size=wsize)\n",
    "plt.text(xp-5,yp-1,r'$N_{hidden \\ layers}$='+str(n_hidden),size=wsize)\n",
    "#plt.show()\n",
    "\n",
    "plt.show()"
   ]
  },
  {
   "cell_type": "code",
   "execution_count": 17,
   "id": "65d266af",
   "metadata": {},
   "outputs": [
    {
     "data": {
      "image/png": "[encoded data removed]",
      "text/plain": [
       "<Figure size 1008x432 with 2 Axes>"
      ]
     },
     "metadata": {
      "needs_background": "light"
     },
     "output_type": "display_data"
    }
   ],
   "source": [
    "#Accuracy Figures\n",
    "plt.figure(figsize=(14,6))\n",
    "xp=70\n",
    "yp=0.4\n",
    "\n",
    "plt.subplot(1, 2, 1)\n",
    "plt.plot(train_acc_pt, label=\"Train - Pytorch\")\n",
    "plt.plot(test_acc_pt, label=\"Test - Pytorch\", linestyle='--')\n",
    "plt.title('Pytorch Model Accuracy')\n",
    "plt.xlabel(\"epochs\")\n",
    "plt.ylabel(\"accuracy\")\n",
    "plt.ylim(0,1)\n",
    "plt.text(xp,yp,r'$N_{epoch}$='+str(n_epochs),size=wsize)\n",
    "plt.text(xp-5,yp-0.1,r'$N_{hidden \\ layers}$='+str(n_hidden),size=wsize)\n",
    "plt.legend()\n",
    "#plt.show()\n",
    "\n",
    "plt.subplot(1, 2, 2)\n",
    "plt.plot(history_kr.history['accuracy'], label=\"Train - Keras\", color='darkblue')\n",
    "plt.plot(history_kr.history['val_accuracy'], label=\"Test - Keras\", color='orangered', linestyle='--')\n",
    "plt.title('Keras Model Accuracy')\n",
    "plt.ylabel('accuracy')\n",
    "plt.xlabel('epoch')\n",
    "plt.ylim(0,1)\n",
    "plt.text(xp,yp,r'$N_{epoch}$='+str(n_epochs),size=wsize)\n",
    "plt.text(xp-5,yp-0.1,r'$N_{hidden \\ layers}$='+str(n_hidden),size=wsize)\n",
    "plt.legend()\n",
    "\n",
    "plt.show()"
   ]
  },
  {
   "cell_type": "markdown",
   "id": "1ee9f8d5",
   "metadata": {},
   "source": [
    "## Evaluation Metrics"
   ]
  },
  {
   "cell_type": "code",
   "execution_count": 18,
   "id": "ba4b9845",
   "metadata": {},
   "outputs": [
    {
     "name": "stdout",
     "output_type": "stream",
     "text": [
      "Train Accuracy\n",
      "Pytorch Train Accuracy:  0.6774193676969698  | Pytorch Train Loss:  1.0204373513979297\n",
      "Keras Train Accuracy:  0.4583333432674408  | Keras Train Loss:  8.557817459106445\n",
      "XGBoost Train Accuracy: 0.9743589743589743\n",
      " \n",
      "Test Accuracy\n",
      "Pytorch Test Accuracy:  0.7276119589805603  | Pytorch Test Loss:  1.541717529296875\n",
      "Keras Test Accuracy:  0.4216417968273163  | Keras Test Loss:  8.669929504394531\n",
      "XGBoost Test Accuracy: 0.7611940298507462\n"
     ]
    }
   ],
   "source": [
    "print(\"Train Accuracy\")\n",
    "print('Pytorch Train Accuracy: ', max(train_acc_pt), ' | Pytorch Train Loss: ', min(train_loss_pt))\n",
    "print('Keras Train Accuracy: ', train_acc_kr, ' | Keras Train Loss: ', train_loss_kr)\n",
    "\n",
    "# extracting most confident predictions\n",
    "best_preds_train_xg = np.asarray([np.argmax(line) for line in preds_train_xg])\n",
    "#print(\"Train precision:\", precision_score(y_train, best_preds_train, average='macro'))\n",
    "print(\"XGBoost Train Accuracy:\", accuracy_score(y_train_xg, best_preds_train_xg))\n",
    "\n",
    "print(\" \")\n",
    "print(\"Test Accuracy\")\n",
    "\n",
    "print('Pytorch Test Accuracy: ', max(test_acc_pt), ' | Pytorch Test Loss: ', min(test_loss_pt))\n",
    "print('Keras Test Accuracy: ', test_acc_kr, ' | Keras Test Loss: ', test_loss_kr)\n",
    "# extracting most confident predictions\n",
    "best_preds_test_xg = np.asarray([np.argmax(line) for line in preds_test_xg])\n",
    "#print(\"Test precision:\", precision_score(y_test, best_preds, average='macro'))\n",
    "print(\"XGBoost Test Accuracy:\", accuracy_score(y_test_xg, best_preds_test_xg))\n",
    "\n",
    "#preds = bst.predict(dtest)\n",
    "#best_preds = np.asarray([np.argmax(line) for line in preds])\n",
    "      "
   ]
  },
  {
   "cell_type": "code",
   "execution_count": 19,
   "id": "66510690",
   "metadata": {},
   "outputs": [
    {
     "data": {
      "text/plain": [
       "\"\\n#XGBoost Model Dumping\\n# dump the models\\nbst.dump_model('dump.raw.txt')\\nbst_svm.dump_model('dump_svm.raw.txt')\\n\\n# save the models for later\\njoblib.dump(bst, 'bst_model.pkl', compress=True)\\njoblib.dump(bst_svm, 'bst_svm_model.pkl', compress=True)\\n\""
      ]
     },
     "execution_count": 19,
     "metadata": {},
     "output_type": "execute_result"
    }
   ],
   "source": [
    "'''\n",
    "#XGBoost Model Dumping\n",
    "# dump the models\n",
    "bst.dump_model('dump.raw.txt')\n",
    "bst_svm.dump_model('dump_svm.raw.txt')\n",
    "\n",
    "# save the models for later\n",
    "joblib.dump(bst, 'bst_model.pkl', compress=True)\n",
    "joblib.dump(bst_svm, 'bst_svm_model.pkl', compress=True)\n",
    "'''"
   ]
  }
 ],
 "metadata": {
  "kernelspec": {
   "display_name": "Python 3 (ipykernel)",
   "language": "python",
   "name": "python3"
  },
  "language_info": {
   "codemirror_mode": {
    "name": "ipython",
    "version": 3
   },
   "file_extension": ".py",
   "mimetype": "text/x-python",
   "name": "python",
   "nbconvert_exporter": "python",
   "pygments_lexer": "ipython3",
   "version": "3.8.12"
  }
 },
 "nbformat": 4,
 "nbformat_minor": 5
}
