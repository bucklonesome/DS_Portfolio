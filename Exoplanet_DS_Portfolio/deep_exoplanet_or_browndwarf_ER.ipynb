{
 "cells": [
  {
   "cell_type": "markdown",
   "id": "b49fc98e",
   "metadata": {},
   "source": [
    "# Can we predict if a Transit is due to a Brown Dwarf Star or a Planet using Machine Learning? Part 2 - Deep Learning with PyTorch & Keras"
   ]
  },
  {
   "cell_type": "markdown",
   "id": "ad8568bb",
   "metadata": {},
   "source": [
    "### Please see Part 1 ( https://github.com/the-dr-eric-r/DS_Portfolio/blob/main/Exoplanet_DS_Portfolio/exoplanet_or_browndwarf_ER.ipynb ) of this problem for the overview. The following exercise if designed to get experience with Deep Learning..."
   ]
  },
  {
   "cell_type": "markdown",
   "id": "51656352",
   "metadata": {},
   "source": [
    "I recently completed a few courses in Deep Learning (each approximately 4 hours in videos+guided exercises)... \n",
    "\n",
    "- Intro To Deep Learning - *Kaggle*\n",
    "- Introduction to Deep Learning with Pytorch - *DataCamp*\n",
    "- Introduction to Deep Learning with Keras - *DataCamp*\n",
    "- Advanced Deep Learning with Keras - *DataCamp*\n",
    "\n",
    "Courses however do not translate to experience. I felt the best way to make sure that I understood the basics of Neural Networks and using Deep Learning tools was to do a comparison between different common Deep Learning libraries, PyTorch and Keras.\n",
    "\n",
    "The PyTorch and Keras models will both contain the same number of hidden layers and epochs in the fitting. We use XGBoost as a comparison case (as this usually scores quite well), noting that it is not a neural network but a tree ensemble method. I chose this because I hear about it all the time on a few podcasts I follow, and in studying this came across the following article: *Tabular Data: Deep Learning is Not All You Need* - https://arxiv.org/abs/2106.03253"
   ]
  },
  {
   "cell_type": "markdown",
   "id": "2af78c53",
   "metadata": {},
   "source": [
    "Before attempting this on my own compiled Exoplanet/Brown Dwarf data, I tested this code on the Iris Classification problem (properly classify Iris flower species noting the petal/sepal properties, a ML-Bootcamp Right-of-Passage). This example is not included here.\n",
    "\n",
    "I referenced the following articles / code sources that approach this problem, and modify them based on what I learned in the above courses, as well as to align properties of the Neural Network.\n",
    "\n",
    "- **Building a Multiclass Classification Model in PyTorch** - https://machinelearningmastery.com/building-a-multiclass-classification-model-in-pytorch/\n",
    "- **Iris Classification using a Keras Neural Network** - https://medium.com/@manwill/iris-classification-using-a-keras-neural-network-39d735d11fda\n",
    "- **Keras Multi-class Classification using IRIS Dataset** - https://vitalflux.com/keras-multi-class-classification-using-iris-dataset/\n",
    "- **A Simple XGBoost Tutorial Using the Iris Dataset** - https://www.kdnuggets.com/2017/03/simple-xgboost-tutorial-iris-dataset.html\n"
   ]
  },
  {
   "cell_type": "code",
   "execution_count": 1,
   "id": "619735b3",
   "metadata": {},
   "outputs": [],
   "source": [
    "import matplotlib.pyplot as plt\n",
    "import seaborn as sns\n",
    "import numpy as np\n",
    "import pandas as pd\n",
    "import copy\n",
    "\n",
    "#sklearn\n",
    "from sklearn.model_selection import train_test_split\n",
    "from sklearn.preprocessing import OneHotEncoder\n",
    "from sklearn.preprocessing import LabelEncoder  \n",
    "from sklearn.metrics import precision_score, accuracy_score\n",
    "\n",
    "#pytorch\n",
    "import torch\n",
    "import torch.nn as nn\n",
    "import torch.optim as optim\n",
    "import tqdm\n",
    "\n",
    "#keras / tensorflow\n",
    "import tensorflow as tf\n",
    "from tensorflow import keras\n",
    "from tensorflow.keras import layers, Model, Sequential\n",
    "from tensorflow.keras.utils import to_categorical\n",
    "\n",
    "#xgboost\n",
    "import xgboost as xgb"
   ]
  },
  {
   "cell_type": "code",
   "execution_count": 2,
   "id": "57f2706a",
   "metadata": {},
   "outputs": [],
   "source": [
    "# read data and apply one-hot encoding\n",
    "data = pd.read_csv(\"exoplanet_plus_browndwarf_deep.csv\")"
   ]
  },
  {
   "cell_type": "code",
   "execution_count": 3,
   "id": "1c34dcc9",
   "metadata": {},
   "outputs": [
    {
     "data": {
      "text/plain": [
       "<AxesSubplot:>"
      ]
     },
     "execution_count": 3,
     "metadata": {},
     "output_type": "execute_result"
    },
    {
     "data": {
      "image/png": "[encoded data removed]",
      "text/plain": [
       "<Figure size 432x288 with 2 Axes>"
      ]
     },
     "metadata": {
      "needs_background": "light"
     },
     "output_type": "display_data"
    }
   ],
   "source": [
    "sns.heatmap(data.corr(), annot = True)"
   ]
  },
  {
   "cell_type": "code",
   "execution_count": 4,
   "id": "15ff530c",
   "metadata": {},
   "outputs": [
    {
     "name": "stderr",
     "output_type": "stream",
     "text": [
      "/opt/anaconda3/lib/python3.8/site-packages/sklearn/preprocessing/_label.py:115: DataConversionWarning: A column-vector y was passed when a 1d array was expected. Please change the shape of y to (n_samples, ), for example using ravel().\n",
      "  y = column_or_1d(y, warn=True)\n"
     ]
    }
   ],
   "source": [
    "X = data.iloc[:, 0:3]\n",
    "y = data.iloc[:, 3:]\n",
    "\n",
    "le = LabelEncoder()  \n",
    "y_xg = le.fit_transform(y) #for xgboost\n",
    "ohe = OneHotEncoder(handle_unknown='ignore', sparse=False).fit(y)\n",
    "y = ohe.transform(y) #for keras / pytorch\n",
    "\n",
    "# convert pandas DataFrame (X) and numpy array (y) into PyTorch tensors\n",
    "X_pt = torch.tensor(X.values, dtype=torch.float32)\n",
    "y_pt = torch.tensor(y, dtype=torch.float32)"
   ]
  },
  {
   "cell_type": "markdown",
   "id": "7afe7fb0",
   "metadata": {},
   "source": [
    "## Train / Test Split"
   ]
  },
  {
   "cell_type": "code",
   "execution_count": 5,
   "id": "57a19efb",
   "metadata": {},
   "outputs": [],
   "source": [
    "ts=0.7 #split fraction\n",
    "\n",
    "#Pytorch\n",
    "X_train_pt, X_test_pt, y_train_pt, y_test_pt = train_test_split(X_pt, y_pt, train_size=ts, shuffle=True)\n",
    "#Keras\n",
    "X_train_kr, X_test_kr, y_train_kr, y_test_kr = train_test_split(X, y, train_size=ts, shuffle=True)\n",
    "#XGBoost\n",
    "X_train_xg, X_test_xg, y_train_xg, y_test_xg = train_test_split(X, y_xg, train_size=ts, shuffle=True)"
   ]
  },
  {
   "cell_type": "markdown",
   "id": "f559268f",
   "metadata": {},
   "source": [
    "# Neural Network for Pytorch / Keras\n",
    "# [3 inputs] -> [8 hidden neurons] -> [3 (classes) outputs]"
   ]
  },
  {
   "cell_type": "code",
   "execution_count": 6,
   "id": "a06700e5",
   "metadata": {},
   "outputs": [],
   "source": [
    "# prepare model and training parameters\n",
    "n_hidden = 8\n",
    "n_epochs = 100\n",
    "batch_size = 5\n",
    "inp_shape = X.shape[1]"
   ]
  },
  {
   "cell_type": "markdown",
   "id": "3a3666e3",
   "metadata": {},
   "source": [
    "## Build Pytorch Model"
   ]
  },
  {
   "cell_type": "code",
   "execution_count": 7,
   "id": "89e9dad8",
   "metadata": {},
   "outputs": [],
   "source": [
    "# The 'Building a Multiclass Classification Model in PyTorch' article created the model as a 'Class'.\n",
    "# I have never created a class before, so I had to sit a spell and make some sense out of it \n",
    "# I chose to keep it as it is a very tidy way of modelling\n",
    "\n",
    "class Multiclass(nn.Module):\n",
    "    def __init__(self):\n",
    "        super().__init__()\n",
    "        self.hidden = nn.Linear(inp_shape, n_hidden)\n",
    "        self.act = nn.ReLU() #use the same activation in Keras model\n",
    "        self.output = nn.Linear(n_hidden, 3)\n",
    "# https://pytorch.org/tutorials/beginner/former_torchies/nnft_tutorial.html\n",
    "#      it's the forward function that defines the network structure\n",
    "    def forward(self, x): \n",
    "        x = self.act(self.hidden(x))\n",
    "        x = self.output(x)\n",
    "        return x"
   ]
  },
  {
   "cell_type": "code",
   "execution_count": 8,
   "id": "df254194",
   "metadata": {},
   "outputs": [],
   "source": [
    " # loss metric and optimizer\n",
    "model_pt = Multiclass()\n",
    "loss_fn = nn.CrossEntropyLoss()\n",
    "optimizer = optim.Adam(model_pt.parameters(), lr=0.001)\n",
    " \n",
    "# prepare model and training parameters\n",
    "batches_per_epoch = len(X_train_pt) // batch_size\n",
    " \n",
    "best_acc_pt = - np.inf   # init to negative infinity\n",
    "best_weights_pt = None\n",
    "train_loss_pt = []\n",
    "train_acc_pt = []\n",
    "test_loss_pt = []\n",
    "test_acc_pt = []"
   ]
  },
  {
   "cell_type": "markdown",
   "id": "001faf56",
   "metadata": {},
   "source": [
    "## Build Keras Model"
   ]
  },
  {
   "cell_type": "code",
   "execution_count": 9,
   "id": "a7ace976",
   "metadata": {},
   "outputs": [
    {
     "name": "stderr",
     "output_type": "stream",
     "text": [
      "2023-08-09 11:20:36.908970: I tensorflow/core/platform/cpu_feature_guard.cc:142] This TensorFlow binary is optimized with oneAPI Deep Neural Network Library (oneDNN) to use the following CPU instructions in performance-critical operations:  AVX2 FMA\n",
      "To enable them in other operations, rebuild TensorFlow with the appropriate compiler flags.\n"
     ]
    }
   ],
   "source": [
    "model_kr = Sequential()\n",
    "model_kr.add(layers.Dense(n_hidden, activation='relu', input_shape=(inp_shape,))) #use the same activation in Pytorch model\n",
    "model_kr.add(layers.Dense(3, activation='softmax'))\n",
    "\n",
    "model_kr.compile(optimizer='adam',\n",
    "                loss='categorical_crossentropy',\n",
    "                metrics=['accuracy'])"
   ]
  },
  {
   "cell_type": "markdown",
   "id": "fd2ed433",
   "metadata": {},
   "source": [
    "## Prepare / Train XGBoost Model"
   ]
  },
  {
   "cell_type": "code",
   "execution_count": 10,
   "id": "fa8bfcb0",
   "metadata": {},
   "outputs": [],
   "source": [
    "#Next you need to create the Xgboost specific DMatrix data format from the numpy array. \n",
    "dtrain = xgb.DMatrix(X_train_xg, label=y_train_xg)\n",
    "dtest = xgb.DMatrix(X_test_xg, label=y_test_xg)\n",
    "\n",
    "# set xgboost params\n",
    "param = {\n",
    "    'max_depth': 3,  # the maximum depth of each tree\n",
    "    'eta': 0.3,  # the training step for each iteration\n",
    "    'silent': 1,  # logging mode - quiet\n",
    "    'objective': 'multi:softprob',  # error evaluation for multiclass training\n",
    "    'num_class': 3}  # the number of classes that exist in this datset\n",
    "#num_round = 20  # the number of training iterations\n",
    "num_round = n_epochs # the number of training iterations"
   ]
  },
  {
   "cell_type": "markdown",
   "id": "d4d25025",
   "metadata": {},
   "source": [
    "## Train Pytorch Model"
   ]
  },
  {
   "cell_type": "code",
   "execution_count": 11,
   "id": "a378b722",
   "metadata": {},
   "outputs": [
    {
     "name": "stderr",
     "output_type": "stream",
     "text": [
      "Epoch 0: 100%|████████| 124/124 [00:00<00:00, 189.63batch/s, acc=0.6, loss=1.66]\n"
     ]
    },
    {
     "name": "stdout",
     "output_type": "stream",
     "text": [
      "Epoch 0 validation: Cross-entropy=5.46, Accuracy=50.0%\n"
     ]
    },
    {
     "name": "stderr",
     "output_type": "stream",
     "text": [
      "Epoch 1: 100%|███████| 124/124 [00:00<00:00, 232.06batch/s, acc=0.6, loss=0.546]\n"
     ]
    },
    {
     "name": "stdout",
     "output_type": "stream",
     "text": [
      "Epoch 1 validation: Cross-entropy=0.92, Accuracy=70.5%\n"
     ]
    },
    {
     "name": "stderr",
     "output_type": "stream",
     "text": [
      "Epoch 2: 100%|███████| 124/124 [00:00<00:00, 237.88batch/s, acc=0.6, loss=0.541]\n"
     ]
    },
    {
     "name": "stdout",
     "output_type": "stream",
     "text": [
      "Epoch 2 validation: Cross-entropy=1.90, Accuracy=69.4%\n"
     ]
    },
    {
     "name": "stderr",
     "output_type": "stream",
     "text": [
      "Epoch 3: 100%|████████| 124/124 [00:00<00:00, 234.36batch/s, acc=0.6, loss=2.44]\n"
     ]
    },
    {
     "name": "stdout",
     "output_type": "stream",
     "text": [
      "Epoch 3 validation: Cross-entropy=4.84, Accuracy=50.0%\n"
     ]
    },
    {
     "name": "stderr",
     "output_type": "stream",
     "text": [
      "Epoch 4: 100%|███████| 124/124 [00:00<00:00, 239.42batch/s, acc=0.6, loss=0.828]\n"
     ]
    },
    {
     "name": "stdout",
     "output_type": "stream",
     "text": [
      "Epoch 4 validation: Cross-entropy=1.64, Accuracy=59.3%\n"
     ]
    },
    {
     "name": "stderr",
     "output_type": "stream",
     "text": [
      "Epoch 5: 100%|███████| 124/124 [00:00<00:00, 231.40batch/s, acc=0.6, loss=0.511]\n"
     ]
    },
    {
     "name": "stdout",
     "output_type": "stream",
     "text": [
      "Epoch 5 validation: Cross-entropy=1.04, Accuracy=73.1%\n"
     ]
    },
    {
     "name": "stderr",
     "output_type": "stream",
     "text": [
      "Epoch 6: 100%|███████| 124/124 [00:00<00:00, 238.15batch/s, acc=0.6, loss=0.726]\n"
     ]
    },
    {
     "name": "stdout",
     "output_type": "stream",
     "text": [
      "Epoch 6 validation: Cross-entropy=1.42, Accuracy=71.6%\n"
     ]
    },
    {
     "name": "stderr",
     "output_type": "stream",
     "text": [
      "Epoch 7: 100%|████████| 124/124 [00:00<00:00, 239.75batch/s, acc=0.6, loss=1.44]\n"
     ]
    },
    {
     "name": "stdout",
     "output_type": "stream",
     "text": [
      "Epoch 7 validation: Cross-entropy=3.00, Accuracy=50.0%\n"
     ]
    },
    {
     "name": "stderr",
     "output_type": "stream",
     "text": [
      "Epoch 8: 100%|████████| 124/124 [00:00<00:00, 229.00batch/s, acc=0.6, loss=2.13]\n"
     ]
    },
    {
     "name": "stdout",
     "output_type": "stream",
     "text": [
      "Epoch 8 validation: Cross-entropy=4.74, Accuracy=50.0%\n"
     ]
    },
    {
     "name": "stderr",
     "output_type": "stream",
     "text": [
      "Epoch 9: 100%|████████| 124/124 [00:00<00:00, 191.24batch/s, acc=0.6, loss=1.05]\n"
     ]
    },
    {
     "name": "stdout",
     "output_type": "stream",
     "text": [
      "Epoch 9 validation: Cross-entropy=4.79, Accuracy=50.0%\n"
     ]
    },
    {
     "name": "stderr",
     "output_type": "stream",
     "text": [
      "Epoch 10: 100%|███████| 124/124 [00:00<00:00, 214.31batch/s, acc=0.6, loss=1.35]\n"
     ]
    },
    {
     "name": "stdout",
     "output_type": "stream",
     "text": [
      "Epoch 10 validation: Cross-entropy=3.63, Accuracy=50.0%\n"
     ]
    },
    {
     "name": "stderr",
     "output_type": "stream",
     "text": [
      "Epoch 11: 100%|███████| 124/124 [00:00<00:00, 201.79batch/s, acc=0.6, loss=1.23]\n"
     ]
    },
    {
     "name": "stdout",
     "output_type": "stream",
     "text": [
      "Epoch 11 validation: Cross-entropy=5.52, Accuracy=50.0%\n"
     ]
    },
    {
     "name": "stderr",
     "output_type": "stream",
     "text": [
      "Epoch 12: 100%|██████| 124/124 [00:00<00:00, 210.84batch/s, acc=0.6, loss=0.974]\n"
     ]
    },
    {
     "name": "stdout",
     "output_type": "stream",
     "text": [
      "Epoch 12 validation: Cross-entropy=5.50, Accuracy=50.0%\n"
     ]
    },
    {
     "name": "stderr",
     "output_type": "stream",
     "text": [
      "Epoch 13: 100%|██████████| 124/124 [00:00<00:00, 204.58batch/s, acc=0.6, loss=1]\n"
     ]
    },
    {
     "name": "stdout",
     "output_type": "stream",
     "text": [
      "Epoch 13 validation: Cross-entropy=3.39, Accuracy=50.0%\n"
     ]
    },
    {
     "name": "stderr",
     "output_type": "stream",
     "text": [
      "Epoch 14: 100%|██████| 124/124 [00:00<00:00, 191.77batch/s, acc=0.6, loss=0.437]\n"
     ]
    },
    {
     "name": "stdout",
     "output_type": "stream",
     "text": [
      "Epoch 14 validation: Cross-entropy=3.74, Accuracy=50.0%\n"
     ]
    },
    {
     "name": "stderr",
     "output_type": "stream",
     "text": [
      "Epoch 15: 100%|██████| 124/124 [00:00<00:00, 163.21batch/s, acc=0.6, loss=0.854]\n"
     ]
    },
    {
     "name": "stdout",
     "output_type": "stream",
     "text": [
      "Epoch 15 validation: Cross-entropy=3.93, Accuracy=50.0%\n"
     ]
    },
    {
     "name": "stderr",
     "output_type": "stream",
     "text": [
      "Epoch 16: 100%|██████| 124/124 [00:00<00:00, 158.02batch/s, acc=0.8, loss=0.435]\n"
     ]
    },
    {
     "name": "stdout",
     "output_type": "stream",
     "text": [
      "Epoch 16 validation: Cross-entropy=3.34, Accuracy=50.0%\n"
     ]
    },
    {
     "name": "stderr",
     "output_type": "stream",
     "text": [
      "Epoch 17: 100%|██████| 124/124 [00:00<00:00, 168.86batch/s, acc=0.8, loss=0.334]\n"
     ]
    },
    {
     "name": "stdout",
     "output_type": "stream",
     "text": [
      "Epoch 17 validation: Cross-entropy=3.79, Accuracy=50.0%\n"
     ]
    },
    {
     "name": "stderr",
     "output_type": "stream",
     "text": [
      "Epoch 18: 100%|██████| 124/124 [00:00<00:00, 158.70batch/s, acc=0.8, loss=0.651]\n"
     ]
    },
    {
     "name": "stdout",
     "output_type": "stream",
     "text": [
      "Epoch 18 validation: Cross-entropy=2.93, Accuracy=50.0%\n"
     ]
    },
    {
     "name": "stderr",
     "output_type": "stream",
     "text": [
      "Epoch 19: 100%|██████| 124/124 [00:00<00:00, 154.42batch/s, acc=0.6, loss=0.376]\n"
     ]
    },
    {
     "name": "stdout",
     "output_type": "stream",
     "text": [
      "Epoch 19 validation: Cross-entropy=3.61, Accuracy=50.0%\n"
     ]
    },
    {
     "name": "stderr",
     "output_type": "stream",
     "text": [
      "Epoch 20: 100%|██████| 124/124 [00:00<00:00, 182.42batch/s, acc=0.8, loss=0.442]\n"
     ]
    },
    {
     "name": "stdout",
     "output_type": "stream",
     "text": [
      "Epoch 20 validation: Cross-entropy=3.49, Accuracy=50.0%\n"
     ]
    },
    {
     "name": "stderr",
     "output_type": "stream",
     "text": [
      "Epoch 21: 100%|████████| 124/124 [00:00<00:00, 189.50batch/s, acc=1, loss=0.315]\n"
     ]
    },
    {
     "name": "stdout",
     "output_type": "stream",
     "text": [
      "Epoch 21 validation: Cross-entropy=3.97, Accuracy=50.0%\n"
     ]
    },
    {
     "name": "stderr",
     "output_type": "stream",
     "text": [
      "Epoch 22: 100%|██████| 124/124 [00:00<00:00, 207.51batch/s, acc=0.8, loss=0.585]\n"
     ]
    },
    {
     "name": "stdout",
     "output_type": "stream",
     "text": [
      "Epoch 22 validation: Cross-entropy=2.79, Accuracy=50.0%\n"
     ]
    },
    {
     "name": "stderr",
     "output_type": "stream",
     "text": [
      "Epoch 23: 100%|██████| 124/124 [00:00<00:00, 169.92batch/s, acc=0.8, loss=0.298]\n"
     ]
    },
    {
     "name": "stdout",
     "output_type": "stream",
     "text": [
      "Epoch 23 validation: Cross-entropy=3.73, Accuracy=50.0%\n"
     ]
    },
    {
     "name": "stderr",
     "output_type": "stream",
     "text": [
      "Epoch 24: 100%|██████| 124/124 [00:00<00:00, 170.48batch/s, acc=0.6, loss=0.535]\n"
     ]
    },
    {
     "name": "stdout",
     "output_type": "stream",
     "text": [
      "Epoch 24 validation: Cross-entropy=3.77, Accuracy=50.0%\n"
     ]
    },
    {
     "name": "stderr",
     "output_type": "stream",
     "text": [
      "Epoch 25: 100%|██████| 124/124 [00:00<00:00, 197.84batch/s, acc=0.8, loss=0.358]\n"
     ]
    },
    {
     "name": "stdout",
     "output_type": "stream",
     "text": [
      "Epoch 25 validation: Cross-entropy=2.96, Accuracy=50.0%\n"
     ]
    },
    {
     "name": "stderr",
     "output_type": "stream",
     "text": [
      "Epoch 26: 100%|██████| 124/124 [00:00<00:00, 178.91batch/s, acc=0.8, loss=0.366]\n"
     ]
    },
    {
     "name": "stdout",
     "output_type": "stream",
     "text": [
      "Epoch 26 validation: Cross-entropy=2.91, Accuracy=50.0%\n"
     ]
    },
    {
     "name": "stderr",
     "output_type": "stream",
     "text": [
      "Epoch 27: 100%|████████| 124/124 [00:00<00:00, 145.60batch/s, acc=1, loss=0.316]\n"
     ]
    },
    {
     "name": "stdout",
     "output_type": "stream",
     "text": [
      "Epoch 27 validation: Cross-entropy=3.41, Accuracy=50.0%\n"
     ]
    },
    {
     "name": "stderr",
     "output_type": "stream",
     "text": [
      "Epoch 28: 100%|████████| 124/124 [00:00<00:00, 187.72batch/s, acc=1, loss=0.322]\n"
     ]
    },
    {
     "name": "stdout",
     "output_type": "stream",
     "text": [
      "Epoch 28 validation: Cross-entropy=3.54, Accuracy=50.0%\n"
     ]
    },
    {
     "name": "stderr",
     "output_type": "stream",
     "text": [
      "Epoch 29: 100%|██████| 124/124 [00:00<00:00, 182.49batch/s, acc=0.8, loss=0.613]\n"
     ]
    },
    {
     "name": "stdout",
     "output_type": "stream",
     "text": [
      "Epoch 29 validation: Cross-entropy=2.25, Accuracy=57.1%\n"
     ]
    },
    {
     "name": "stderr",
     "output_type": "stream",
     "text": [
      "Epoch 30: 100%|██████| 124/124 [00:00<00:00, 200.37batch/s, acc=0.8, loss=0.304]\n"
     ]
    },
    {
     "name": "stdout",
     "output_type": "stream",
     "text": [
      "Epoch 30 validation: Cross-entropy=3.83, Accuracy=50.0%\n"
     ]
    },
    {
     "name": "stderr",
     "output_type": "stream",
     "text": [
      "Epoch 31: 100%|████████| 124/124 [00:00<00:00, 207.57batch/s, acc=1, loss=0.276]\n"
     ]
    },
    {
     "name": "stdout",
     "output_type": "stream",
     "text": [
      "Epoch 31 validation: Cross-entropy=3.86, Accuracy=50.0%\n"
     ]
    },
    {
     "name": "stderr",
     "output_type": "stream",
     "text": [
      "Epoch 32: 100%|███████| 124/124 [00:00<00:00, 142.52batch/s, acc=0.6, loss=1.35]\n"
     ]
    },
    {
     "name": "stdout",
     "output_type": "stream",
     "text": [
      "Epoch 32 validation: Cross-entropy=1.90, Accuracy=73.9%\n"
     ]
    },
    {
     "name": "stderr",
     "output_type": "stream",
     "text": [
      "Epoch 33: 100%|██████| 124/124 [00:00<00:00, 174.00batch/s, acc=0.8, loss=0.398]\n"
     ]
    },
    {
     "name": "stdout",
     "output_type": "stream",
     "text": [
      "Epoch 33 validation: Cross-entropy=3.35, Accuracy=50.0%\n"
     ]
    },
    {
     "name": "stderr",
     "output_type": "stream",
     "text": [
      "Epoch 34: 100%|██████| 124/124 [00:00<00:00, 157.55batch/s, acc=0.8, loss=0.431]\n"
     ]
    },
    {
     "name": "stdout",
     "output_type": "stream",
     "text": [
      "Epoch 34 validation: Cross-entropy=3.40, Accuracy=50.0%\n"
     ]
    },
    {
     "name": "stderr",
     "output_type": "stream",
     "text": [
      "Epoch 35: 100%|███████| 124/124 [00:00<00:00, 159.42batch/s, acc=0.6, loss=1.61]\n"
     ]
    },
    {
     "name": "stdout",
     "output_type": "stream",
     "text": [
      "Epoch 35 validation: Cross-entropy=1.86, Accuracy=73.1%\n"
     ]
    },
    {
     "name": "stderr",
     "output_type": "stream",
     "text": [
      "Epoch 36: 100%|███████| 124/124 [00:00<00:00, 151.74batch/s, acc=0.8, loss=1.18]\n"
     ]
    },
    {
     "name": "stdout",
     "output_type": "stream",
     "text": [
      "Epoch 36 validation: Cross-entropy=3.84, Accuracy=73.5%\n"
     ]
    },
    {
     "name": "stderr",
     "output_type": "stream",
     "text": [
      "Epoch 37: 100%|██████| 124/124 [00:01<00:00, 109.55batch/s, acc=0.8, loss=0.566]\n"
     ]
    },
    {
     "name": "stdout",
     "output_type": "stream",
     "text": [
      "Epoch 37 validation: Cross-entropy=3.33, Accuracy=50.7%\n"
     ]
    },
    {
     "name": "stderr",
     "output_type": "stream",
     "text": [
      "Epoch 38: 100%|██████| 124/124 [00:01<00:00, 117.66batch/s, acc=0.8, loss=0.552]\n"
     ]
    },
    {
     "name": "stdout",
     "output_type": "stream",
     "text": [
      "Epoch 38 validation: Cross-entropy=3.16, Accuracy=52.2%\n"
     ]
    },
    {
     "name": "stderr",
     "output_type": "stream",
     "text": [
      "Epoch 39: 100%|██████| 124/124 [00:00<00:00, 180.67batch/s, acc=0.8, loss=0.903]\n"
     ]
    },
    {
     "name": "stdout",
     "output_type": "stream",
     "text": [
      "Epoch 39 validation: Cross-entropy=2.04, Accuracy=72.0%\n"
     ]
    },
    {
     "name": "stderr",
     "output_type": "stream",
     "text": [
      "Epoch 40: 100%|███████| 124/124 [00:00<00:00, 178.80batch/s, acc=0.6, loss=1.38]\n"
     ]
    },
    {
     "name": "stdout",
     "output_type": "stream",
     "text": [
      "Epoch 40 validation: Cross-entropy=1.38, Accuracy=73.9%\n"
     ]
    },
    {
     "name": "stderr",
     "output_type": "stream",
     "text": [
      "Epoch 41: 100%|████████| 124/124 [00:00<00:00, 180.14batch/s, acc=0.8, loss=1.1]\n"
     ]
    },
    {
     "name": "stdout",
     "output_type": "stream",
     "text": [
      "Epoch 41 validation: Cross-entropy=1.97, Accuracy=73.5%\n"
     ]
    },
    {
     "name": "stderr",
     "output_type": "stream",
     "text": [
      "Epoch 42: 100%|███████| 124/124 [00:00<00:00, 183.84batch/s, acc=0.8, loss=1.15]\n"
     ]
    },
    {
     "name": "stdout",
     "output_type": "stream",
     "text": [
      "Epoch 42 validation: Cross-entropy=1.93, Accuracy=73.9%\n"
     ]
    },
    {
     "name": "stderr",
     "output_type": "stream",
     "text": [
      "Epoch 43: 100%|██████| 124/124 [00:00<00:00, 193.56batch/s, acc=0.8, loss=0.745]\n"
     ]
    },
    {
     "name": "stdout",
     "output_type": "stream",
     "text": [
      "Epoch 43 validation: Cross-entropy=1.81, Accuracy=73.1%\n"
     ]
    },
    {
     "name": "stderr",
     "output_type": "stream",
     "text": [
      "Epoch 44: 100%|██████| 124/124 [00:00<00:00, 204.92batch/s, acc=0.8, loss=0.846]\n"
     ]
    },
    {
     "name": "stdout",
     "output_type": "stream",
     "text": [
      "Epoch 44 validation: Cross-entropy=2.25, Accuracy=74.6%\n"
     ]
    },
    {
     "name": "stderr",
     "output_type": "stream",
     "text": [
      "Epoch 45: 100%|██████| 124/124 [00:00<00:00, 189.71batch/s, acc=0.8, loss=0.628]\n"
     ]
    },
    {
     "name": "stdout",
     "output_type": "stream",
     "text": [
      "Epoch 45 validation: Cross-entropy=2.37, Accuracy=67.5%\n"
     ]
    },
    {
     "name": "stderr",
     "output_type": "stream",
     "text": [
      "Epoch 46: 100%|███████| 124/124 [00:00<00:00, 197.35batch/s, acc=0.8, loss=1.31]\n"
     ]
    },
    {
     "name": "stdout",
     "output_type": "stream",
     "text": [
      "Epoch 46 validation: Cross-entropy=2.29, Accuracy=74.3%\n"
     ]
    },
    {
     "name": "stderr",
     "output_type": "stream",
     "text": [
      "Epoch 47: 100%|██████| 124/124 [00:00<00:00, 213.94batch/s, acc=0.8, loss=0.655]\n"
     ]
    },
    {
     "name": "stdout",
     "output_type": "stream",
     "text": [
      "Epoch 47 validation: Cross-entropy=2.59, Accuracy=67.9%\n"
     ]
    },
    {
     "name": "stderr",
     "output_type": "stream",
     "text": [
      "Epoch 48: 100%|██████| 124/124 [00:00<00:00, 191.27batch/s, acc=0.6, loss=0.981]\n"
     ]
    },
    {
     "name": "stdout",
     "output_type": "stream",
     "text": [
      "Epoch 48 validation: Cross-entropy=2.97, Accuracy=58.2%\n"
     ]
    },
    {
     "name": "stderr",
     "output_type": "stream",
     "text": [
      "Epoch 49: 100%|██████| 124/124 [00:00<00:00, 209.60batch/s, acc=0.8, loss=0.597]\n"
     ]
    },
    {
     "name": "stdout",
     "output_type": "stream",
     "text": [
      "Epoch 49 validation: Cross-entropy=2.70, Accuracy=72.0%\n"
     ]
    },
    {
     "name": "stderr",
     "output_type": "stream",
     "text": [
      "Epoch 50: 100%|██████| 124/124 [00:00<00:00, 242.02batch/s, acc=0.8, loss=0.861]\n"
     ]
    },
    {
     "name": "stdout",
     "output_type": "stream",
     "text": [
      "Epoch 50 validation: Cross-entropy=2.38, Accuracy=74.3%\n"
     ]
    },
    {
     "name": "stderr",
     "output_type": "stream",
     "text": [
      "Epoch 51: 100%|██████| 124/124 [00:00<00:00, 221.46batch/s, acc=0.8, loss=0.928]\n"
     ]
    },
    {
     "name": "stdout",
     "output_type": "stream",
     "text": [
      "Epoch 51 validation: Cross-entropy=2.47, Accuracy=74.6%\n"
     ]
    },
    {
     "name": "stderr",
     "output_type": "stream",
     "text": [
      "Epoch 52: 100%|███████| 124/124 [00:00<00:00, 219.51batch/s, acc=0.8, loss=1.08]\n"
     ]
    },
    {
     "name": "stdout",
     "output_type": "stream",
     "text": [
      "Epoch 52 validation: Cross-entropy=1.39, Accuracy=73.9%\n"
     ]
    },
    {
     "name": "stderr",
     "output_type": "stream",
     "text": [
      "Epoch 53: 100%|███████| 124/124 [00:00<00:00, 219.77batch/s, acc=0.8, loss=1.14]\n"
     ]
    },
    {
     "name": "stdout",
     "output_type": "stream",
     "text": [
      "Epoch 53 validation: Cross-entropy=1.82, Accuracy=73.9%\n"
     ]
    },
    {
     "name": "stderr",
     "output_type": "stream",
     "text": [
      "Epoch 54: 100%|██████| 124/124 [00:00<00:00, 225.80batch/s, acc=0.8, loss=0.922]\n"
     ]
    },
    {
     "name": "stdout",
     "output_type": "stream",
     "text": [
      "Epoch 54 validation: Cross-entropy=2.56, Accuracy=74.6%\n"
     ]
    },
    {
     "name": "stderr",
     "output_type": "stream",
     "text": [
      "Epoch 55: 100%|██████| 124/124 [00:00<00:00, 219.18batch/s, acc=0.6, loss=0.525]\n"
     ]
    },
    {
     "name": "stdout",
     "output_type": "stream",
     "text": [
      "Epoch 55 validation: Cross-entropy=2.43, Accuracy=74.6%\n"
     ]
    },
    {
     "name": "stderr",
     "output_type": "stream",
     "text": [
      "Epoch 56: 100%|███████| 124/124 [00:00<00:00, 217.47batch/s, acc=0.8, loss=1.23]\n"
     ]
    },
    {
     "name": "stdout",
     "output_type": "stream",
     "text": [
      "Epoch 56 validation: Cross-entropy=1.95, Accuracy=73.9%\n"
     ]
    },
    {
     "name": "stderr",
     "output_type": "stream",
     "text": [
      "Epoch 57: 100%|██████| 124/124 [00:00<00:00, 223.57batch/s, acc=0.8, loss=0.927]\n"
     ]
    },
    {
     "name": "stdout",
     "output_type": "stream",
     "text": [
      "Epoch 57 validation: Cross-entropy=2.21, Accuracy=74.6%\n"
     ]
    },
    {
     "name": "stderr",
     "output_type": "stream",
     "text": [
      "Epoch 58: 100%|██████| 124/124 [00:00<00:00, 219.15batch/s, acc=0.8, loss=0.916]\n"
     ]
    },
    {
     "name": "stdout",
     "output_type": "stream",
     "text": [
      "Epoch 58 validation: Cross-entropy=1.93, Accuracy=73.9%\n"
     ]
    },
    {
     "name": "stderr",
     "output_type": "stream",
     "text": [
      "Epoch 59: 100%|███████| 124/124 [00:00<00:00, 218.04batch/s, acc=0.8, loss=1.19]\n"
     ]
    },
    {
     "name": "stdout",
     "output_type": "stream",
     "text": [
      "Epoch 59 validation: Cross-entropy=2.70, Accuracy=73.5%\n"
     ]
    },
    {
     "name": "stderr",
     "output_type": "stream",
     "text": [
      "Epoch 60: 100%|████████| 124/124 [00:00<00:00, 224.26batch/s, acc=1, loss=0.368]\n"
     ]
    },
    {
     "name": "stdout",
     "output_type": "stream",
     "text": [
      "Epoch 60 validation: Cross-entropy=1.81, Accuracy=73.5%\n"
     ]
    },
    {
     "name": "stderr",
     "output_type": "stream",
     "text": [
      "Epoch 61: 100%|██████| 124/124 [00:00<00:00, 215.58batch/s, acc=0.8, loss=0.773]\n"
     ]
    },
    {
     "name": "stdout",
     "output_type": "stream",
     "text": [
      "Epoch 61 validation: Cross-entropy=2.42, Accuracy=74.3%\n"
     ]
    },
    {
     "name": "stderr",
     "output_type": "stream",
     "text": [
      "Epoch 62: 100%|███████| 124/124 [00:00<00:00, 225.60batch/s, acc=0.8, loss=1.08]\n"
     ]
    },
    {
     "name": "stdout",
     "output_type": "stream",
     "text": [
      "Epoch 62 validation: Cross-entropy=2.14, Accuracy=74.3%\n"
     ]
    },
    {
     "name": "stderr",
     "output_type": "stream",
     "text": [
      "Epoch 63: 100%|███████| 124/124 [00:00<00:00, 203.21batch/s, acc=0.8, loss=1.07]\n"
     ]
    },
    {
     "name": "stdout",
     "output_type": "stream",
     "text": [
      "Epoch 63 validation: Cross-entropy=2.58, Accuracy=74.3%\n"
     ]
    },
    {
     "name": "stderr",
     "output_type": "stream",
     "text": [
      "Epoch 64: 100%|██████| 124/124 [00:00<00:00, 220.43batch/s, acc=0.8, loss=0.871]\n"
     ]
    },
    {
     "name": "stdout",
     "output_type": "stream",
     "text": [
      "Epoch 64 validation: Cross-entropy=2.24, Accuracy=74.6%\n"
     ]
    },
    {
     "name": "stderr",
     "output_type": "stream",
     "text": [
      "Epoch 65: 100%|███████| 124/124 [00:00<00:00, 231.74batch/s, acc=0.8, loss=1.03]\n"
     ]
    },
    {
     "name": "stdout",
     "output_type": "stream",
     "text": [
      "Epoch 65 validation: Cross-entropy=1.64, Accuracy=73.9%\n"
     ]
    },
    {
     "name": "stderr",
     "output_type": "stream",
     "text": [
      "Epoch 66: 100%|███████| 124/124 [00:00<00:00, 207.38batch/s, acc=0.8, loss=1.08]\n"
     ]
    },
    {
     "name": "stdout",
     "output_type": "stream",
     "text": [
      "Epoch 66 validation: Cross-entropy=2.52, Accuracy=73.9%\n"
     ]
    },
    {
     "name": "stderr",
     "output_type": "stream",
     "text": [
      "Epoch 67: 100%|██████| 124/124 [00:00<00:00, 177.61batch/s, acc=0.8, loss=0.801]\n"
     ]
    },
    {
     "name": "stdout",
     "output_type": "stream",
     "text": [
      "Epoch 67 validation: Cross-entropy=2.26, Accuracy=75.0%\n"
     ]
    },
    {
     "name": "stderr",
     "output_type": "stream",
     "text": [
      "Epoch 68: 100%|██████| 124/124 [00:00<00:00, 174.99batch/s, acc=0.8, loss=0.279]\n"
     ]
    },
    {
     "name": "stdout",
     "output_type": "stream",
     "text": [
      "Epoch 68 validation: Cross-entropy=2.31, Accuracy=73.5%\n"
     ]
    },
    {
     "name": "stderr",
     "output_type": "stream",
     "text": [
      "Epoch 69: 100%|██████| 124/124 [00:00<00:00, 178.59batch/s, acc=0.8, loss=0.642]\n"
     ]
    },
    {
     "name": "stdout",
     "output_type": "stream",
     "text": [
      "Epoch 69 validation: Cross-entropy=2.54, Accuracy=74.3%\n"
     ]
    },
    {
     "name": "stderr",
     "output_type": "stream",
     "text": [
      "Epoch 70: 100%|████████| 124/124 [00:00<00:00, 187.16batch/s, acc=1, loss=0.228]\n"
     ]
    },
    {
     "name": "stdout",
     "output_type": "stream",
     "text": [
      "Epoch 70 validation: Cross-entropy=2.40, Accuracy=74.3%\n"
     ]
    },
    {
     "name": "stderr",
     "output_type": "stream",
     "text": [
      "Epoch 71: 100%|██████| 124/124 [00:00<00:00, 164.57batch/s, acc=0.8, loss=0.367]\n"
     ]
    },
    {
     "name": "stdout",
     "output_type": "stream",
     "text": [
      "Epoch 71 validation: Cross-entropy=2.56, Accuracy=74.3%\n"
     ]
    },
    {
     "name": "stderr",
     "output_type": "stream",
     "text": [
      "Epoch 72: 100%|███████| 124/124 [00:00<00:00, 187.78batch/s, acc=0.8, loss=1.03]\n"
     ]
    },
    {
     "name": "stdout",
     "output_type": "stream",
     "text": [
      "Epoch 72 validation: Cross-entropy=2.51, Accuracy=74.3%\n"
     ]
    },
    {
     "name": "stderr",
     "output_type": "stream",
     "text": [
      "Epoch 73: 100%|██████████| 124/124 [00:00<00:00, 134.21batch/s, acc=0.8, loss=1]\n"
     ]
    },
    {
     "name": "stdout",
     "output_type": "stream",
     "text": [
      "Epoch 73 validation: Cross-entropy=2.07, Accuracy=73.5%\n"
     ]
    },
    {
     "name": "stderr",
     "output_type": "stream",
     "text": [
      "Epoch 74: 100%|███████| 124/124 [00:00<00:00, 183.89batch/s, acc=0.8, loss=1.04]\n"
     ]
    },
    {
     "name": "stdout",
     "output_type": "stream",
     "text": [
      "Epoch 74 validation: Cross-entropy=1.80, Accuracy=74.3%\n"
     ]
    },
    {
     "name": "stderr",
     "output_type": "stream",
     "text": [
      "Epoch 75: 100%|████████| 124/124 [00:00<00:00, 173.67batch/s, acc=0.8, loss=1.1]\n"
     ]
    },
    {
     "name": "stdout",
     "output_type": "stream",
     "text": [
      "Epoch 75 validation: Cross-entropy=2.72, Accuracy=73.9%\n"
     ]
    },
    {
     "name": "stderr",
     "output_type": "stream",
     "text": [
      "Epoch 76: 100%|██████| 124/124 [00:00<00:00, 187.21batch/s, acc=0.8, loss=0.797]\n"
     ]
    },
    {
     "name": "stdout",
     "output_type": "stream",
     "text": [
      "Epoch 76 validation: Cross-entropy=1.86, Accuracy=74.3%\n"
     ]
    },
    {
     "name": "stderr",
     "output_type": "stream",
     "text": [
      "Epoch 77: 100%|████████| 124/124 [00:00<00:00, 185.63batch/s, acc=1, loss=0.212]\n"
     ]
    },
    {
     "name": "stdout",
     "output_type": "stream",
     "text": [
      "Epoch 77 validation: Cross-entropy=3.20, Accuracy=73.5%\n"
     ]
    },
    {
     "name": "stderr",
     "output_type": "stream",
     "text": [
      "Epoch 78: 100%|██████| 124/124 [00:00<00:00, 215.30batch/s, acc=0.8, loss=0.304]\n"
     ]
    },
    {
     "name": "stdout",
     "output_type": "stream",
     "text": [
      "Epoch 78 validation: Cross-entropy=2.25, Accuracy=74.3%\n"
     ]
    },
    {
     "name": "stderr",
     "output_type": "stream",
     "text": [
      "Epoch 79: 100%|████████| 124/124 [00:00<00:00, 190.08batch/s, acc=1, loss=0.211]\n"
     ]
    },
    {
     "name": "stdout",
     "output_type": "stream",
     "text": [
      "Epoch 79 validation: Cross-entropy=3.81, Accuracy=72.8%\n"
     ]
    },
    {
     "name": "stderr",
     "output_type": "stream",
     "text": [
      "Epoch 80: 100%|██████████| 124/124 [00:00<00:00, 211.85batch/s, acc=1, loss=0.3]\n"
     ]
    },
    {
     "name": "stdout",
     "output_type": "stream",
     "text": [
      "Epoch 80 validation: Cross-entropy=2.03, Accuracy=73.5%\n"
     ]
    },
    {
     "name": "stderr",
     "output_type": "stream",
     "text": [
      "Epoch 81: 100%|██████| 124/124 [00:00<00:00, 199.18batch/s, acc=0.8, loss=0.874]\n"
     ]
    },
    {
     "name": "stdout",
     "output_type": "stream",
     "text": [
      "Epoch 81 validation: Cross-entropy=1.49, Accuracy=74.3%\n"
     ]
    },
    {
     "name": "stderr",
     "output_type": "stream",
     "text": [
      "Epoch 82: 100%|██████| 124/124 [00:00<00:00, 211.64batch/s, acc=0.8, loss=0.233]\n"
     ]
    },
    {
     "name": "stdout",
     "output_type": "stream",
     "text": [
      "Epoch 82 validation: Cross-entropy=2.68, Accuracy=73.5%\n"
     ]
    },
    {
     "name": "stderr",
     "output_type": "stream",
     "text": [
      "Epoch 83: 100%|████████| 124/124 [00:00<00:00, 215.77batch/s, acc=1, loss=0.208]\n"
     ]
    },
    {
     "name": "stdout",
     "output_type": "stream",
     "text": [
      "Epoch 83 validation: Cross-entropy=2.83, Accuracy=73.9%\n"
     ]
    },
    {
     "name": "stderr",
     "output_type": "stream",
     "text": [
      "Epoch 84: 100%|██████| 124/124 [00:00<00:00, 227.15batch/s, acc=0.8, loss=0.431]\n"
     ]
    },
    {
     "name": "stdout",
     "output_type": "stream",
     "text": [
      "Epoch 84 validation: Cross-entropy=2.02, Accuracy=73.5%\n"
     ]
    },
    {
     "name": "stderr",
     "output_type": "stream",
     "text": [
      "Epoch 85: 100%|██████| 124/124 [00:00<00:00, 213.55batch/s, acc=0.8, loss=0.648]\n"
     ]
    },
    {
     "name": "stdout",
     "output_type": "stream",
     "text": [
      "Epoch 85 validation: Cross-entropy=1.82, Accuracy=74.3%\n"
     ]
    },
    {
     "name": "stderr",
     "output_type": "stream",
     "text": [
      "Epoch 86: 100%|██████| 124/124 [00:00<00:00, 219.01batch/s, acc=0.8, loss=0.766]\n"
     ]
    },
    {
     "name": "stdout",
     "output_type": "stream",
     "text": [
      "Epoch 86 validation: Cross-entropy=2.45, Accuracy=73.9%\n"
     ]
    },
    {
     "name": "stderr",
     "output_type": "stream",
     "text": [
      "Epoch 87: 100%|██████| 124/124 [00:00<00:00, 233.92batch/s, acc=0.8, loss=0.508]\n"
     ]
    },
    {
     "name": "stdout",
     "output_type": "stream",
     "text": [
      "Epoch 87 validation: Cross-entropy=2.26, Accuracy=73.5%\n"
     ]
    },
    {
     "name": "stderr",
     "output_type": "stream",
     "text": [
      "Epoch 88: 100%|██████| 124/124 [00:00<00:00, 231.32batch/s, acc=0.8, loss=0.776]\n"
     ]
    },
    {
     "name": "stdout",
     "output_type": "stream",
     "text": [
      "Epoch 88 validation: Cross-entropy=1.73, Accuracy=74.3%\n"
     ]
    },
    {
     "name": "stderr",
     "output_type": "stream",
     "text": [
      "Epoch 89: 100%|██████| 124/124 [00:00<00:00, 201.20batch/s, acc=0.8, loss=0.947]\n"
     ]
    },
    {
     "name": "stdout",
     "output_type": "stream",
     "text": [
      "Epoch 89 validation: Cross-entropy=2.68, Accuracy=74.3%\n"
     ]
    },
    {
     "name": "stderr",
     "output_type": "stream",
     "text": [
      "Epoch 90: 100%|██████| 124/124 [00:00<00:00, 231.59batch/s, acc=0.8, loss=0.734]\n"
     ]
    },
    {
     "name": "stdout",
     "output_type": "stream",
     "text": [
      "Epoch 90 validation: Cross-entropy=2.62, Accuracy=73.9%\n"
     ]
    },
    {
     "name": "stderr",
     "output_type": "stream",
     "text": [
      "Epoch 91: 100%|██████| 124/124 [00:00<00:00, 234.01batch/s, acc=0.8, loss=0.801]\n"
     ]
    },
    {
     "name": "stdout",
     "output_type": "stream",
     "text": [
      "Epoch 91 validation: Cross-entropy=1.80, Accuracy=74.6%\n"
     ]
    },
    {
     "name": "stderr",
     "output_type": "stream",
     "text": [
      "Epoch 92: 100%|██████| 124/124 [00:00<00:00, 227.98batch/s, acc=0.8, loss=0.694]\n"
     ]
    },
    {
     "name": "stdout",
     "output_type": "stream",
     "text": [
      "Epoch 92 validation: Cross-entropy=1.97, Accuracy=74.3%\n"
     ]
    },
    {
     "name": "stderr",
     "output_type": "stream",
     "text": [
      "Epoch 93: 100%|██████| 124/124 [00:00<00:00, 238.32batch/s, acc=0.8, loss=0.636]\n"
     ]
    },
    {
     "name": "stdout",
     "output_type": "stream",
     "text": [
      "Epoch 93 validation: Cross-entropy=2.86, Accuracy=73.1%\n"
     ]
    },
    {
     "name": "stderr",
     "output_type": "stream",
     "text": [
      "Epoch 94: 100%|██████| 124/124 [00:00<00:00, 206.58batch/s, acc=0.8, loss=0.561]\n"
     ]
    },
    {
     "name": "stdout",
     "output_type": "stream",
     "text": [
      "Epoch 94 validation: Cross-entropy=3.44, Accuracy=74.3%\n"
     ]
    },
    {
     "name": "stderr",
     "output_type": "stream",
     "text": [
      "Epoch 95: 100%|██████| 124/124 [00:00<00:00, 165.90batch/s, acc=0.8, loss=0.972]\n"
     ]
    },
    {
     "name": "stdout",
     "output_type": "stream",
     "text": [
      "Epoch 95 validation: Cross-entropy=2.00, Accuracy=74.3%\n"
     ]
    },
    {
     "name": "stderr",
     "output_type": "stream",
     "text": [
      "Epoch 96: 100%|██████| 124/124 [00:00<00:00, 202.49batch/s, acc=0.8, loss=0.931]\n"
     ]
    },
    {
     "name": "stdout",
     "output_type": "stream",
     "text": [
      "Epoch 96 validation: Cross-entropy=1.66, Accuracy=74.3%\n"
     ]
    },
    {
     "name": "stderr",
     "output_type": "stream",
     "text": [
      "Epoch 97: 100%|██████| 124/124 [00:00<00:00, 201.17batch/s, acc=0.8, loss=0.664]\n"
     ]
    },
    {
     "name": "stdout",
     "output_type": "stream",
     "text": [
      "Epoch 97 validation: Cross-entropy=2.62, Accuracy=73.5%\n"
     ]
    },
    {
     "name": "stderr",
     "output_type": "stream",
     "text": [
      "Epoch 98: 100%|███████| 124/124 [00:00<00:00, 207.14batch/s, acc=0.8, loss=0.77]\n"
     ]
    },
    {
     "name": "stdout",
     "output_type": "stream",
     "text": [
      "Epoch 98 validation: Cross-entropy=2.15, Accuracy=73.9%\n"
     ]
    },
    {
     "name": "stderr",
     "output_type": "stream",
     "text": [
      "Epoch 99: 100%|██████| 124/124 [00:00<00:00, 206.43batch/s, acc=0.8, loss=0.931]\n"
     ]
    },
    {
     "name": "stdout",
     "output_type": "stream",
     "text": [
      "Epoch 99 validation: Cross-entropy=1.95, Accuracy=74.3%\n"
     ]
    }
   ],
   "source": [
    "# training loop\n",
    "for epoch in range(n_epochs):\n",
    "    epoch_loss = []\n",
    "    epoch_acc = []\n",
    "    # set model in training mode and run through each batch\n",
    "    model_pt.train()\n",
    "    with tqdm.trange(batches_per_epoch, unit=\"batch\", mininterval=0) as bar:\n",
    "        bar.set_description(f\"Epoch {epoch}\")\n",
    "        for i in bar:\n",
    "            # take a batch\n",
    "            start = i * batch_size\n",
    "            X_batch = X_train_pt[start:start+batch_size]\n",
    "            y_batch = y_train_pt[start:start+batch_size]\n",
    "            # forward pass\n",
    "            y_pred = model_pt(X_batch)\n",
    "            loss = loss_fn(y_pred, y_batch)\n",
    "            # backward pass\n",
    "            optimizer.zero_grad()\n",
    "            loss.backward()\n",
    "            # update weights\n",
    "            optimizer.step()\n",
    "            # compute and store metrics\n",
    "            acc = (torch.argmax(y_pred, 1) == torch.argmax(y_batch, 1)).float().mean()\n",
    "            epoch_loss.append(float(loss))\n",
    "            epoch_acc.append(float(acc))\n",
    "            bar.set_postfix(\n",
    "                loss=float(loss),\n",
    "                acc=float(acc)\n",
    "            )\n",
    "    # set model in evaluation mode and run through the test set\n",
    "    model_pt.eval()\n",
    "    y_pred = model_pt(X_test_pt)\n",
    "    ce = loss_fn(y_pred, y_test_pt)\n",
    "    acc = (torch.argmax(y_pred, 1) == torch.argmax(y_test_pt, 1)).float().mean()\n",
    "    ce = float(ce)\n",
    "    acc = float(acc)\n",
    "    train_loss_pt.append(np.mean(epoch_loss))\n",
    "    train_acc_pt.append(np.mean(epoch_acc))\n",
    "    test_loss_pt.append(ce)\n",
    "    test_acc_pt.append(acc)\n",
    "    if acc > best_acc_pt:\n",
    "        best_acc_pt = acc\n",
    "        best_weights_pt = copy.deepcopy(model_pt.state_dict())\n",
    "    print(f\"Epoch {epoch} validation: Cross-entropy={ce:.2f}, Accuracy={acc*100:.1f}%\")"
   ]
  },
  {
   "cell_type": "markdown",
   "id": "fa4188f2",
   "metadata": {},
   "source": [
    "## Train Keras Model"
   ]
  },
  {
   "cell_type": "code",
   "execution_count": 12,
   "id": "28dc00ea",
   "metadata": {},
   "outputs": [
    {
     "name": "stderr",
     "output_type": "stream",
     "text": [
      "2023-08-09 11:21:41.993656: I tensorflow/compiler/mlir/mlir_graph_optimization_pass.cc:185] None of the MLIR Optimization Passes are enabled (registered 2)\n"
     ]
    },
    {
     "name": "stdout",
     "output_type": "stream",
     "text": [
      "Epoch 1/100\n",
      "125/125 [==============================] - 1s 3ms/step - loss: 244.0272 - accuracy: 0.5192 - val_loss: 62.3412 - val_accuracy: 0.4701\n",
      "Epoch 2/100\n",
      "125/125 [==============================] - 0s 1ms/step - loss: 76.5384 - accuracy: 0.6699 - val_loss: 45.5520 - val_accuracy: 0.7388\n",
      "Epoch 3/100\n",
      "125/125 [==============================] - 0s 1ms/step - loss: 54.6190 - accuracy: 0.6971 - val_loss: 30.6567 - val_accuracy: 0.7351\n",
      "Epoch 4/100\n",
      "125/125 [==============================] - 0s 1ms/step - loss: 35.6589 - accuracy: 0.6346 - val_loss: 19.6185 - val_accuracy: 0.4701\n",
      "Epoch 5/100\n",
      "125/125 [==============================] - 0s 1ms/step - loss: 21.2027 - accuracy: 0.5769 - val_loss: 10.3080 - val_accuracy: 0.5000\n",
      "Epoch 6/100\n",
      "125/125 [==============================] - 0s 1ms/step - loss: 8.2628 - accuracy: 0.5449 - val_loss: 1.1153 - val_accuracy: 0.5448\n",
      "Epoch 7/100\n",
      "125/125 [==============================] - 0s 1ms/step - loss: 1.0932 - accuracy: 0.5176 - val_loss: 1.8879 - val_accuracy: 0.4701\n",
      "Epoch 8/100\n",
      "125/125 [==============================] - 0s 2ms/step - loss: 1.0816 - accuracy: 0.5753 - val_loss: 1.2851 - val_accuracy: 0.4701\n",
      "Epoch 9/100\n",
      "125/125 [==============================] - 0s 2ms/step - loss: 1.0180 - accuracy: 0.5561 - val_loss: 0.7896 - val_accuracy: 0.6157\n",
      "Epoch 10/100\n",
      "125/125 [==============================] - 0s 1ms/step - loss: 1.0156 - accuracy: 0.5385 - val_loss: 1.0040 - val_accuracy: 0.4701\n",
      "Epoch 11/100\n",
      "125/125 [==============================] - 0s 1ms/step - loss: 1.1099 - accuracy: 0.5978 - val_loss: 1.1569 - val_accuracy: 0.4925\n",
      "Epoch 12/100\n",
      "125/125 [==============================] - 0s 1ms/step - loss: 1.0035 - accuracy: 0.6202 - val_loss: 0.8264 - val_accuracy: 0.6007\n",
      "Epoch 13/100\n",
      "125/125 [==============================] - 0s 1ms/step - loss: 0.9796 - accuracy: 0.5721 - val_loss: 0.7812 - val_accuracy: 0.7239\n",
      "Epoch 14/100\n",
      "125/125 [==============================] - 0s 1ms/step - loss: 1.1365 - accuracy: 0.5369 - val_loss: 0.8093 - val_accuracy: 0.7351\n",
      "Epoch 15/100\n",
      "125/125 [==============================] - 0s 1ms/step - loss: 0.9764 - accuracy: 0.6026 - val_loss: 0.8902 - val_accuracy: 0.5410\n",
      "Epoch 16/100\n",
      "125/125 [==============================] - 0s 1ms/step - loss: 1.0663 - accuracy: 0.6234 - val_loss: 0.9665 - val_accuracy: 0.6455\n",
      "Epoch 17/100\n",
      "125/125 [==============================] - 0s 1ms/step - loss: 1.0574 - accuracy: 0.5753 - val_loss: 0.9206 - val_accuracy: 0.7425\n",
      "Epoch 18/100\n",
      "125/125 [==============================] - 0s 1ms/step - loss: 0.9822 - accuracy: 0.6619 - val_loss: 0.8898 - val_accuracy: 0.6157\n",
      "Epoch 19/100\n",
      "125/125 [==============================] - 0s 1ms/step - loss: 0.9751 - accuracy: 0.6074 - val_loss: 0.7628 - val_accuracy: 0.7351\n",
      "Epoch 20/100\n",
      "125/125 [==============================] - 0s 2ms/step - loss: 1.0285 - accuracy: 0.6090 - val_loss: 0.9940 - val_accuracy: 0.7201\n",
      "Epoch 21/100\n",
      "125/125 [==============================] - 0s 2ms/step - loss: 0.9258 - accuracy: 0.6442 - val_loss: 1.1375 - val_accuracy: 0.6045\n",
      "Epoch 22/100\n",
      "125/125 [==============================] - 0s 1ms/step - loss: 1.3394 - accuracy: 0.5673 - val_loss: 1.6267 - val_accuracy: 0.4701\n",
      "Epoch 23/100\n",
      "125/125 [==============================] - 0s 2ms/step - loss: 1.0294 - accuracy: 0.5881 - val_loss: 0.8205 - val_accuracy: 0.7388\n",
      "Epoch 24/100\n",
      "125/125 [==============================] - 0s 2ms/step - loss: 0.9513 - accuracy: 0.6026 - val_loss: 0.8805 - val_accuracy: 0.7351\n",
      "Epoch 25/100\n",
      "125/125 [==============================] - 0s 2ms/step - loss: 1.0317 - accuracy: 0.6330 - val_loss: 0.8030 - val_accuracy: 0.7388\n",
      "Epoch 26/100\n",
      "125/125 [==============================] - 0s 1ms/step - loss: 0.9590 - accuracy: 0.6426 - val_loss: 0.7819 - val_accuracy: 0.6306\n",
      "Epoch 27/100\n",
      "125/125 [==============================] - 0s 2ms/step - loss: 0.8958 - accuracy: 0.6603 - val_loss: 0.8928 - val_accuracy: 0.6082\n",
      "Epoch 28/100\n",
      "125/125 [==============================] - 0s 1ms/step - loss: 0.9459 - accuracy: 0.6314 - val_loss: 0.8351 - val_accuracy: 0.6791\n",
      "Epoch 29/100\n",
      "125/125 [==============================] - 0s 1ms/step - loss: 0.9291 - accuracy: 0.6474 - val_loss: 0.6861 - val_accuracy: 0.7164\n",
      "Epoch 30/100\n",
      "125/125 [==============================] - 0s 2ms/step - loss: 1.0685 - accuracy: 0.6250 - val_loss: 0.8233 - val_accuracy: 0.5821\n",
      "Epoch 31/100\n",
      "125/125 [==============================] - 0s 2ms/step - loss: 0.9107 - accuracy: 0.6474 - val_loss: 0.8264 - val_accuracy: 0.7164\n",
      "Epoch 32/100\n",
      "125/125 [==============================] - 0s 2ms/step - loss: 0.9442 - accuracy: 0.6651 - val_loss: 1.1999 - val_accuracy: 0.5037\n",
      "Epoch 33/100\n",
      "125/125 [==============================] - 0s 1ms/step - loss: 1.0361 - accuracy: 0.5721 - val_loss: 1.7635 - val_accuracy: 0.4701\n",
      "Epoch 34/100\n",
      "125/125 [==============================] - 0s 1ms/step - loss: 1.0161 - accuracy: 0.6138 - val_loss: 1.0540 - val_accuracy: 0.6045\n",
      "Epoch 35/100\n",
      "125/125 [==============================] - 0s 1ms/step - loss: 1.0295 - accuracy: 0.6170 - val_loss: 0.8747 - val_accuracy: 0.7090\n",
      "Epoch 36/100\n",
      "125/125 [==============================] - 0s 2ms/step - loss: 1.0119 - accuracy: 0.6138 - val_loss: 0.9760 - val_accuracy: 0.5970\n",
      "Epoch 37/100\n",
      "125/125 [==============================] - 0s 2ms/step - loss: 1.0791 - accuracy: 0.5962 - val_loss: 0.9419 - val_accuracy: 0.7201\n",
      "Epoch 38/100\n",
      "125/125 [==============================] - 0s 2ms/step - loss: 1.0801 - accuracy: 0.6058 - val_loss: 1.2792 - val_accuracy: 0.5970\n",
      "Epoch 39/100\n",
      "125/125 [==============================] - 0s 1ms/step - loss: 1.0311 - accuracy: 0.6410 - val_loss: 1.9924 - val_accuracy: 0.4701\n",
      "Epoch 40/100\n",
      "125/125 [==============================] - 0s 2ms/step - loss: 1.0928 - accuracy: 0.6170 - val_loss: 0.9790 - val_accuracy: 0.7388\n",
      "Epoch 41/100\n",
      "125/125 [==============================] - 0s 1ms/step - loss: 1.1082 - accuracy: 0.6202 - val_loss: 1.6615 - val_accuracy: 0.4701\n",
      "Epoch 42/100\n",
      "125/125 [==============================] - 0s 1ms/step - loss: 1.1256 - accuracy: 0.5978 - val_loss: 0.9379 - val_accuracy: 0.6940\n",
      "Epoch 43/100\n",
      "125/125 [==============================] - 0s 1ms/step - loss: 1.1089 - accuracy: 0.6538 - val_loss: 0.6843 - val_accuracy: 0.7201\n",
      "Epoch 44/100\n",
      "125/125 [==============================] - 0s 1ms/step - loss: 1.2069 - accuracy: 0.6298 - val_loss: 0.7359 - val_accuracy: 0.7090\n",
      "Epoch 45/100\n",
      "125/125 [==============================] - 0s 1ms/step - loss: 1.0274 - accuracy: 0.6330 - val_loss: 1.9664 - val_accuracy: 0.4515\n",
      "Epoch 46/100\n",
      "125/125 [==============================] - 0s 2ms/step - loss: 0.9528 - accuracy: 0.6506 - val_loss: 0.8874 - val_accuracy: 0.6828\n",
      "Epoch 47/100\n",
      "125/125 [==============================] - 0s 2ms/step - loss: 0.9188 - accuracy: 0.6667 - val_loss: 0.7659 - val_accuracy: 0.7127\n",
      "Epoch 48/100\n",
      "125/125 [==============================] - 0s 2ms/step - loss: 0.9077 - accuracy: 0.6763 - val_loss: 0.7177 - val_accuracy: 0.7351\n",
      "Epoch 49/100\n",
      "125/125 [==============================] - 0s 2ms/step - loss: 1.0394 - accuracy: 0.6683 - val_loss: 0.7666 - val_accuracy: 0.7351\n",
      "Epoch 50/100\n",
      "125/125 [==============================] - 0s 1ms/step - loss: 1.1508 - accuracy: 0.6186 - val_loss: 0.7135 - val_accuracy: 0.7313\n",
      "Epoch 51/100\n",
      "125/125 [==============================] - 0s 1ms/step - loss: 1.0172 - accuracy: 0.6651 - val_loss: 0.6900 - val_accuracy: 0.7052\n",
      "Epoch 52/100\n",
      "125/125 [==============================] - 0s 1ms/step - loss: 1.0389 - accuracy: 0.6330 - val_loss: 1.2788 - val_accuracy: 0.7388\n",
      "Epoch 53/100\n",
      "125/125 [==============================] - 0s 2ms/step - loss: 0.9877 - accuracy: 0.6811 - val_loss: 0.7044 - val_accuracy: 0.7015\n",
      "Epoch 54/100\n",
      "125/125 [==============================] - 0s 2ms/step - loss: 1.0984 - accuracy: 0.6266 - val_loss: 0.6879 - val_accuracy: 0.7164\n",
      "Epoch 55/100\n",
      "125/125 [==============================] - 0s 2ms/step - loss: 1.0080 - accuracy: 0.6619 - val_loss: 0.8039 - val_accuracy: 0.6642\n",
      "Epoch 56/100\n",
      "125/125 [==============================] - 0s 1ms/step - loss: 1.1449 - accuracy: 0.5962 - val_loss: 1.0852 - val_accuracy: 0.7388\n",
      "Epoch 57/100\n",
      "125/125 [==============================] - 0s 1ms/step - loss: 0.8766 - accuracy: 0.6506 - val_loss: 0.7490 - val_accuracy: 0.6978\n"
     ]
    },
    {
     "name": "stdout",
     "output_type": "stream",
     "text": [
      "Epoch 58/100\n",
      "125/125 [==============================] - 0s 2ms/step - loss: 0.8796 - accuracy: 0.6699 - val_loss: 0.9997 - val_accuracy: 0.7388\n",
      "Epoch 59/100\n",
      "125/125 [==============================] - 0s 1ms/step - loss: 0.9465 - accuracy: 0.6747 - val_loss: 0.6832 - val_accuracy: 0.7164\n",
      "Epoch 60/100\n",
      "125/125 [==============================] - 0s 1ms/step - loss: 1.1043 - accuracy: 0.6202 - val_loss: 0.8399 - val_accuracy: 0.6455\n",
      "Epoch 61/100\n",
      "125/125 [==============================] - 0s 1ms/step - loss: 0.9920 - accuracy: 0.6699 - val_loss: 0.7221 - val_accuracy: 0.7201\n",
      "Epoch 62/100\n",
      "125/125 [==============================] - 0s 1ms/step - loss: 1.0086 - accuracy: 0.6362 - val_loss: 0.9855 - val_accuracy: 0.5784\n",
      "Epoch 63/100\n",
      "125/125 [==============================] - 0s 1ms/step - loss: 1.1095 - accuracy: 0.5929 - val_loss: 0.8341 - val_accuracy: 0.7313\n",
      "Epoch 64/100\n",
      "125/125 [==============================] - 0s 1ms/step - loss: 1.0430 - accuracy: 0.6330 - val_loss: 0.9300 - val_accuracy: 0.7276\n",
      "Epoch 65/100\n",
      "125/125 [==============================] - 0s 2ms/step - loss: 0.9308 - accuracy: 0.6811 - val_loss: 0.7218 - val_accuracy: 0.7313\n",
      "Epoch 66/100\n",
      "125/125 [==============================] - 0s 1ms/step - loss: 0.9917 - accuracy: 0.6571 - val_loss: 0.9436 - val_accuracy: 0.6940\n",
      "Epoch 67/100\n",
      "125/125 [==============================] - 0s 1ms/step - loss: 1.0464 - accuracy: 0.6506 - val_loss: 0.8467 - val_accuracy: 0.7425\n",
      "Epoch 68/100\n",
      "125/125 [==============================] - 0s 1ms/step - loss: 1.3624 - accuracy: 0.5721 - val_loss: 0.6844 - val_accuracy: 0.7164\n",
      "Epoch 69/100\n",
      "125/125 [==============================] - 0s 1ms/step - loss: 0.9844 - accuracy: 0.6330 - val_loss: 0.7866 - val_accuracy: 0.7015\n",
      "Epoch 70/100\n",
      "125/125 [==============================] - 0s 1ms/step - loss: 1.0173 - accuracy: 0.6250 - val_loss: 0.7010 - val_accuracy: 0.7164\n",
      "Epoch 71/100\n",
      "125/125 [==============================] - 0s 1ms/step - loss: 0.9812 - accuracy: 0.6538 - val_loss: 0.7612 - val_accuracy: 0.7239\n",
      "Epoch 72/100\n",
      "125/125 [==============================] - 0s 1ms/step - loss: 0.9407 - accuracy: 0.6875 - val_loss: 0.9215 - val_accuracy: 0.7500\n",
      "Epoch 73/100\n",
      "125/125 [==============================] - 0s 1ms/step - loss: 0.9309 - accuracy: 0.6747 - val_loss: 0.7290 - val_accuracy: 0.7313\n",
      "Epoch 74/100\n",
      "125/125 [==============================] - 0s 1ms/step - loss: 0.9031 - accuracy: 0.6923 - val_loss: 0.7084 - val_accuracy: 0.6940\n",
      "Epoch 75/100\n",
      "125/125 [==============================] - 0s 1ms/step - loss: 0.8177 - accuracy: 0.7179 - val_loss: 1.1493 - val_accuracy: 0.5634\n",
      "Epoch 76/100\n",
      "125/125 [==============================] - 0s 1ms/step - loss: 0.8911 - accuracy: 0.6699 - val_loss: 1.0643 - val_accuracy: 0.5299\n",
      "Epoch 77/100\n",
      "125/125 [==============================] - 0s 1ms/step - loss: 0.9894 - accuracy: 0.6394 - val_loss: 1.0469 - val_accuracy: 0.6269\n",
      "Epoch 78/100\n",
      "125/125 [==============================] - 0s 1ms/step - loss: 1.0270 - accuracy: 0.6474 - val_loss: 0.9386 - val_accuracy: 0.5485\n",
      "Epoch 79/100\n",
      "125/125 [==============================] - 0s 1ms/step - loss: 0.9831 - accuracy: 0.6587 - val_loss: 1.8001 - val_accuracy: 0.2164\n",
      "Epoch 80/100\n",
      "125/125 [==============================] - 0s 1ms/step - loss: 1.0301 - accuracy: 0.6442 - val_loss: 1.1750 - val_accuracy: 0.5485\n",
      "Epoch 81/100\n",
      "125/125 [==============================] - 0s 1ms/step - loss: 0.9004 - accuracy: 0.6635 - val_loss: 0.9799 - val_accuracy: 0.6679\n",
      "Epoch 82/100\n",
      "125/125 [==============================] - 0s 1ms/step - loss: 1.0660 - accuracy: 0.6522 - val_loss: 0.7002 - val_accuracy: 0.7239\n",
      "Epoch 83/100\n",
      "125/125 [==============================] - 0s 1ms/step - loss: 0.9192 - accuracy: 0.6538 - val_loss: 0.9270 - val_accuracy: 0.6978\n",
      "Epoch 84/100\n",
      "125/125 [==============================] - 0s 1ms/step - loss: 0.9428 - accuracy: 0.6587 - val_loss: 1.7760 - val_accuracy: 0.4701\n",
      "Epoch 85/100\n",
      "125/125 [==============================] - 0s 1ms/step - loss: 0.9587 - accuracy: 0.6827 - val_loss: 0.8295 - val_accuracy: 0.6642\n",
      "Epoch 86/100\n",
      "125/125 [==============================] - 0s 1ms/step - loss: 1.0499 - accuracy: 0.6410 - val_loss: 0.6831 - val_accuracy: 0.7164\n",
      "Epoch 87/100\n",
      "125/125 [==============================] - 0s 1ms/step - loss: 0.9294 - accuracy: 0.6795 - val_loss: 0.7274 - val_accuracy: 0.7164\n",
      "Epoch 88/100\n",
      "125/125 [==============================] - 0s 1ms/step - loss: 0.8517 - accuracy: 0.7083 - val_loss: 1.1863 - val_accuracy: 0.6007\n",
      "Epoch 89/100\n",
      "125/125 [==============================] - 0s 1ms/step - loss: 0.9631 - accuracy: 0.6683 - val_loss: 0.9616 - val_accuracy: 0.6791\n",
      "Epoch 90/100\n",
      "125/125 [==============================] - 0s 1ms/step - loss: 0.8203 - accuracy: 0.6859 - val_loss: 0.8871 - val_accuracy: 0.5149\n",
      "Epoch 91/100\n",
      "125/125 [==============================] - 0s 1ms/step - loss: 1.0515 - accuracy: 0.6298 - val_loss: 0.8091 - val_accuracy: 0.6381\n",
      "Epoch 92/100\n",
      "125/125 [==============================] - 0s 1ms/step - loss: 0.9282 - accuracy: 0.6747 - val_loss: 0.8911 - val_accuracy: 0.7313\n",
      "Epoch 93/100\n",
      "125/125 [==============================] - 0s 1ms/step - loss: 0.9709 - accuracy: 0.6875 - val_loss: 0.8751 - val_accuracy: 0.7313\n",
      "Epoch 94/100\n",
      "125/125 [==============================] - 0s 2ms/step - loss: 1.0744 - accuracy: 0.5962 - val_loss: 0.8028 - val_accuracy: 0.7388\n",
      "Epoch 95/100\n",
      "125/125 [==============================] - 0s 2ms/step - loss: 1.0131 - accuracy: 0.6458 - val_loss: 1.2583 - val_accuracy: 0.6343\n",
      "Epoch 96/100\n",
      "125/125 [==============================] - 0s 1ms/step - loss: 0.9623 - accuracy: 0.6827 - val_loss: 0.6975 - val_accuracy: 0.7164\n",
      "Epoch 97/100\n",
      "125/125 [==============================] - 0s 1ms/step - loss: 0.9815 - accuracy: 0.6554 - val_loss: 0.6886 - val_accuracy: 0.7276\n",
      "Epoch 98/100\n",
      "125/125 [==============================] - 0s 1ms/step - loss: 1.0471 - accuracy: 0.6554 - val_loss: 0.8102 - val_accuracy: 0.7425\n",
      "Epoch 99/100\n",
      "125/125 [==============================] - 0s 1ms/step - loss: 0.9318 - accuracy: 0.6554 - val_loss: 1.8294 - val_accuracy: 0.3881\n",
      "Epoch 100/100\n",
      "125/125 [==============================] - 0s 2ms/step - loss: 0.9583 - accuracy: 0.6538 - val_loss: 1.0272 - val_accuracy: 0.7015\n"
     ]
    }
   ],
   "source": [
    "history_kr = model_kr.fit(X_train_kr, y_train_kr, epochs=n_epochs, \n",
    "                          batch_size=batch_size, validation_data=(X_test_kr, y_test_kr))"
   ]
  },
  {
   "cell_type": "code",
   "execution_count": 13,
   "id": "c737a5a3",
   "metadata": {},
   "outputs": [
    {
     "name": "stdout",
     "output_type": "stream",
     "text": [
      "20/20 [==============================] - 0s 938us/step - loss: 1.0208 - accuracy: 0.7212\n",
      "9/9 [==============================] - 0s 1ms/step - loss: 1.0272 - accuracy: 0.7015\n"
     ]
    }
   ],
   "source": [
    "train_loss_kr, train_acc_kr = model_kr.evaluate(X_train_kr, y_train_kr)\n",
    "test_loss_kr, test_acc_kr = model_kr.evaluate(X_test_kr, y_test_kr)"
   ]
  },
  {
   "cell_type": "markdown",
   "id": "6abfa8f3",
   "metadata": {},
   "source": [
    "## Train XGBoost"
   ]
  },
  {
   "cell_type": "code",
   "execution_count": 14,
   "id": "fa8f8665",
   "metadata": {},
   "outputs": [
    {
     "name": "stdout",
     "output_type": "stream",
     "text": [
      "[11:22:00] WARNING: /Users/runner/miniforge3/conda-bld/xgboost-split_1679035096581/work/src/learner.cc:767: \n",
      "Parameters: { \"silent\" } are not used.\n",
      "\n"
     ]
    }
   ],
   "source": [
    "bst = xgb.train(param, dtrain, num_round)\n",
    "preds_train_xg = bst.predict(dtrain)\n",
    "preds_test_xg = bst.predict(dtest)"
   ]
  },
  {
   "cell_type": "markdown",
   "id": "fe5b1b05",
   "metadata": {},
   "source": [
    "## Plot"
   ]
  },
  {
   "cell_type": "code",
   "execution_count": 15,
   "id": "c8dff87e",
   "metadata": {},
   "outputs": [
    {
     "data": {
      "text/plain": [
       "<All keys matched successfully>"
      ]
     },
     "execution_count": 15,
     "metadata": {},
     "output_type": "execute_result"
    }
   ],
   "source": [
    "# Restore Pytorch best model\n",
    "model_pt.load_state_dict(best_weights_pt)"
   ]
  },
  {
   "cell_type": "code",
   "execution_count": 16,
   "id": "63adfc40",
   "metadata": {},
   "outputs": [
    {
     "data": {
      "image/png": "[encoded data removed]",
      "text/plain": [
       "<Figure size 1008x432 with 2 Axes>"
      ]
     },
     "metadata": {
      "needs_background": "light"
     },
     "output_type": "display_data"
    }
   ],
   "source": [
    "#Loss Figures\n",
    "plt.figure(figsize=(14,6))\n",
    "xp=70\n",
    "yp=8\n",
    "\n",
    "#graph parameters\n",
    "ymax=10\n",
    "wsize=15\n",
    "\n",
    "plt.subplot(1, 2, 1)\n",
    "plt.plot(train_loss_pt, label=\"train - Pytorch\")\n",
    "plt.plot(test_loss_pt, label=\"test - Pytorch\", linestyle='--')\n",
    "plt.xlabel(\"epochs\")\n",
    "plt.ylabel(\"cross entropy\")\n",
    "plt.title('Pytorch Loss')\n",
    "plt.text(xp,yp,r'$N_{epoch}$='+str(n_epochs),size=wsize)\n",
    "plt.text(xp-5,yp-1,r'$N_{hidden \\ layers}$='+str(n_hidden),size=wsize)\n",
    "plt.ylim(0,ymax)\n",
    "plt.legend()\n",
    "\n",
    "\n",
    "plt.subplot(1, 2, 2)\n",
    "# Plot the loss and accuracy\n",
    "plt.plot(history_kr.history['loss'], label=\"Train - Keras\", color='darkblue')\n",
    "plt.plot(history_kr.history['val_loss'], label=\"Test - Keras\", color='orangered', linestyle='--')\n",
    "plt.title('Keras Loss')\n",
    "plt.xlabel(\"epochs\")\n",
    "plt.ylabel(\"cross entropy\")\n",
    "plt.ylim(0,ymax)\n",
    "plt.legend()\n",
    "plt.text(xp,yp,r'$N_{epoch}$='+str(n_epochs),size=wsize)\n",
    "plt.text(xp-5,yp-1,r'$N_{hidden \\ layers}$='+str(n_hidden),size=wsize)\n",
    "#plt.show()\n",
    "\n",
    "plt.show()"
   ]
  },
  {
   "cell_type": "code",
   "execution_count": 17,
   "id": "65d266af",
   "metadata": {},
   "outputs": [
    {
     "data": {
      "image/png": "[encoded data removed]",
      "text/plain": [
       "<Figure size 1008x432 with 2 Axes>"
      ]
     },
     "metadata": {
      "needs_background": "light"
     },
     "output_type": "display_data"
    }
   ],
   "source": [
    "#Accuracy Figures\n",
    "plt.figure(figsize=(14,6))\n",
    "xp=70\n",
    "yp=0.4\n",
    "\n",
    "plt.subplot(1, 2, 1)\n",
    "plt.plot(train_acc_pt, label=\"Train - Pytorch\")\n",
    "plt.plot(test_acc_pt, label=\"Test - Pytorch\", linestyle='--')\n",
    "plt.title('Pytorch Model Accuracy')\n",
    "plt.xlabel(\"epochs\")\n",
    "plt.ylabel(\"accuracy\")\n",
    "plt.ylim(0,1)\n",
    "plt.text(xp,yp,r'$N_{epoch}$='+str(n_epochs),size=wsize)\n",
    "plt.text(xp-5,yp-0.1,r'$N_{hidden \\ layers}$='+str(n_hidden),size=wsize)\n",
    "plt.legend()\n",
    "#plt.show()\n",
    "\n",
    "plt.subplot(1, 2, 2)\n",
    "plt.plot(history_kr.history['accuracy'], label=\"Train - Keras\", color='darkblue')\n",
    "plt.plot(history_kr.history['val_accuracy'], label=\"Test - Keras\", color='orangered', linestyle='--')\n",
    "plt.title('Keras Model Accuracy')\n",
    "plt.ylabel('accuracy')\n",
    "plt.xlabel('epoch')\n",
    "plt.ylim(0,1)\n",
    "plt.text(xp,yp,r'$N_{epoch}$='+str(n_epochs),size=wsize)\n",
    "plt.text(xp-5,yp-0.1,r'$N_{hidden \\ layers}$='+str(n_hidden),size=wsize)\n",
    "plt.legend()\n",
    "\n",
    "plt.show()"
   ]
  },
  {
   "cell_type": "markdown",
   "id": "1ee9f8d5",
   "metadata": {},
   "source": [
    "## Evaluation Metrics"
   ]
  },
  {
   "cell_type": "code",
   "execution_count": 18,
   "id": "ba4b9845",
   "metadata": {},
   "outputs": [
    {
     "name": "stdout",
     "output_type": "stream",
     "text": [
      "Train Accuracy\n",
      "Pytorch Train Accuracy:  0.6725806566255708  | Pytorch Train Loss:  1.490316902858115\n",
      "Keras Train Accuracy:  0.7211538553237915  | Keras Train Loss:  1.0208295583724976\n",
      "XGBoost Train Accuracy: 0.9775641025641025\n",
      " \n",
      "Test Accuracy\n",
      "Pytorch Test Accuracy:  0.75  | Pytorch Test Loss:  0.9230701923370361\n",
      "Keras Test Accuracy:  0.7014925479888916  | Keras Test Loss:  1.0272098779678345\n",
      "XGBoost Test Accuracy: 0.7574626865671642\n"
     ]
    }
   ],
   "source": [
    "print(\"Train Accuracy\")\n",
    "print('Pytorch Train Accuracy: ', max(train_acc_pt), ' | Pytorch Train Loss: ', min(train_loss_pt))\n",
    "print('Keras Train Accuracy: ', train_acc_kr, ' | Keras Train Loss: ', train_loss_kr)\n",
    "\n",
    "# extracting most confident predictions\n",
    "best_preds_train_xg = np.asarray([np.argmax(line) for line in preds_train_xg])\n",
    "#print(\"Train precision:\", precision_score(y_train, best_preds_train, average='macro'))\n",
    "print(\"XGBoost Train Accuracy:\", accuracy_score(y_train_xg, best_preds_train_xg))\n",
    "\n",
    "print(\" \")\n",
    "print(\"Test Accuracy\")\n",
    "\n",
    "print('Pytorch Test Accuracy: ', max(test_acc_pt), ' | Pytorch Test Loss: ', min(test_loss_pt))\n",
    "print('Keras Test Accuracy: ', test_acc_kr, ' | Keras Test Loss: ', test_loss_kr)\n",
    "# extracting most confident predictions\n",
    "best_preds_test_xg = np.asarray([np.argmax(line) for line in preds_test_xg])\n",
    "#print(\"Test precision:\", precision_score(y_test, best_preds, average='macro'))\n",
    "print(\"XGBoost Test Accuracy:\", accuracy_score(y_test_xg, best_preds_test_xg))\n",
    "\n",
    "#preds = bst.predict(dtest)\n",
    "#best_preds = np.asarray([np.argmax(line) for line in preds])\n",
    "      "
   ]
  },
  {
   "cell_type": "code",
   "execution_count": 19,
   "id": "66510690",
   "metadata": {},
   "outputs": [
    {
     "data": {
      "text/plain": [
       "\"\\n#XGBoost Model Dumping\\n# dump the models\\nbst.dump_model('dump.raw.txt')\\nbst_svm.dump_model('dump_svm.raw.txt')\\n\\n# save the models for later\\njoblib.dump(bst, 'bst_model.pkl', compress=True)\\njoblib.dump(bst_svm, 'bst_svm_model.pkl', compress=True)\\n\""
      ]
     },
     "execution_count": 19,
     "metadata": {},
     "output_type": "execute_result"
    }
   ],
   "source": [
    "'''\n",
    "#XGBoost Model Dumping\n",
    "# dump the models\n",
    "bst.dump_model('dump.raw.txt')\n",
    "bst_svm.dump_model('dump_svm.raw.txt')\n",
    "\n",
    "# save the models for later\n",
    "joblib.dump(bst, 'bst_model.pkl', compress=True)\n",
    "joblib.dump(bst_svm, 'bst_svm_model.pkl', compress=True)\n",
    "'''"
   ]
  }
 ],
 "metadata": {
  "kernelspec": {
   "display_name": "Python 3 (ipykernel)",
   "language": "python",
   "name": "python3"
  },
  "language_info": {
   "codemirror_mode": {
    "name": "ipython",
    "version": 3
   },
   "file_extension": ".py",
   "mimetype": "text/x-python",
   "name": "python",
   "nbconvert_exporter": "python",
   "pygments_lexer": "ipython3",
   "version": "3.8.12"
  }
 },
 "nbformat": 4,
 "nbformat_minor": 5
}
