{
 "cells": [
  {
   "cell_type": "code",
   "execution_count": 1,
   "id": "923a0e2d",
   "metadata": {},
   "outputs": [],
   "source": [
    "import pandas as pd\n",
    "import numpy as np\n",
    "import matplotlib.pyplot as plt\n",
    "import seaborn as sns\n",
    "sns.set_style('darkgrid')\n",
    "%matplotlib inline"
   ]
  },
  {
   "cell_type": "code",
   "execution_count": 2,
   "id": "239cb839",
   "metadata": {},
   "outputs": [],
   "source": [
    "df_big = pd.read_csv('PSCompPars_2023.02.26_13.35.18.csv')#, sep=',', on_bad_lines='skip')"
   ]
  },
  {
   "cell_type": "code",
   "execution_count": 4,
   "id": "39bda036",
   "metadata": {},
   "outputs": [
    {
     "data": {
      "text/html": [
       "<div>\n",
       "<style scoped>\n",
       "    .dataframe tbody tr th:only-of-type {\n",
       "        vertical-align: middle;\n",
       "    }\n",
       "\n",
       "    .dataframe tbody tr th {\n",
       "        vertical-align: top;\n",
       "    }\n",
       "\n",
       "    .dataframe thead th {\n",
       "        text-align: right;\n",
       "    }\n",
       "</style>\n",
       "<table border=\"1\" class=\"dataframe\">\n",
       "  <thead>\n",
       "    <tr style=\"text-align: right;\">\n",
       "      <th></th>\n",
       "      <th>pl_name</th>\n",
       "      <th>hostname</th>\n",
       "      <th>sy_snum</th>\n",
       "      <th>sy_pnum</th>\n",
       "      <th>discoverymethod</th>\n",
       "      <th>disc_year</th>\n",
       "      <th>disc_facility</th>\n",
       "      <th>rv_flag</th>\n",
       "      <th>tran_flag</th>\n",
       "      <th>pl_controv_flag</th>\n",
       "      <th>...</th>\n",
       "      <th>st_rad</th>\n",
       "      <th>st_mass</th>\n",
       "      <th>st_met</th>\n",
       "      <th>st_metratio</th>\n",
       "      <th>st_logg</th>\n",
       "      <th>rastr</th>\n",
       "      <th>ra</th>\n",
       "      <th>decstr</th>\n",
       "      <th>dec</th>\n",
       "      <th>sy_dist</th>\n",
       "    </tr>\n",
       "  </thead>\n",
       "  <tbody>\n",
       "    <tr>\n",
       "      <th>0</th>\n",
       "      <td>11 Com b</td>\n",
       "      <td>11 Com</td>\n",
       "      <td>2</td>\n",
       "      <td>1</td>\n",
       "      <td>Radial Velocity</td>\n",
       "      <td>2007</td>\n",
       "      <td>Xinglong Station</td>\n",
       "      <td>1</td>\n",
       "      <td>0</td>\n",
       "      <td>0</td>\n",
       "      <td>...</td>\n",
       "      <td>19.00</td>\n",
       "      <td>2.70</td>\n",
       "      <td>-0.350</td>\n",
       "      <td>[Fe/H]</td>\n",
       "      <td>2.31</td>\n",
       "      <td>12h20m42.91s</td>\n",
       "      <td>185.178779</td>\n",
       "      <td>+17d47m35.71s</td>\n",
       "      <td>17.793252</td>\n",
       "      <td>93.1846</td>\n",
       "    </tr>\n",
       "    <tr>\n",
       "      <th>1</th>\n",
       "      <td>11 UMi b</td>\n",
       "      <td>11 UMi</td>\n",
       "      <td>1</td>\n",
       "      <td>1</td>\n",
       "      <td>Radial Velocity</td>\n",
       "      <td>2009</td>\n",
       "      <td>Thueringer Landessternwarte Tautenburg</td>\n",
       "      <td>1</td>\n",
       "      <td>0</td>\n",
       "      <td>0</td>\n",
       "      <td>...</td>\n",
       "      <td>29.79</td>\n",
       "      <td>2.78</td>\n",
       "      <td>-0.020</td>\n",
       "      <td>[Fe/H]</td>\n",
       "      <td>1.93</td>\n",
       "      <td>15h17m05.90s</td>\n",
       "      <td>229.274595</td>\n",
       "      <td>+71d49m26.19s</td>\n",
       "      <td>71.823943</td>\n",
       "      <td>125.3210</td>\n",
       "    </tr>\n",
       "    <tr>\n",
       "      <th>2</th>\n",
       "      <td>14 And b</td>\n",
       "      <td>14 And</td>\n",
       "      <td>1</td>\n",
       "      <td>1</td>\n",
       "      <td>Radial Velocity</td>\n",
       "      <td>2008</td>\n",
       "      <td>Okayama Astrophysical Observatory</td>\n",
       "      <td>1</td>\n",
       "      <td>0</td>\n",
       "      <td>0</td>\n",
       "      <td>...</td>\n",
       "      <td>11.00</td>\n",
       "      <td>2.20</td>\n",
       "      <td>-0.240</td>\n",
       "      <td>[Fe/H]</td>\n",
       "      <td>2.63</td>\n",
       "      <td>23h31m17.80s</td>\n",
       "      <td>352.824150</td>\n",
       "      <td>+39d14m09.01s</td>\n",
       "      <td>39.235837</td>\n",
       "      <td>75.4392</td>\n",
       "    </tr>\n",
       "    <tr>\n",
       "      <th>3</th>\n",
       "      <td>14 Her b</td>\n",
       "      <td>14 Her</td>\n",
       "      <td>1</td>\n",
       "      <td>2</td>\n",
       "      <td>Radial Velocity</td>\n",
       "      <td>2002</td>\n",
       "      <td>W. M. Keck Observatory</td>\n",
       "      <td>1</td>\n",
       "      <td>0</td>\n",
       "      <td>0</td>\n",
       "      <td>...</td>\n",
       "      <td>0.93</td>\n",
       "      <td>0.91</td>\n",
       "      <td>0.405</td>\n",
       "      <td>[Fe/H]</td>\n",
       "      <td>4.45</td>\n",
       "      <td>16h10m24.50s</td>\n",
       "      <td>242.602101</td>\n",
       "      <td>+43d48m58.90s</td>\n",
       "      <td>43.816362</td>\n",
       "      <td>17.9323</td>\n",
       "    </tr>\n",
       "    <tr>\n",
       "      <th>4</th>\n",
       "      <td>16 Cyg B b</td>\n",
       "      <td>16 Cyg B</td>\n",
       "      <td>3</td>\n",
       "      <td>1</td>\n",
       "      <td>Radial Velocity</td>\n",
       "      <td>1996</td>\n",
       "      <td>Multiple Observatories</td>\n",
       "      <td>1</td>\n",
       "      <td>0</td>\n",
       "      <td>0</td>\n",
       "      <td>...</td>\n",
       "      <td>1.13</td>\n",
       "      <td>1.08</td>\n",
       "      <td>0.060</td>\n",
       "      <td>[Fe/H]</td>\n",
       "      <td>4.36</td>\n",
       "      <td>19h41m51.75s</td>\n",
       "      <td>295.465642</td>\n",
       "      <td>+50d31m00.57s</td>\n",
       "      <td>50.516824</td>\n",
       "      <td>21.1397</td>\n",
       "    </tr>\n",
       "  </tbody>\n",
       "</table>\n",
       "<p>5 rows × 33 columns</p>\n",
       "</div>"
      ],
      "text/plain": [
       "      pl_name  hostname  sy_snum  sy_pnum  discoverymethod  disc_year  \\\n",
       "0    11 Com b    11 Com        2        1  Radial Velocity       2007   \n",
       "1    11 UMi b    11 UMi        1        1  Radial Velocity       2009   \n",
       "2    14 And b    14 And        1        1  Radial Velocity       2008   \n",
       "3    14 Her b    14 Her        1        2  Radial Velocity       2002   \n",
       "4  16 Cyg B b  16 Cyg B        3        1  Radial Velocity       1996   \n",
       "\n",
       "                            disc_facility  rv_flag  tran_flag  \\\n",
       "0                        Xinglong Station        1          0   \n",
       "1  Thueringer Landessternwarte Tautenburg        1          0   \n",
       "2       Okayama Astrophysical Observatory        1          0   \n",
       "3                  W. M. Keck Observatory        1          0   \n",
       "4                  Multiple Observatories        1          0   \n",
       "\n",
       "   pl_controv_flag  ...  st_rad  st_mass  st_met  st_metratio  st_logg  \\\n",
       "0                0  ...   19.00     2.70  -0.350       [Fe/H]     2.31   \n",
       "1                0  ...   29.79     2.78  -0.020       [Fe/H]     1.93   \n",
       "2                0  ...   11.00     2.20  -0.240       [Fe/H]     2.63   \n",
       "3                0  ...    0.93     0.91   0.405       [Fe/H]     4.45   \n",
       "4                0  ...    1.13     1.08   0.060       [Fe/H]     4.36   \n",
       "\n",
       "          rastr          ra         decstr        dec   sy_dist  \n",
       "0  12h20m42.91s  185.178779  +17d47m35.71s  17.793252   93.1846  \n",
       "1  15h17m05.90s  229.274595  +71d49m26.19s  71.823943  125.3210  \n",
       "2  23h31m17.80s  352.824150  +39d14m09.01s  39.235837   75.4392  \n",
       "3  16h10m24.50s  242.602101  +43d48m58.90s  43.816362   17.9323  \n",
       "4  19h41m51.75s  295.465642  +50d31m00.57s  50.516824   21.1397  \n",
       "\n",
       "[5 rows x 33 columns]"
      ]
     },
     "execution_count": 4,
     "metadata": {},
     "output_type": "execute_result"
    }
   ],
   "source": [
    "df_big.head(5)"
   ]
  },
  {
   "cell_type": "code",
   "execution_count": 5,
   "id": "d75c4d15",
   "metadata": {},
   "outputs": [],
   "source": [
    "st_rad = df_big['st_rad'].iloc[:].values\n",
    "st_teff = df_big['st_teff'].iloc[:].values"
   ]
  },
  {
   "cell_type": "code",
   "execution_count": 10,
   "id": "a1aae382",
   "metadata": {},
   "outputs": [],
   "source": [
    "df_big['log_st_rad'] = np.log10(st_rad)"
   ]
  },
  {
   "cell_type": "code",
   "execution_count": 13,
   "id": "532f95ff",
   "metadata": {},
   "outputs": [
    {
     "data": {
      "text/plain": [
       "<AxesSubplot:xlabel='log_st_rad', ylabel='st_teff'>"
      ]
     },
     "execution_count": 13,
     "metadata": {},
     "output_type": "execute_result"
    },
    {
     "data": {
      "image/png": "[encoded data removed]",
      "text/plain": [
       "<Figure size 432x288 with 1 Axes>"
      ]
     },
     "metadata": {
      "needs_background": "light"
     },
     "output_type": "display_data"
    }
   ],
   "source": [
    "df_big[df_big['st_teff']<15000].plot.scatter(x='log_st_rad',y='st_teff')"
   ]
  },
  {
   "cell_type": "code",
   "execution_count": null,
   "id": "9270831d",
   "metadata": {},
   "outputs": [],
   "source": []
  }
 ],
 "metadata": {
  "kernelspec": {
   "display_name": "Python 3 (ipykernel)",
   "language": "python",
   "name": "python3"
  },
  "language_info": {
   "codemirror_mode": {
    "name": "ipython",
    "version": 3
   },
   "file_extension": ".py",
   "mimetype": "text/x-python",
   "name": "python",
   "nbconvert_exporter": "python",
   "pygments_lexer": "ipython3",
   "version": "3.8.12"
  }
 },
 "nbformat": 4,
 "nbformat_minor": 5
}
