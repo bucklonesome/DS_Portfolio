{
 "cells": [
  {
   "cell_type": "markdown",
   "id": "139187e6",
   "metadata": {},
   "source": [
    "So as to be transparent, I base the following analysis from my lecture notes and examples from the following Udemy courses: \n",
    "\n",
    "***Python for Data Science and Machine Learning Bootcamp*** by Jose Portilla\n",
    "\n",
    "***Machine Learning Classification Bootcamp in Python*** by Dr. Ryan Ahmed, Ph.D., MBA\n",
    "\n",
    "as well as chunks of code gleaned from similar studies on Kaggle. Note this data set was aquired outside of these courses. The code here also has been modified from the original sources as it applies to this specific work, as well as to differentiate it from the course content.\n",
    "\n",
    "Other helpful sources: https://thatascience.com/learn-machine-learning/bag-of-words/\n"
   ]
  },
  {
   "cell_type": "markdown",
   "id": "2377c501",
   "metadata": {},
   "source": [
    "Web Scraping tips for future iterations: https://realpython.com/python-web-scraping-practical-introduction/"
   ]
  },
  {
   "cell_type": "markdown",
   "id": "0fd0fc89",
   "metadata": {},
   "source": [
    "Also to be transparent, **Country Lyric Analysis** ( https://countrylyricanalysis.com/ ) is a far more advanced, user-forward, website that already exists. My inspiratiI was aware of results from this project when thinking of my own project, whi"
   ]
  },
  {
   "cell_type": "code",
   "execution_count": 1,
   "id": "ecddab75",
   "metadata": {},
   "outputs": [],
   "source": [
    "import pandas as pd\n",
    "import seaborn as sns\n",
    "import matplotlib.pyplot as plt\n",
    "import numpy as np\n",
    "%matplotlib inline"
   ]
  },
  {
   "cell_type": "code",
   "execution_count": 2,
   "id": "699fbc2e",
   "metadata": {},
   "outputs": [],
   "source": [
    "df = pd.read_csv('CountrySongs.csv')"
   ]
  },
  {
   "cell_type": "code",
   "execution_count": 3,
   "id": "8a80f755",
   "metadata": {},
   "outputs": [
    {
     "data": {
      "text/html": [
       "<div>\n",
       "<style scoped>\n",
       "    .dataframe tbody tr th:only-of-type {\n",
       "        vertical-align: middle;\n",
       "    }\n",
       "\n",
       "    .dataframe tbody tr th {\n",
       "        vertical-align: top;\n",
       "    }\n",
       "\n",
       "    .dataframe thead th {\n",
       "        text-align: right;\n",
       "    }\n",
       "</style>\n",
       "<table border=\"1\" class=\"dataframe\">\n",
       "  <thead>\n",
       "    <tr style=\"text-align: right;\">\n",
       "      <th></th>\n",
       "      <th>Artist</th>\n",
       "      <th>Song</th>\n",
       "      <th>Lyrics</th>\n",
       "      <th>Year</th>\n",
       "    </tr>\n",
       "  </thead>\n",
       "  <tbody>\n",
       "    <tr>\n",
       "      <th>0</th>\n",
       "      <td>Hank Williams</td>\n",
       "      <td>Lovesick Blues</td>\n",
       "      <td>I got a feelin' called the blues, oh Lord\\nSin...</td>\n",
       "      <td>1949</td>\n",
       "    </tr>\n",
       "    <tr>\n",
       "      <th>1</th>\n",
       "      <td>Hank Snow</td>\n",
       "      <td>I'm Moving' On</td>\n",
       "      <td>That big eight-wheeler, rollin' down the track...</td>\n",
       "      <td>1950</td>\n",
       "    </tr>\n",
       "    <tr>\n",
       "      <th>2</th>\n",
       "      <td>Lefty Frizzell</td>\n",
       "      <td>If You've Got the Money I've Got the Time</td>\n",
       "      <td>If you've got the money, I've got the time\\nWe...</td>\n",
       "      <td>1950</td>\n",
       "    </tr>\n",
       "    <tr>\n",
       "      <th>3</th>\n",
       "      <td>George Jones</td>\n",
       "      <td>White Lightning</td>\n",
       "      <td>Well in North Carolina way back in the hills m...</td>\n",
       "      <td>1959</td>\n",
       "    </tr>\n",
       "    <tr>\n",
       "      <th>4</th>\n",
       "      <td>Buck Owens</td>\n",
       "      <td>Love's Gonna Live Here</td>\n",
       "      <td>Oh the sun's gonna shine, in my life once more...</td>\n",
       "      <td>1963</td>\n",
       "    </tr>\n",
       "  </tbody>\n",
       "</table>\n",
       "</div>"
      ],
      "text/plain": [
       "           Artist                                       Song  \\\n",
       "0   Hank Williams                             Lovesick Blues   \n",
       "1       Hank Snow                             I'm Moving' On   \n",
       "2  Lefty Frizzell  If You've Got the Money I've Got the Time   \n",
       "3    George Jones                            White Lightning   \n",
       "4      Buck Owens                     Love's Gonna Live Here   \n",
       "\n",
       "                                              Lyrics  Year  \n",
       "0  I got a feelin' called the blues, oh Lord\\nSin...  1949  \n",
       "1  That big eight-wheeler, rollin' down the track...  1950  \n",
       "2  If you've got the money, I've got the time\\nWe...  1950  \n",
       "3  Well in North Carolina way back in the hills m...  1959  \n",
       "4  Oh the sun's gonna shine, in my life once more...  1963  "
      ]
     },
     "execution_count": 3,
     "metadata": {},
     "output_type": "execute_result"
    }
   ],
   "source": [
    "df.head(5)"
   ]
  },
  {
   "cell_type": "code",
   "execution_count": 6,
   "id": "b774e0fa",
   "metadata": {},
   "outputs": [],
   "source": [
    "df2 = df.copy()\n",
    "Y_Class = df2['Artist'].iloc[:].values\n",
    "#Y_Class = np.chararray(len(df['Artist']))\n",
    "\n",
    "Y_Class[df['Year'] < 2000] = 'Pre-Millenium'\n",
    "Y_Class[df['Year'] >= 2000] = 'Post-Millenium'\n",
    "df['Y_Class'] = Y_Class"
   ]
  },
  {
   "cell_type": "code",
   "execution_count": 7,
   "id": "75e773c7",
   "metadata": {},
   "outputs": [
    {
     "data": {
      "text/html": [
       "<div>\n",
       "<style scoped>\n",
       "    .dataframe tbody tr th:only-of-type {\n",
       "        vertical-align: middle;\n",
       "    }\n",
       "\n",
       "    .dataframe tbody tr th {\n",
       "        vertical-align: top;\n",
       "    }\n",
       "\n",
       "    .dataframe thead th {\n",
       "        text-align: right;\n",
       "    }\n",
       "</style>\n",
       "<table border=\"1\" class=\"dataframe\">\n",
       "  <thead>\n",
       "    <tr style=\"text-align: right;\">\n",
       "      <th></th>\n",
       "      <th>Artist</th>\n",
       "      <th>Song</th>\n",
       "      <th>Lyrics</th>\n",
       "      <th>Year</th>\n",
       "      <th>Y_Class</th>\n",
       "    </tr>\n",
       "  </thead>\n",
       "  <tbody>\n",
       "    <tr>\n",
       "      <th>0</th>\n",
       "      <td>Hank Williams</td>\n",
       "      <td>Lovesick Blues</td>\n",
       "      <td>I got a feelin' called the blues, oh Lord\\nSin...</td>\n",
       "      <td>1949</td>\n",
       "      <td>Pre-Millenium</td>\n",
       "    </tr>\n",
       "    <tr>\n",
       "      <th>1</th>\n",
       "      <td>Hank Snow</td>\n",
       "      <td>I'm Moving' On</td>\n",
       "      <td>That big eight-wheeler, rollin' down the track...</td>\n",
       "      <td>1950</td>\n",
       "      <td>Pre-Millenium</td>\n",
       "    </tr>\n",
       "    <tr>\n",
       "      <th>2</th>\n",
       "      <td>Lefty Frizzell</td>\n",
       "      <td>If You've Got the Money I've Got the Time</td>\n",
       "      <td>If you've got the money, I've got the time\\nWe...</td>\n",
       "      <td>1950</td>\n",
       "      <td>Pre-Millenium</td>\n",
       "    </tr>\n",
       "    <tr>\n",
       "      <th>3</th>\n",
       "      <td>George Jones</td>\n",
       "      <td>White Lightning</td>\n",
       "      <td>Well in North Carolina way back in the hills m...</td>\n",
       "      <td>1959</td>\n",
       "      <td>Pre-Millenium</td>\n",
       "    </tr>\n",
       "    <tr>\n",
       "      <th>4</th>\n",
       "      <td>Buck Owens</td>\n",
       "      <td>Love's Gonna Live Here</td>\n",
       "      <td>Oh the sun's gonna shine, in my life once more...</td>\n",
       "      <td>1963</td>\n",
       "      <td>Pre-Millenium</td>\n",
       "    </tr>\n",
       "  </tbody>\n",
       "</table>\n",
       "</div>"
      ],
      "text/plain": [
       "           Artist                                       Song  \\\n",
       "0   Hank Williams                             Lovesick Blues   \n",
       "1       Hank Snow                             I'm Moving' On   \n",
       "2  Lefty Frizzell  If You've Got the Money I've Got the Time   \n",
       "3    George Jones                            White Lightning   \n",
       "4      Buck Owens                     Love's Gonna Live Here   \n",
       "\n",
       "                                              Lyrics  Year        Y_Class  \n",
       "0  I got a feelin' called the blues, oh Lord\\nSin...  1949  Pre-Millenium  \n",
       "1  That big eight-wheeler, rollin' down the track...  1950  Pre-Millenium  \n",
       "2  If you've got the money, I've got the time\\nWe...  1950  Pre-Millenium  \n",
       "3  Well in North Carolina way back in the hills m...  1959  Pre-Millenium  \n",
       "4  Oh the sun's gonna shine, in my life once more...  1963  Pre-Millenium  "
      ]
     },
     "execution_count": 7,
     "metadata": {},
     "output_type": "execute_result"
    }
   ],
   "source": [
    "df.head(5)"
   ]
  },
  {
   "cell_type": "code",
   "execution_count": 9,
   "id": "b66949e4",
   "metadata": {},
   "outputs": [
    {
     "data": {
      "text/plain": [
       "<AxesSubplot:xlabel='Y_Class', ylabel='count'>"
      ]
     },
     "execution_count": 9,
     "metadata": {},
     "output_type": "execute_result"
    },
    {
     "data": {
      "image/png": "[encoded data removed]",
      "text/plain": [
       "<Figure size 432x288 with 1 Axes>"
      ]
     },
     "metadata": {
      "needs_background": "light"
     },
     "output_type": "display_data"
    }
   ],
   "source": [
    "#plt.figure(figsize=(40,15))\n",
    "#plt.rcParams['font.size'] = 30\n",
    "sns.countplot(x = 'Y_Class', data=df)"
   ]
  },
  {
   "cell_type": "code",
   "execution_count": null,
   "id": "8a695feb",
   "metadata": {},
   "outputs": [],
   "source": [
    "df = df.drop(['Artist','Song','Year'],axis=1)"
   ]
  },
  {
   "cell_type": "code",
   "execution_count": null,
   "id": "ebb978d5",
   "metadata": {},
   "outputs": [],
   "source": [
    "df.head(5)"
   ]
  },
  {
   "cell_type": "code",
   "execution_count": null,
   "id": "73788f04",
   "metadata": {},
   "outputs": [],
   "source": [
    "Xt = df['Lyrics'].iloc[:].values\n",
    "y = df['Y_Class'].iloc[:].values"
   ]
  },
  {
   "cell_type": "code",
   "execution_count": null,
   "id": "24115d49",
   "metadata": {},
   "outputs": [],
   "source": [
    "from sklearn.feature_extraction.text import CountVectorizer\n",
    "thecount=CountVectorizer(stop_words='english')"
   ]
  },
  {
   "cell_type": "markdown",
   "id": "eec03ca5",
   "metadata": {},
   "source": [
    "### *\"In a statement, Hedley describes the Nineties as “the last bastion of country music,” an era where “You could turn on the radio and immediately know you’re hearing a country song. You could still hear steel guitar and fiddle. But there was a hard fork around 1996 or ‘97, when country veered off into pop territory.”\"* \n",
    "#### - Joshua Hedley, Rolling Stone magazine Feb 4, 2022 https://www.rollingstone.com/music/music-country/joshua-hedley-neon-blue-1295216/"
   ]
  },
  {
   "cell_type": "markdown",
   "id": "8b1ba475",
   "metadata": {},
   "source": [
    "## I want to include another test, beyond the test, so I need to include that in the vectorization."
   ]
  },
  {
   "cell_type": "code",
   "execution_count": null,
   "id": "efd90b73",
   "metadata": {},
   "outputs": [],
   "source": [
    "#Use Josh Hedley as a test case (old styles, new music)\n",
    "\n",
    "X_hedley_t=np.array([\"Feed me nickels, feed me dimes I'll play your favorite song just one more time I'm right here in the corner anytime you're feeling blue If you've got a new romance Well I've got the perfect dance If you need me I'll be here, I'm Mr. Jukebox This old barroom is my home It's the only one I've known I've been here since I was a little boy Singing songs that people know I watch them dancing to and fro While the music plays new lovers find their joy Feed me nickels, feed me dimes I'll play your favorite song just one more time I'm right here in the corner anytime you're feeling blue If you've got a new romance Well I've got the perfect dance If you need me I'll be here, I'm Mr. Jukebox Every night at closing time Johnny's down to his last dime Still he manages to buy another round I watch him clinging to the past As I play there stands the glass You can almost hear the teardrops hit the ground Feed me nickels, feed me dimes I'll play your favorite song just one more time I'm right here in the corner anytime you're feeling blue If you've got a new romance Well I've got the perfect dance If you need me I'll be here, I'm Mr. Jukebox\", \"Well it was off to the races after that first dance I knew where we were headed if she'd give me the chance A little Friday night loving how could I lose Well I should've heard it coming like a train down the track Must've been in a hurry cause in no time flat She turned my honky tonk heart neon blue Neon blue, Neon blue That girl knew how to paint me a fool She turned my honky tonk heart neon blue If lonely was a color it would look like me Drinking double shots of whiskey while the jukebox sings Another song about heartache and an old bar stool Well the next thing I remember was red tail lights Yeah that long-gone baby with them deep green eyes She turned my honky tonk heart neon blue Neon blue, Neon blue That girl knew how to paint me a fool She turned my honky tonk heart neon blue Neon blue, Neon blue That girl knew how to paint me a fool She turned my honky tonk heart neon blue Bluer than the ocean, bluer than the skies Bluer than the sound of a steel guitar crying Why she up and left guess I'll never know why She turned my honky tonk heart neon blue\"])"
   ]
  },
  {
   "cell_type": "code",
   "execution_count": null,
   "id": "2fce5bbd",
   "metadata": {},
   "outputs": [],
   "source": [
    "Xt_tot = Xt.copy()"
   ]
  },
  {
   "cell_type": "code",
   "execution_count": null,
   "id": "fc19b337",
   "metadata": {},
   "outputs": [],
   "source": [
    "Xt_tot = np.append(Xt_tot,X_hedley_t)"
   ]
  },
  {
   "cell_type": "code",
   "execution_count": null,
   "id": "af483de4",
   "metadata": {},
   "outputs": [],
   "source": [
    "X_tot = thecount.fit_transform(Xt_tot)"
   ]
  },
  {
   "cell_type": "code",
   "execution_count": null,
   "id": "2c154b48",
   "metadata": {},
   "outputs": [],
   "source": [
    "#https://thatascience.com/learn-machine-learning/bag-of-words/\n",
    "bow = pd.DataFrame(X_tot.toarray(), columns = thecount.get_feature_names())\n",
    "bow.head(5)"
   ]
  },
  {
   "cell_type": "code",
   "execution_count": null,
   "id": "5b73c893",
   "metadata": {},
   "outputs": [],
   "source": [
    "featnames = thecount.get_feature_names()"
   ]
  },
  {
   "cell_type": "code",
   "execution_count": null,
   "id": "826eca8d",
   "metadata": {},
   "outputs": [],
   "source": [
    "#drop the numbers\n",
    "\n",
    "featnames = featnames[4:]\n",
    "X = X_tot[:-2,4:]\n",
    "X_hedley = X_tot[-2:,4:]"
   ]
  },
  {
   "cell_type": "code",
   "execution_count": null,
   "id": "3f9ca562",
   "metadata": {},
   "outputs": [],
   "source": [
    "#https://thatascience.com/learn-machine-learning/bag-of-words/\n",
    "bow2 = pd.DataFrame(X.toarray(), columns = featnames)\n",
    "bow2.head(5)"
   ]
  },
  {
   "cell_type": "code",
   "execution_count": null,
   "id": "28b70509",
   "metadata": {},
   "outputs": [],
   "source": [
    "from sklearn.model_selection import train_test_split\n",
    "\n",
    "X_train, X_test, y_train, y_test = train_test_split(X, y, test_size=0.3, random_state=101)"
   ]
  },
  {
   "cell_type": "code",
   "execution_count": null,
   "id": "536b1af4",
   "metadata": {},
   "outputs": [],
   "source": [
    "from sklearn.naive_bayes import MultinomialNB\n",
    "nb=MultinomialNB()"
   ]
  },
  {
   "cell_type": "code",
   "execution_count": null,
   "id": "c2b0029a",
   "metadata": {},
   "outputs": [],
   "source": [
    "themodel=nb.fit(X_train,y_train)"
   ]
  },
  {
   "cell_type": "code",
   "execution_count": null,
   "id": "d00b80fa",
   "metadata": {},
   "outputs": [],
   "source": [
    "y_pred = themodel.predict(X_test)"
   ]
  },
  {
   "cell_type": "code",
   "execution_count": null,
   "id": "bb04c87e",
   "metadata": {},
   "outputs": [],
   "source": [
    "from sklearn.metrics import classification_report,confusion_matrix"
   ]
  },
  {
   "cell_type": "code",
   "execution_count": null,
   "id": "3d9c1274",
   "metadata": {},
   "outputs": [],
   "source": [
    "print(classification_report(y_test,y_pred))"
   ]
  },
  {
   "cell_type": "code",
   "execution_count": null,
   "id": "5fd356ee",
   "metadata": {},
   "outputs": [],
   "source": [
    "print(confusion_matrix(y_test,y_pred))"
   ]
  },
  {
   "cell_type": "code",
   "execution_count": null,
   "id": "2be9dd81",
   "metadata": {},
   "outputs": [],
   "source": [
    "y_predict_test = nb.predict(X_test)\n",
    "cm_test = confusion_matrix(y_test, y_predict_test)\n",
    "print(\"Test Set - Heatmap\")\n",
    "sns.heatmap(cm_test, annot=True)"
   ]
  },
  {
   "cell_type": "code",
   "execution_count": null,
   "id": "6c6604a6",
   "metadata": {},
   "outputs": [],
   "source": [
    "y_predict_train = nb.predict(X_train)\n",
    "y_predict_train\n",
    "cm_train = confusion_matrix(y_train, y_predict_train)\n",
    "print(\"Training Set - Heatmap\")\n",
    "sns.heatmap(cm_train, annot=True)"
   ]
  },
  {
   "cell_type": "markdown",
   "id": "34151e68",
   "metadata": {},
   "source": [
    "# Do the Hedley Test"
   ]
  },
  {
   "cell_type": "code",
   "execution_count": null,
   "id": "c56d8c2f",
   "metadata": {},
   "outputs": [],
   "source": [
    "hed_pred = themodel.predict(X_hedley)"
   ]
  },
  {
   "cell_type": "code",
   "execution_count": null,
   "id": "7b4afb13",
   "metadata": {},
   "outputs": [],
   "source": [
    "X_hedley.shape"
   ]
  },
  {
   "cell_type": "code",
   "execution_count": null,
   "id": "92c21df4",
   "metadata": {},
   "outputs": [],
   "source": [
    "hed_pred"
   ]
  }
 ],
 "metadata": {
  "kernelspec": {
   "display_name": "Python 3 (ipykernel)",
   "language": "python",
   "name": "python3"
  },
  "language_info": {
   "codemirror_mode": {
    "name": "ipython",
    "version": 3
   },
   "file_extension": ".py",
   "mimetype": "text/x-python",
   "name": "python",
   "nbconvert_exporter": "python",
   "pygments_lexer": "ipython3",
   "version": "3.8.12"
  }
 },
 "nbformat": 4,
 "nbformat_minor": 5
}
